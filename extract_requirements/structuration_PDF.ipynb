{
 "cells": [
  {
   "cell_type": "markdown",
   "metadata": {},
   "source": [
    "#   Check the raedme file for more information \n",
    "\n",
    "\n",
    "## pdf_structuration_readme.md\n",
    "\n",
    "* you need to read the readme file to understand how to use the code and the rolle of each file\n",
    "\n",
    "* you can use the lighning ia to run all the content in the notebook you can create a simple account \n",
    "\n",
    "* and the free version is enough lighning.ia"
   ]
  },
  {
   "cell_type": "code",
   "execution_count": null,
   "metadata": {},
   "outputs": [],
   "source": [
    "!pip install PyPDF2 pdfplumber spacy matplotlib pillow\n",
    "!python -m spacy download fr_core_news_sm"
   ]
  },
  {
   "cell_type": "code",
   "execution_count": null,
   "metadata": {},
   "outputs": [],
   "source": [
    "'''\n",
    "Automation script for processing large PDFs:\n",
    "- PDF splitting (each page = one PDF file)\n",
    "- Extraction of raw text, tables, images\n",
    "- Automatic description and summary of tables\n",
    "- Generation of a .txt file (raw text) and .md file (structured with titles, lists, images)\n",
    "- Use of PyPDF2, pdfplumber, SpaCy, and other common utilities\n",
    "\n",
    "# Prerequisites and Installation:\n",
    "pip install PyPDF2 pdfplumber spacy matplotlib pillow\n",
    "python -m spacy download fr_core_news_sm\n",
    "\n",
    "# Place your PDF in the same folder as this script.\n",
    "'''\n",
    "\n",
    "\n",
    "import os\n",
    "import shutil\n",
    "import pdfplumber\n",
    "from PyPDF2 import PdfReader, PdfWriter\n",
    "import spacy\n",
    "from PIL import Image\n",
    "import matplotlib.pyplot as plt\n",
    "\n",
    "\n"
   ]
  },
  {
   "cell_type": "markdown",
   "metadata": {},
   "source": [
    "# If you don't use the lightning ai you should change the path to your local path"
   ]
  },
  {
   "cell_type": "code",
   "execution_count": null,
   "metadata": {},
   "outputs": [],
   "source": [
    "\n",
    "\n",
    "\n",
    "# Dossier de sortie pour la division/le contenu\n",
    "OUTPUT_DIR = \"/teamspace/studios/this_studio/OUTPUT_DIR\"\n",
    "os.makedirs(OUTPUT_DIR, exist_ok=True)\n",
    "IMAGES_DIR = \"extracted_images\"\n",
    "os.makedirs(IMAGES_DIR, exist_ok=True) \n",
    "TEXT_DIR=\"/teamspace/studios/this_studio/extracted_text\"\n",
    "os.makedirs(TEXT_DIR, exist_ok=True)\n",
    "README_DIR=\"/teamspace/studios/this_studio/extracted_readme\"\n",
    "os.makedirs(README_DIR, exist_ok=True)\n"
   ]
  },
  {
   "cell_type": "code",
   "execution_count": 19,
   "metadata": {},
   "outputs": [],
   "source": [
    "\n",
    "def split_pdf(input_pdf_path):\n",
    "    pdf_reader = PdfReader(input_pdf_path)\n",
    "    base = os.path.splitext(os.path.basename(input_pdf_path))[0]\n",
    "    output_files = []\n",
    "    for i, page in enumerate(pdf_reader.pages):\n",
    "        writer = PdfWriter()\n",
    "        writer.add_page(page)\n",
    "        file_path = os.path.join(OUTPUT_DIR, f\"{base}_page_{i+1}.pdf\")\n",
    "        with open(file_path, \"wb\") as f_out:\n",
    "            writer.write(f_out)\n",
    "        output_files.append(file_path)\n",
    "    return output_files"
   ]
  },
  {
   "cell_type": "code",
   "execution_count": 20,
   "metadata": {},
   "outputs": [],
   "source": [
    "def summarize_table(table):\n",
    "    \"\"\"Résumé simple : nbre de lignes, colonnes, premiers éléments\"\"\"\n",
    "    if not table or not any(table):\n",
    "        return \"Tableau vide\"\n",
    "    num_rows = len(table)\n",
    "    num_cols = len(table[0])\n",
    "    head = table[0]\n",
    "    description = f\"Tableau de {num_rows} lignes et {num_cols} colonnes. En-tête : {head}.\"\n",
    "    return description\n"
   ]
  },
  {
   "cell_type": "code",
   "execution_count": 21,
   "metadata": {},
   "outputs": [],
   "source": [
    "def extract_image_caption(page, bbox, nlp):\n",
    "    # Extraire un rectangle sous l'image pour trouver un texte d'accompagnement\n",
    "    # (Heuristique : boîte juste sous l'image, 30 points de hauteur)\n",
    "    cap_top = bbox[3]\n",
    "    cap_bot = cap_top + 30\n",
    "    try:\n",
    "        crop = page.within_bbox((bbox[0], cap_top, bbox[2], cap_bot))\n",
    "        text = crop.extract_text() if crop else \"\"\n",
    "        if not text:\n",
    "            return \"Image extraite (pas de description détectée)\"\n",
    "        doc = nlp(text)\n",
    "        relevant = \" \".join([sent.text for sent in doc.sents])\n",
    "        return relevant or \"Image extraite\"\n",
    "    except Exception:\n",
    "        return \"Image extraite\"\n"
   ]
  },
  {
   "cell_type": "code",
   "execution_count": 28,
   "metadata": {},
   "outputs": [],
   "source": [
    "def extract_content(pdf_path, page_num, nlp):\n",
    "    result = {\n",
    "        \"text\": \"\",\n",
    "        \"tables\": [],\n",
    "        \"tables_desc\": [],\n",
    "        \"images\": [],\n",
    "        \"images_desc\": []\n",
    "    }\n",
    "    with pdfplumber.open(pdf_path) as pdf:\n",
    "        if len(pdf.pages) < 1:\n",
    "            return result\n",
    "        page = pdf.pages[0]\n",
    "        result[\"text\"] = page.extract_text() or \"\"\n",
    "        tables = page.extract_tables()\n",
    "        for tab in tables:\n",
    "            result[\"tables\"].append(tab)\n",
    "            desc = summarize_table(tab)\n",
    "            result[\"tables_desc\"].append(desc)\n",
    "        for i, img in enumerate(page.images):\n",
    "            bbox = (img[\"x0\"], img[\"top\"], img[\"x1\"], img[\"bottom\"])\n",
    "            page_image = page.to_image(resolution=200)\n",
    "            pil_img = page_image.original  # PIL.Image object (entire page)\n",
    "\n",
    "            width_pixels, height_pixels = pil_img.size\n",
    "            scale = width_pixels / float(page.width)\n",
    "\n",
    "            # Calcul du bounding box en pixels\n",
    "            pixel_bbox = tuple(int(coord * scale) for coord in bbox)\n",
    "\n",
    "            # Sécurité : clamp des valeurs\n",
    "            left = max(0, pixel_bbox[0])\n",
    "            upper = max(0, pixel_bbox[1])\n",
    "            right = min(width_pixels, pixel_bbox[2])\n",
    "            lower = min(height_pixels, pixel_bbox[3])\n",
    "\n",
    "            if right > left and lower > upper:\n",
    "                cropped_image = pil_img.crop((left, upper, right, lower))\n",
    "                img_filename = os.path.join(IMAGES_DIR, f\"page{page_num}_img{i+1}.png\")\n",
    "                cropped_image.save(img_filename)\n",
    "                result[\"images\"].append(img_filename)\n",
    "                img_caption = extract_image_caption(page, bbox, nlp)\n",
    "                result[\"images_desc\"].append(img_caption)\n",
    "            else:\n",
    "                print(f\"⚠️ Bounding box invalide pour l'image {i+1} sur page {page_num}\")\n",
    "\n",
    "    return result\n"
   ]
  },
  {
   "cell_type": "code",
   "execution_count": 29,
   "metadata": {},
   "outputs": [],
   "source": [
    "\n",
    "\n",
    "def save_txt_and_md(base_name, page_number, content):\n",
    "    \"\"\"Génère les versions .txt et .md dans des dossiers séparés\"\"\"\n",
    "\n",
    "    txt_filename = os.path.join(TEXT_DIR, f\"{base_name}_page_{page_number}.txt\")\n",
    "    md_filename  = os.path.join(README_DIR, f\"{base_name}_page_{page_number}.md\")\n",
    "\n",
    "    # 1. Fichier texte brut\n",
    "    with open(txt_filename, \"w\", encoding=\"utf-8\") as f:\n",
    "        f.write(content[\"text\"])\n",
    "        for i, tab in enumerate(content[\"tables\"]):\n",
    "            f.write(\"\\n\\n----------\\nTableau %d\\n----------\\n\" % (i+1))\n",
    "            for row in tab:\n",
    "                f.write(\" | \".join(str(cell) for cell in row) + \"\\n\")\n",
    "\n",
    "    # 2. Fichier markdown structuré\n",
    "    with open(md_filename, \"w\", encoding=\"utf-8\") as f:\n",
    "        f.write(f\"# Page {page_number}\\n\\n\")\n",
    "        f.write(\"## Texte principal\\n\\n\")\n",
    "        f.write(content[\"text\"] + \"\\n\\n\")\n",
    "        \n",
    "        for i, (tab, desc) in enumerate(zip(content[\"tables\"], content[\"tables_desc\"])):\n",
    "            f.write(f\"## Tableau {i+1}\\n\")\n",
    "            f.write(f\"- Description : {desc}\\n\")\n",
    "            f.write(\"\\n| \" + \" | \".join(str(cell) if cell is not None else \"\" for cell in tab[0]) + \" |\\n\")\n",
    "            f.write(\"|\" + \" --- |\" * len(tab[0]) + \"\\n\")\n",
    "            for row in tab[1:]:\n",
    "                f.write(\"| \" + \" | \".join(str(cell) if cell is not None else \"\" for cell in row) + \" |\\n\")\n",
    "            f.write(\"\\n\")\n",
    "        \n",
    "        for i, (img, desc) in enumerate(zip(content[\"images\"], content[\"images_desc\"])):\n",
    "            f.write(f\"## Image {i+1}\\n\")\n",
    "            f.write(f\"![Image extraite]({img})\\n\")\n",
    "            f.write(f\"- Légende automatique : {desc}\\n\\n\")\n"
   ]
  },
  {
   "cell_type": "code",
   "execution_count": 30,
   "metadata": {},
   "outputs": [],
   "source": [
    "def process_pdf(pdf_path):\n",
    "    # SpaCy pour FR (ou changer en EN si besoin)\n",
    "    nlp = spacy.load(\"fr_core_news_sm\")\n",
    "    all_pages = split_pdf(pdf_path)\n",
    "    basename = os.path.splitext(os.path.basename(pdf_path))[0]\n",
    "    for idx, page_file in enumerate(all_pages, 1):\n",
    "        print(f\"Traitement page {idx}...\")\n",
    "        content = extract_content(page_file, idx, nlp)\n",
    "        save_txt_and_md(basename, idx, content)"
   ]
  },
  {
   "cell_type": "code",
   "execution_count": 31,
   "metadata": {},
   "outputs": [
    {
     "name": "stderr",
     "output_type": "stream",
     "text": [
      "CropBox missing from /Page, defaulting to MediaBox\n"
     ]
    },
    {
     "name": "stdout",
     "output_type": "stream",
     "text": [
      "Traitement page 1...\n"
     ]
    },
    {
     "name": "stderr",
     "output_type": "stream",
     "text": [
      "CropBox missing from /Page, defaulting to MediaBox\n",
      "CropBox missing from /Page, defaulting to MediaBox\n"
     ]
    },
    {
     "name": "stdout",
     "output_type": "stream",
     "text": [
      "Traitement page 2...\n"
     ]
    },
    {
     "name": "stderr",
     "output_type": "stream",
     "text": [
      "CropBox missing from /Page, defaulting to MediaBox\n",
      "CropBox missing from /Page, defaulting to MediaBox\n"
     ]
    },
    {
     "name": "stdout",
     "output_type": "stream",
     "text": [
      "Traitement page 3...\n"
     ]
    },
    {
     "name": "stderr",
     "output_type": "stream",
     "text": [
      "CropBox missing from /Page, defaulting to MediaBox\n",
      "CropBox missing from /Page, defaulting to MediaBox\n",
      "CropBox missing from /Page, defaulting to MediaBox\n",
      "CropBox missing from /Page, defaulting to MediaBox\n",
      "CropBox missing from /Page, defaulting to MediaBox\n",
      "CropBox missing from /Page, defaulting to MediaBox\n"
     ]
    },
    {
     "name": "stdout",
     "output_type": "stream",
     "text": [
      "Traitement page 4...\n",
      "Traitement page 5...\n",
      "Traitement page 6...\n"
     ]
    },
    {
     "name": "stderr",
     "output_type": "stream",
     "text": [
      "CropBox missing from /Page, defaulting to MediaBox\n",
      "CropBox missing from /Page, defaulting to MediaBox\n",
      "CropBox missing from /Page, defaulting to MediaBox\n",
      "CropBox missing from /Page, defaulting to MediaBox\n"
     ]
    },
    {
     "name": "stdout",
     "output_type": "stream",
     "text": [
      "Traitement page 7...\n",
      "Traitement page 8...\n"
     ]
    },
    {
     "name": "stderr",
     "output_type": "stream",
     "text": [
      "CropBox missing from /Page, defaulting to MediaBox\n",
      "CropBox missing from /Page, defaulting to MediaBox\n"
     ]
    },
    {
     "name": "stdout",
     "output_type": "stream",
     "text": [
      "Traitement page 9...\n"
     ]
    },
    {
     "name": "stderr",
     "output_type": "stream",
     "text": [
      "CropBox missing from /Page, defaulting to MediaBox\n",
      "CropBox missing from /Page, defaulting to MediaBox\n"
     ]
    },
    {
     "name": "stdout",
     "output_type": "stream",
     "text": [
      "Traitement page 10...\n"
     ]
    },
    {
     "name": "stderr",
     "output_type": "stream",
     "text": [
      "CropBox missing from /Page, defaulting to MediaBox\n",
      "CropBox missing from /Page, defaulting to MediaBox\n"
     ]
    },
    {
     "name": "stdout",
     "output_type": "stream",
     "text": [
      "Traitement page 11...\n"
     ]
    },
    {
     "name": "stderr",
     "output_type": "stream",
     "text": [
      "CropBox missing from /Page, defaulting to MediaBox\n",
      "CropBox missing from /Page, defaulting to MediaBox\n"
     ]
    },
    {
     "name": "stdout",
     "output_type": "stream",
     "text": [
      "Traitement page 12...\n"
     ]
    },
    {
     "name": "stderr",
     "output_type": "stream",
     "text": [
      "CropBox missing from /Page, defaulting to MediaBox\n",
      "CropBox missing from /Page, defaulting to MediaBox\n"
     ]
    },
    {
     "name": "stdout",
     "output_type": "stream",
     "text": [
      "Traitement page 13...\n"
     ]
    },
    {
     "name": "stderr",
     "output_type": "stream",
     "text": [
      "CropBox missing from /Page, defaulting to MediaBox\n",
      "CropBox missing from /Page, defaulting to MediaBox\n",
      "CropBox missing from /Page, defaulting to MediaBox\n"
     ]
    },
    {
     "name": "stdout",
     "output_type": "stream",
     "text": [
      "Traitement page 14...\n",
      "Traitement page 15...\n"
     ]
    },
    {
     "name": "stderr",
     "output_type": "stream",
     "text": [
      "CropBox missing from /Page, defaulting to MediaBox\n",
      "CropBox missing from /Page, defaulting to MediaBox\n",
      "CropBox missing from /Page, defaulting to MediaBox\n"
     ]
    },
    {
     "name": "stdout",
     "output_type": "stream",
     "text": [
      "Traitement page 16...\n"
     ]
    },
    {
     "name": "stderr",
     "output_type": "stream",
     "text": [
      "CropBox missing from /Page, defaulting to MediaBox\n",
      "CropBox missing from /Page, defaulting to MediaBox\n",
      "CropBox missing from /Page, defaulting to MediaBox\n"
     ]
    },
    {
     "name": "stdout",
     "output_type": "stream",
     "text": [
      "Traitement page 17...\n"
     ]
    },
    {
     "name": "stderr",
     "output_type": "stream",
     "text": [
      "CropBox missing from /Page, defaulting to MediaBox\n"
     ]
    },
    {
     "name": "stdout",
     "output_type": "stream",
     "text": [
      "Traitement page 18...\n"
     ]
    },
    {
     "name": "stderr",
     "output_type": "stream",
     "text": [
      "CropBox missing from /Page, defaulting to MediaBox\n",
      "CropBox missing from /Page, defaulting to MediaBox\n"
     ]
    },
    {
     "name": "stdout",
     "output_type": "stream",
     "text": [
      "Traitement page 19...\n"
     ]
    },
    {
     "name": "stderr",
     "output_type": "stream",
     "text": [
      "CropBox missing from /Page, defaulting to MediaBox\n",
      "CropBox missing from /Page, defaulting to MediaBox\n"
     ]
    },
    {
     "name": "stdout",
     "output_type": "stream",
     "text": [
      "Traitement page 20...\n"
     ]
    },
    {
     "name": "stderr",
     "output_type": "stream",
     "text": [
      "CropBox missing from /Page, defaulting to MediaBox\n",
      "CropBox missing from /Page, defaulting to MediaBox\n"
     ]
    },
    {
     "name": "stdout",
     "output_type": "stream",
     "text": [
      "Traitement page 21...\n"
     ]
    },
    {
     "name": "stderr",
     "output_type": "stream",
     "text": [
      "CropBox missing from /Page, defaulting to MediaBox\n",
      "CropBox missing from /Page, defaulting to MediaBox\n"
     ]
    },
    {
     "name": "stdout",
     "output_type": "stream",
     "text": [
      "Traitement page 22...\n"
     ]
    },
    {
     "name": "stderr",
     "output_type": "stream",
     "text": [
      "CropBox missing from /Page, defaulting to MediaBox\n",
      "CropBox missing from /Page, defaulting to MediaBox\n"
     ]
    },
    {
     "name": "stdout",
     "output_type": "stream",
     "text": [
      "Traitement page 23...\n"
     ]
    },
    {
     "name": "stderr",
     "output_type": "stream",
     "text": [
      "CropBox missing from /Page, defaulting to MediaBox\n",
      "CropBox missing from /Page, defaulting to MediaBox\n",
      "CropBox missing from /Page, defaulting to MediaBox\n",
      "CropBox missing from /Page, defaulting to MediaBox\n",
      "CropBox missing from /Page, defaulting to MediaBox\n",
      "CropBox missing from /Page, defaulting to MediaBox\n"
     ]
    },
    {
     "name": "stdout",
     "output_type": "stream",
     "text": [
      "Traitement page 24...\n",
      "Traitement page 25...\n",
      "Traitement page 26...\n"
     ]
    },
    {
     "name": "stderr",
     "output_type": "stream",
     "text": [
      "CropBox missing from /Page, defaulting to MediaBox\n",
      "CropBox missing from /Page, defaulting to MediaBox\n"
     ]
    },
    {
     "name": "stdout",
     "output_type": "stream",
     "text": [
      "Traitement page 27...\n"
     ]
    },
    {
     "name": "stderr",
     "output_type": "stream",
     "text": [
      "CropBox missing from /Page, defaulting to MediaBox\n",
      "CropBox missing from /Page, defaulting to MediaBox\n",
      "CropBox missing from /Page, defaulting to MediaBox\n",
      "CropBox missing from /Page, defaulting to MediaBox\n"
     ]
    },
    {
     "name": "stdout",
     "output_type": "stream",
     "text": [
      "Traitement page 28...\n",
      "Traitement page 29...\n"
     ]
    },
    {
     "name": "stderr",
     "output_type": "stream",
     "text": [
      "CropBox missing from /Page, defaulting to MediaBox\n",
      "CropBox missing from /Page, defaulting to MediaBox\n",
      "CropBox missing from /Page, defaulting to MediaBox\n",
      "CropBox missing from /Page, defaulting to MediaBox\n"
     ]
    },
    {
     "name": "stdout",
     "output_type": "stream",
     "text": [
      "Traitement page 30...\n",
      "Traitement page 31...\n"
     ]
    },
    {
     "name": "stderr",
     "output_type": "stream",
     "text": [
      "CropBox missing from /Page, defaulting to MediaBox\n",
      "CropBox missing from /Page, defaulting to MediaBox\n",
      "CropBox missing from /Page, defaulting to MediaBox\n",
      "CropBox missing from /Page, defaulting to MediaBox\n"
     ]
    },
    {
     "name": "stdout",
     "output_type": "stream",
     "text": [
      "Traitement page 32...\n",
      "Traitement page 33...\n"
     ]
    },
    {
     "name": "stderr",
     "output_type": "stream",
     "text": [
      "CropBox missing from /Page, defaulting to MediaBox\n",
      "CropBox missing from /Page, defaulting to MediaBox\n",
      "CropBox missing from /Page, defaulting to MediaBox\n",
      "CropBox missing from /Page, defaulting to MediaBox\n"
     ]
    },
    {
     "name": "stdout",
     "output_type": "stream",
     "text": [
      "Traitement page 34...\n",
      "Traitement page 35...\n"
     ]
    },
    {
     "name": "stderr",
     "output_type": "stream",
     "text": [
      "CropBox missing from /Page, defaulting to MediaBox\n",
      "CropBox missing from /Page, defaulting to MediaBox\n",
      "CropBox missing from /Page, defaulting to MediaBox\n",
      "CropBox missing from /Page, defaulting to MediaBox\n"
     ]
    },
    {
     "name": "stdout",
     "output_type": "stream",
     "text": [
      "Traitement page 36...\n",
      "Traitement page 37...\n"
     ]
    },
    {
     "name": "stderr",
     "output_type": "stream",
     "text": [
      "CropBox missing from /Page, defaulting to MediaBox\n",
      "CropBox missing from /Page, defaulting to MediaBox\n"
     ]
    },
    {
     "name": "stdout",
     "output_type": "stream",
     "text": [
      "Traitement page 38...\n"
     ]
    },
    {
     "name": "stderr",
     "output_type": "stream",
     "text": [
      "CropBox missing from /Page, defaulting to MediaBox\n",
      "CropBox missing from /Page, defaulting to MediaBox\n"
     ]
    },
    {
     "name": "stdout",
     "output_type": "stream",
     "text": [
      "Traitement page 39...\n"
     ]
    },
    {
     "name": "stderr",
     "output_type": "stream",
     "text": [
      "CropBox missing from /Page, defaulting to MediaBox\n",
      "CropBox missing from /Page, defaulting to MediaBox\n",
      "CropBox missing from /Page, defaulting to MediaBox\n",
      "CropBox missing from /Page, defaulting to MediaBox\n"
     ]
    },
    {
     "name": "stdout",
     "output_type": "stream",
     "text": [
      "Traitement page 40...\n",
      "Traitement page 41...\n"
     ]
    },
    {
     "name": "stderr",
     "output_type": "stream",
     "text": [
      "CropBox missing from /Page, defaulting to MediaBox\n",
      "CropBox missing from /Page, defaulting to MediaBox\n",
      "CropBox missing from /Page, defaulting to MediaBox\n",
      "CropBox missing from /Page, defaulting to MediaBox\n"
     ]
    },
    {
     "name": "stdout",
     "output_type": "stream",
     "text": [
      "Traitement page 42...\n",
      "Traitement page 43...\n"
     ]
    },
    {
     "name": "stderr",
     "output_type": "stream",
     "text": [
      "CropBox missing from /Page, defaulting to MediaBox\n",
      "CropBox missing from /Page, defaulting to MediaBox\n",
      "CropBox missing from /Page, defaulting to MediaBox\n",
      "CropBox missing from /Page, defaulting to MediaBox\n"
     ]
    },
    {
     "name": "stdout",
     "output_type": "stream",
     "text": [
      "Traitement page 44...\n",
      "Traitement page 45...\n"
     ]
    },
    {
     "name": "stderr",
     "output_type": "stream",
     "text": [
      "CropBox missing from /Page, defaulting to MediaBox\n",
      "CropBox missing from /Page, defaulting to MediaBox\n",
      "CropBox missing from /Page, defaulting to MediaBox\n",
      "CropBox missing from /Page, defaulting to MediaBox\n",
      "CropBox missing from /Page, defaulting to MediaBox\n",
      "CropBox missing from /Page, defaulting to MediaBox\n"
     ]
    },
    {
     "name": "stdout",
     "output_type": "stream",
     "text": [
      "Traitement page 46...\n",
      "Traitement page 47...\n",
      "Traitement page 48...\n"
     ]
    },
    {
     "name": "stderr",
     "output_type": "stream",
     "text": [
      "CropBox missing from /Page, defaulting to MediaBox\n",
      "CropBox missing from /Page, defaulting to MediaBox\n",
      "CropBox missing from /Page, defaulting to MediaBox\n",
      "CropBox missing from /Page, defaulting to MediaBox\n"
     ]
    },
    {
     "name": "stdout",
     "output_type": "stream",
     "text": [
      "Traitement page 49...\n",
      "Traitement page 50...\n"
     ]
    },
    {
     "name": "stderr",
     "output_type": "stream",
     "text": [
      "CropBox missing from /Page, defaulting to MediaBox\n",
      "CropBox missing from /Page, defaulting to MediaBox\n",
      "CropBox missing from /Page, defaulting to MediaBox\n",
      "CropBox missing from /Page, defaulting to MediaBox\n"
     ]
    },
    {
     "name": "stdout",
     "output_type": "stream",
     "text": [
      "Traitement page 51...\n",
      "Traitement page 52...\n"
     ]
    },
    {
     "name": "stderr",
     "output_type": "stream",
     "text": [
      "CropBox missing from /Page, defaulting to MediaBox\n",
      "CropBox missing from /Page, defaulting to MediaBox\n",
      "CropBox missing from /Page, defaulting to MediaBox\n",
      "CropBox missing from /Page, defaulting to MediaBox\n",
      "CropBox missing from /Page, defaulting to MediaBox\n",
      "CropBox missing from /Page, defaulting to MediaBox\n"
     ]
    },
    {
     "name": "stdout",
     "output_type": "stream",
     "text": [
      "Traitement page 53...\n",
      "Traitement page 54...\n",
      "Traitement page 55...\n"
     ]
    },
    {
     "name": "stderr",
     "output_type": "stream",
     "text": [
      "CropBox missing from /Page, defaulting to MediaBox\n",
      "CropBox missing from /Page, defaulting to MediaBox\n",
      "CropBox missing from /Page, defaulting to MediaBox\n",
      "CropBox missing from /Page, defaulting to MediaBox\n",
      "CropBox missing from /Page, defaulting to MediaBox\n"
     ]
    },
    {
     "name": "stdout",
     "output_type": "stream",
     "text": [
      "Traitement page 56...\n",
      "Traitement page 57...\n",
      "Traitement page 58...\n"
     ]
    },
    {
     "name": "stderr",
     "output_type": "stream",
     "text": [
      "CropBox missing from /Page, defaulting to MediaBox\n",
      "CropBox missing from /Page, defaulting to MediaBox\n",
      "CropBox missing from /Page, defaulting to MediaBox\n",
      "CropBox missing from /Page, defaulting to MediaBox\n",
      "CropBox missing from /Page, defaulting to MediaBox\n"
     ]
    },
    {
     "name": "stdout",
     "output_type": "stream",
     "text": [
      "Traitement page 59...\n",
      "Traitement page 60...\n"
     ]
    },
    {
     "name": "stderr",
     "output_type": "stream",
     "text": [
      "CropBox missing from /Page, defaulting to MediaBox\n",
      "CropBox missing from /Page, defaulting to MediaBox\n",
      "CropBox missing from /Page, defaulting to MediaBox\n",
      "CropBox missing from /Page, defaulting to MediaBox\n"
     ]
    },
    {
     "name": "stdout",
     "output_type": "stream",
     "text": [
      "Traitement page 61...\n",
      "Traitement page 62...\n"
     ]
    },
    {
     "name": "stderr",
     "output_type": "stream",
     "text": [
      "CropBox missing from /Page, defaulting to MediaBox\n",
      "CropBox missing from /Page, defaulting to MediaBox\n",
      "CropBox missing from /Page, defaulting to MediaBox\n",
      "CropBox missing from /Page, defaulting to MediaBox\n",
      "CropBox missing from /Page, defaulting to MediaBox\n",
      "CropBox missing from /Page, defaulting to MediaBox\n"
     ]
    },
    {
     "name": "stdout",
     "output_type": "stream",
     "text": [
      "Traitement page 63...\n",
      "Traitement page 64...\n",
      "Traitement page 65...\n"
     ]
    },
    {
     "name": "stderr",
     "output_type": "stream",
     "text": [
      "CropBox missing from /Page, defaulting to MediaBox\n",
      "CropBox missing from /Page, defaulting to MediaBox\n",
      "CropBox missing from /Page, defaulting to MediaBox\n",
      "CropBox missing from /Page, defaulting to MediaBox\n"
     ]
    },
    {
     "name": "stdout",
     "output_type": "stream",
     "text": [
      "Traitement page 66...\n",
      "Traitement page 67...\n"
     ]
    },
    {
     "name": "stderr",
     "output_type": "stream",
     "text": [
      "CropBox missing from /Page, defaulting to MediaBox\n",
      "CropBox missing from /Page, defaulting to MediaBox\n",
      "CropBox missing from /Page, defaulting to MediaBox\n",
      "CropBox missing from /Page, defaulting to MediaBox\n"
     ]
    },
    {
     "name": "stdout",
     "output_type": "stream",
     "text": [
      "Traitement page 68...\n",
      "Traitement page 69...\n"
     ]
    },
    {
     "name": "stderr",
     "output_type": "stream",
     "text": [
      "CropBox missing from /Page, defaulting to MediaBox\n",
      "CropBox missing from /Page, defaulting to MediaBox\n",
      "CropBox missing from /Page, defaulting to MediaBox\n",
      "CropBox missing from /Page, defaulting to MediaBox\n"
     ]
    },
    {
     "name": "stdout",
     "output_type": "stream",
     "text": [
      "Traitement page 70...\n",
      "Traitement page 71...\n"
     ]
    },
    {
     "name": "stderr",
     "output_type": "stream",
     "text": [
      "CropBox missing from /Page, defaulting to MediaBox\n",
      "CropBox missing from /Page, defaulting to MediaBox\n",
      "CropBox missing from /Page, defaulting to MediaBox\n",
      "CropBox missing from /Page, defaulting to MediaBox\n"
     ]
    },
    {
     "name": "stdout",
     "output_type": "stream",
     "text": [
      "Traitement page 72...\n",
      "Traitement page 73...\n"
     ]
    },
    {
     "name": "stderr",
     "output_type": "stream",
     "text": [
      "CropBox missing from /Page, defaulting to MediaBox\n",
      "CropBox missing from /Page, defaulting to MediaBox\n"
     ]
    },
    {
     "name": "stdout",
     "output_type": "stream",
     "text": [
      "Traitement page 74...\n"
     ]
    },
    {
     "name": "stderr",
     "output_type": "stream",
     "text": [
      "CropBox missing from /Page, defaulting to MediaBox\n",
      "CropBox missing from /Page, defaulting to MediaBox\n",
      "CropBox missing from /Page, defaulting to MediaBox\n",
      "CropBox missing from /Page, defaulting to MediaBox\n"
     ]
    },
    {
     "name": "stdout",
     "output_type": "stream",
     "text": [
      "Traitement page 75...\n",
      "Traitement page 76...\n"
     ]
    },
    {
     "name": "stderr",
     "output_type": "stream",
     "text": [
      "CropBox missing from /Page, defaulting to MediaBox\n",
      "CropBox missing from /Page, defaulting to MediaBox\n",
      "CropBox missing from /Page, defaulting to MediaBox\n",
      "CropBox missing from /Page, defaulting to MediaBox\n"
     ]
    },
    {
     "name": "stdout",
     "output_type": "stream",
     "text": [
      "Traitement page 77...\n",
      "Traitement page 78...\n"
     ]
    },
    {
     "name": "stderr",
     "output_type": "stream",
     "text": [
      "CropBox missing from /Page, defaulting to MediaBox\n",
      "CropBox missing from /Page, defaulting to MediaBox\n",
      "CropBox missing from /Page, defaulting to MediaBox\n",
      "CropBox missing from /Page, defaulting to MediaBox\n"
     ]
    },
    {
     "name": "stdout",
     "output_type": "stream",
     "text": [
      "Traitement page 79...\n",
      "Traitement page 80...\n"
     ]
    },
    {
     "name": "stderr",
     "output_type": "stream",
     "text": [
      "CropBox missing from /Page, defaulting to MediaBox\n",
      "CropBox missing from /Page, defaulting to MediaBox\n",
      "CropBox missing from /Page, defaulting to MediaBox\n",
      "CropBox missing from /Page, defaulting to MediaBox\n"
     ]
    },
    {
     "name": "stdout",
     "output_type": "stream",
     "text": [
      "Traitement page 81...\n",
      "Traitement page 82...\n"
     ]
    },
    {
     "name": "stderr",
     "output_type": "stream",
     "text": [
      "CropBox missing from /Page, defaulting to MediaBox\n",
      "CropBox missing from /Page, defaulting to MediaBox\n",
      "CropBox missing from /Page, defaulting to MediaBox\n",
      "CropBox missing from /Page, defaulting to MediaBox\n",
      "CropBox missing from /Page, defaulting to MediaBox\n",
      "CropBox missing from /Page, defaulting to MediaBox\n",
      "CropBox missing from /Page, defaulting to MediaBox\n",
      "CropBox missing from /Page, defaulting to MediaBox\n"
     ]
    },
    {
     "name": "stdout",
     "output_type": "stream",
     "text": [
      "Traitement page 83...\n",
      "Traitement page 84...\n",
      "Traitement page 85...\n",
      "Traitement page 86...\n"
     ]
    },
    {
     "name": "stderr",
     "output_type": "stream",
     "text": [
      "CropBox missing from /Page, defaulting to MediaBox\n",
      "CropBox missing from /Page, defaulting to MediaBox\n",
      "CropBox missing from /Page, defaulting to MediaBox\n",
      "CropBox missing from /Page, defaulting to MediaBox\n"
     ]
    },
    {
     "name": "stdout",
     "output_type": "stream",
     "text": [
      "Traitement page 87...\n",
      "Traitement page 88...\n"
     ]
    },
    {
     "name": "stderr",
     "output_type": "stream",
     "text": [
      "CropBox missing from /Page, defaulting to MediaBox\n",
      "CropBox missing from /Page, defaulting to MediaBox\n",
      "CropBox missing from /Page, defaulting to MediaBox\n",
      "CropBox missing from /Page, defaulting to MediaBox\n",
      "CropBox missing from /Page, defaulting to MediaBox\n",
      "CropBox missing from /Page, defaulting to MediaBox\n"
     ]
    },
    {
     "name": "stdout",
     "output_type": "stream",
     "text": [
      "Traitement page 89...\n",
      "Traitement page 90...\n",
      "Traitement page 91...\n"
     ]
    },
    {
     "name": "stderr",
     "output_type": "stream",
     "text": [
      "CropBox missing from /Page, defaulting to MediaBox\n",
      "CropBox missing from /Page, defaulting to MediaBox\n",
      "CropBox missing from /Page, defaulting to MediaBox\n",
      "CropBox missing from /Page, defaulting to MediaBox\n",
      "CropBox missing from /Page, defaulting to MediaBox\n",
      "CropBox missing from /Page, defaulting to MediaBox\n"
     ]
    },
    {
     "name": "stdout",
     "output_type": "stream",
     "text": [
      "Traitement page 92...\n",
      "Traitement page 93...\n",
      "Traitement page 94...\n"
     ]
    },
    {
     "name": "stderr",
     "output_type": "stream",
     "text": [
      "CropBox missing from /Page, defaulting to MediaBox\n",
      "CropBox missing from /Page, defaulting to MediaBox\n",
      "CropBox missing from /Page, defaulting to MediaBox\n",
      "CropBox missing from /Page, defaulting to MediaBox\n"
     ]
    },
    {
     "name": "stdout",
     "output_type": "stream",
     "text": [
      "Traitement page 95...\n",
      "Traitement page 96...\n"
     ]
    },
    {
     "name": "stderr",
     "output_type": "stream",
     "text": [
      "CropBox missing from /Page, defaulting to MediaBox\n",
      "CropBox missing from /Page, defaulting to MediaBox\n",
      "CropBox missing from /Page, defaulting to MediaBox\n",
      "CropBox missing from /Page, defaulting to MediaBox\n",
      "CropBox missing from /Page, defaulting to MediaBox\n",
      "CropBox missing from /Page, defaulting to MediaBox\n",
      "CropBox missing from /Page, defaulting to MediaBox\n"
     ]
    },
    {
     "name": "stdout",
     "output_type": "stream",
     "text": [
      "Traitement page 97...\n",
      "Traitement page 98...\n",
      "Traitement page 99...\n"
     ]
    },
    {
     "name": "stderr",
     "output_type": "stream",
     "text": [
      "CropBox missing from /Page, defaulting to MediaBox\n",
      "CropBox missing from /Page, defaulting to MediaBox\n",
      "CropBox missing from /Page, defaulting to MediaBox\n"
     ]
    },
    {
     "name": "stdout",
     "output_type": "stream",
     "text": [
      "Traitement page 100...\n",
      "Traitement page 101...\n"
     ]
    },
    {
     "name": "stderr",
     "output_type": "stream",
     "text": [
      "CropBox missing from /Page, defaulting to MediaBox\n",
      "CropBox missing from /Page, defaulting to MediaBox\n",
      "CropBox missing from /Page, defaulting to MediaBox\n",
      "CropBox missing from /Page, defaulting to MediaBox\n"
     ]
    },
    {
     "name": "stdout",
     "output_type": "stream",
     "text": [
      "Traitement page 102...\n",
      "Traitement page 103...\n"
     ]
    },
    {
     "name": "stderr",
     "output_type": "stream",
     "text": [
      "CropBox missing from /Page, defaulting to MediaBox\n",
      "CropBox missing from /Page, defaulting to MediaBox\n",
      "CropBox missing from /Page, defaulting to MediaBox\n",
      "CropBox missing from /Page, defaulting to MediaBox\n"
     ]
    },
    {
     "name": "stdout",
     "output_type": "stream",
     "text": [
      "Traitement page 104...\n",
      "Traitement page 105...\n"
     ]
    },
    {
     "name": "stderr",
     "output_type": "stream",
     "text": [
      "CropBox missing from /Page, defaulting to MediaBox\n",
      "CropBox missing from /Page, defaulting to MediaBox\n",
      "CropBox missing from /Page, defaulting to MediaBox\n",
      "CropBox missing from /Page, defaulting to MediaBox\n"
     ]
    },
    {
     "name": "stdout",
     "output_type": "stream",
     "text": [
      "Traitement page 106...\n",
      "Traitement page 107...\n"
     ]
    },
    {
     "name": "stderr",
     "output_type": "stream",
     "text": [
      "CropBox missing from /Page, defaulting to MediaBox\n",
      "CropBox missing from /Page, defaulting to MediaBox\n",
      "CropBox missing from /Page, defaulting to MediaBox\n",
      "CropBox missing from /Page, defaulting to MediaBox\n"
     ]
    },
    {
     "name": "stdout",
     "output_type": "stream",
     "text": [
      "Traitement page 108...\n",
      "Traitement page 109...\n"
     ]
    },
    {
     "name": "stderr",
     "output_type": "stream",
     "text": [
      "CropBox missing from /Page, defaulting to MediaBox\n",
      "CropBox missing from /Page, defaulting to MediaBox\n",
      "CropBox missing from /Page, defaulting to MediaBox\n",
      "CropBox missing from /Page, defaulting to MediaBox\n"
     ]
    },
    {
     "name": "stdout",
     "output_type": "stream",
     "text": [
      "Traitement page 110...\n",
      "Traitement page 111...\n"
     ]
    },
    {
     "name": "stderr",
     "output_type": "stream",
     "text": [
      "CropBox missing from /Page, defaulting to MediaBox\n",
      "CropBox missing from /Page, defaulting to MediaBox\n",
      "CropBox missing from /Page, defaulting to MediaBox\n",
      "CropBox missing from /Page, defaulting to MediaBox\n"
     ]
    },
    {
     "name": "stdout",
     "output_type": "stream",
     "text": [
      "Traitement page 112...\n",
      "Traitement page 113...\n"
     ]
    },
    {
     "name": "stderr",
     "output_type": "stream",
     "text": [
      "CropBox missing from /Page, defaulting to MediaBox\n",
      "CropBox missing from /Page, defaulting to MediaBox\n",
      "CropBox missing from /Page, defaulting to MediaBox\n",
      "CropBox missing from /Page, defaulting to MediaBox\n",
      "CropBox missing from /Page, defaulting to MediaBox\n",
      "CropBox missing from /Page, defaulting to MediaBox\n"
     ]
    },
    {
     "name": "stdout",
     "output_type": "stream",
     "text": [
      "Traitement page 114...\n",
      "Traitement page 115...\n",
      "Traitement page 116...\n"
     ]
    },
    {
     "name": "stderr",
     "output_type": "stream",
     "text": [
      "CropBox missing from /Page, defaulting to MediaBox\n",
      "CropBox missing from /Page, defaulting to MediaBox\n"
     ]
    },
    {
     "name": "stdout",
     "output_type": "stream",
     "text": [
      "Traitement page 117...\n"
     ]
    },
    {
     "name": "stderr",
     "output_type": "stream",
     "text": [
      "CropBox missing from /Page, defaulting to MediaBox\n",
      "CropBox missing from /Page, defaulting to MediaBox\n",
      "CropBox missing from /Page, defaulting to MediaBox\n",
      "CropBox missing from /Page, defaulting to MediaBox\n"
     ]
    },
    {
     "name": "stdout",
     "output_type": "stream",
     "text": [
      "Traitement page 118...\n",
      "Traitement page 119...\n"
     ]
    },
    {
     "name": "stderr",
     "output_type": "stream",
     "text": [
      "CropBox missing from /Page, defaulting to MediaBox\n",
      "CropBox missing from /Page, defaulting to MediaBox\n",
      "CropBox missing from /Page, defaulting to MediaBox\n",
      "CropBox missing from /Page, defaulting to MediaBox\n"
     ]
    },
    {
     "name": "stdout",
     "output_type": "stream",
     "text": [
      "Traitement page 120...\n",
      "Traitement page 121...\n"
     ]
    },
    {
     "name": "stderr",
     "output_type": "stream",
     "text": [
      "CropBox missing from /Page, defaulting to MediaBox\n",
      "CropBox missing from /Page, defaulting to MediaBox\n",
      "CropBox missing from /Page, defaulting to MediaBox\n",
      "CropBox missing from /Page, defaulting to MediaBox\n",
      "CropBox missing from /Page, defaulting to MediaBox\n",
      "CropBox missing from /Page, defaulting to MediaBox\n",
      "CropBox missing from /Page, defaulting to MediaBox\n",
      "CropBox missing from /Page, defaulting to MediaBox\n"
     ]
    },
    {
     "name": "stdout",
     "output_type": "stream",
     "text": [
      "Traitement page 122...\n",
      "Traitement page 123...\n",
      "Traitement page 124...\n",
      "Traitement page 125...\n"
     ]
    },
    {
     "name": "stderr",
     "output_type": "stream",
     "text": [
      "CropBox missing from /Page, defaulting to MediaBox\n",
      "CropBox missing from /Page, defaulting to MediaBox\n",
      "CropBox missing from /Page, defaulting to MediaBox\n",
      "CropBox missing from /Page, defaulting to MediaBox\n"
     ]
    },
    {
     "name": "stdout",
     "output_type": "stream",
     "text": [
      "Traitement page 126...\n",
      "Traitement page 127...\n"
     ]
    },
    {
     "name": "stderr",
     "output_type": "stream",
     "text": [
      "CropBox missing from /Page, defaulting to MediaBox\n",
      "CropBox missing from /Page, defaulting to MediaBox\n",
      "CropBox missing from /Page, defaulting to MediaBox\n",
      "CropBox missing from /Page, defaulting to MediaBox\n"
     ]
    },
    {
     "name": "stdout",
     "output_type": "stream",
     "text": [
      "Traitement page 128...\n",
      "Traitement page 129...\n"
     ]
    },
    {
     "name": "stderr",
     "output_type": "stream",
     "text": [
      "CropBox missing from /Page, defaulting to MediaBox\n",
      "CropBox missing from /Page, defaulting to MediaBox\n",
      "CropBox missing from /Page, defaulting to MediaBox\n",
      "CropBox missing from /Page, defaulting to MediaBox\n",
      "CropBox missing from /Page, defaulting to MediaBox\n",
      "CropBox missing from /Page, defaulting to MediaBox\n",
      "CropBox missing from /Page, defaulting to MediaBox\n",
      "CropBox missing from /Page, defaulting to MediaBox\n"
     ]
    },
    {
     "name": "stdout",
     "output_type": "stream",
     "text": [
      "Traitement page 130...\n",
      "Traitement page 131...\n",
      "Traitement page 132...\n",
      "Traitement page 133...\n"
     ]
    },
    {
     "name": "stderr",
     "output_type": "stream",
     "text": [
      "CropBox missing from /Page, defaulting to MediaBox\n",
      "CropBox missing from /Page, defaulting to MediaBox\n",
      "CropBox missing from /Page, defaulting to MediaBox\n",
      "CropBox missing from /Page, defaulting to MediaBox\n"
     ]
    },
    {
     "name": "stdout",
     "output_type": "stream",
     "text": [
      "Traitement page 134...\n",
      "Traitement page 135...\n"
     ]
    },
    {
     "name": "stderr",
     "output_type": "stream",
     "text": [
      "CropBox missing from /Page, defaulting to MediaBox\n",
      "CropBox missing from /Page, defaulting to MediaBox\n",
      "CropBox missing from /Page, defaulting to MediaBox\n",
      "CropBox missing from /Page, defaulting to MediaBox\n"
     ]
    },
    {
     "name": "stdout",
     "output_type": "stream",
     "text": [
      "Traitement page 136...\n",
      "Traitement page 137...\n"
     ]
    },
    {
     "name": "stderr",
     "output_type": "stream",
     "text": [
      "CropBox missing from /Page, defaulting to MediaBox\n",
      "CropBox missing from /Page, defaulting to MediaBox\n",
      "CropBox missing from /Page, defaulting to MediaBox\n",
      "CropBox missing from /Page, defaulting to MediaBox\n"
     ]
    },
    {
     "name": "stdout",
     "output_type": "stream",
     "text": [
      "Traitement page 138...\n",
      "Traitement page 139...\n"
     ]
    },
    {
     "name": "stderr",
     "output_type": "stream",
     "text": [
      "CropBox missing from /Page, defaulting to MediaBox\n",
      "CropBox missing from /Page, defaulting to MediaBox\n",
      "CropBox missing from /Page, defaulting to MediaBox\n"
     ]
    },
    {
     "name": "stdout",
     "output_type": "stream",
     "text": [
      "Traitement page 140...\n"
     ]
    },
    {
     "name": "stderr",
     "output_type": "stream",
     "text": [
      "CropBox missing from /Page, defaulting to MediaBox\n"
     ]
    },
    {
     "name": "stdout",
     "output_type": "stream",
     "text": [
      "Traitement page 141...\n"
     ]
    },
    {
     "name": "stderr",
     "output_type": "stream",
     "text": [
      "CropBox missing from /Page, defaulting to MediaBox\n",
      "CropBox missing from /Page, defaulting to MediaBox\n",
      "CropBox missing from /Page, defaulting to MediaBox\n",
      "CropBox missing from /Page, defaulting to MediaBox\n"
     ]
    },
    {
     "name": "stdout",
     "output_type": "stream",
     "text": [
      "Traitement page 142...\n",
      "Traitement page 143...\n"
     ]
    },
    {
     "name": "stderr",
     "output_type": "stream",
     "text": [
      "CropBox missing from /Page, defaulting to MediaBox\n",
      "CropBox missing from /Page, defaulting to MediaBox\n"
     ]
    },
    {
     "name": "stdout",
     "output_type": "stream",
     "text": [
      "Traitement page 144...\n"
     ]
    },
    {
     "name": "stderr",
     "output_type": "stream",
     "text": [
      "CropBox missing from /Page, defaulting to MediaBox\n",
      "CropBox missing from /Page, defaulting to MediaBox\n",
      "CropBox missing from /Page, defaulting to MediaBox\n"
     ]
    },
    {
     "name": "stdout",
     "output_type": "stream",
     "text": [
      "Traitement page 145...\n",
      "Traitement page 146...\n"
     ]
    },
    {
     "name": "stderr",
     "output_type": "stream",
     "text": [
      "CropBox missing from /Page, defaulting to MediaBox\n",
      "CropBox missing from /Page, defaulting to MediaBox\n",
      "CropBox missing from /Page, defaulting to MediaBox\n",
      "CropBox missing from /Page, defaulting to MediaBox\n",
      "CropBox missing from /Page, defaulting to MediaBox\n"
     ]
    },
    {
     "name": "stdout",
     "output_type": "stream",
     "text": [
      "Traitement page 147...\n",
      "Traitement page 148...\n"
     ]
    },
    {
     "name": "stderr",
     "output_type": "stream",
     "text": [
      "CropBox missing from /Page, defaulting to MediaBox\n",
      "CropBox missing from /Page, defaulting to MediaBox\n",
      "CropBox missing from /Page, defaulting to MediaBox\n",
      "CropBox missing from /Page, defaulting to MediaBox\n",
      "CropBox missing from /Page, defaulting to MediaBox\n",
      "CropBox missing from /Page, defaulting to MediaBox\n"
     ]
    },
    {
     "name": "stdout",
     "output_type": "stream",
     "text": [
      "Traitement page 149...\n",
      "Traitement page 150...\n",
      "Traitement page 151...\n"
     ]
    },
    {
     "name": "stderr",
     "output_type": "stream",
     "text": [
      "CropBox missing from /Page, defaulting to MediaBox\n",
      "CropBox missing from /Page, defaulting to MediaBox\n",
      "CropBox missing from /Page, defaulting to MediaBox\n",
      "CropBox missing from /Page, defaulting to MediaBox\n",
      "CropBox missing from /Page, defaulting to MediaBox\n"
     ]
    },
    {
     "name": "stdout",
     "output_type": "stream",
     "text": [
      "Traitement page 152...\n",
      "Traitement page 153...\n"
     ]
    },
    {
     "name": "stderr",
     "output_type": "stream",
     "text": [
      "CropBox missing from /Page, defaulting to MediaBox\n",
      "CropBox missing from /Page, defaulting to MediaBox\n",
      "CropBox missing from /Page, defaulting to MediaBox\n"
     ]
    },
    {
     "name": "stdout",
     "output_type": "stream",
     "text": [
      "Traitement page 154...\n",
      "Traitement page 155...\n"
     ]
    },
    {
     "name": "stderr",
     "output_type": "stream",
     "text": [
      "CropBox missing from /Page, defaulting to MediaBox\n",
      "CropBox missing from /Page, defaulting to MediaBox\n"
     ]
    },
    {
     "name": "stdout",
     "output_type": "stream",
     "text": [
      "Traitement page 156...\n"
     ]
    },
    {
     "name": "stderr",
     "output_type": "stream",
     "text": [
      "CropBox missing from /Page, defaulting to MediaBox\n",
      "CropBox missing from /Page, defaulting to MediaBox\n"
     ]
    },
    {
     "name": "stdout",
     "output_type": "stream",
     "text": [
      "Traitement page 157...\n"
     ]
    },
    {
     "name": "stderr",
     "output_type": "stream",
     "text": [
      "CropBox missing from /Page, defaulting to MediaBox\n",
      "CropBox missing from /Page, defaulting to MediaBox\n",
      "CropBox missing from /Page, defaulting to MediaBox\n",
      "CropBox missing from /Page, defaulting to MediaBox\n"
     ]
    },
    {
     "name": "stdout",
     "output_type": "stream",
     "text": [
      "Traitement page 158...\n",
      "Traitement page 159...\n"
     ]
    },
    {
     "name": "stderr",
     "output_type": "stream",
     "text": [
      "CropBox missing from /Page, defaulting to MediaBox\n",
      "CropBox missing from /Page, defaulting to MediaBox\n"
     ]
    },
    {
     "name": "stdout",
     "output_type": "stream",
     "text": [
      "Traitement page 160...\n"
     ]
    },
    {
     "name": "stderr",
     "output_type": "stream",
     "text": [
      "CropBox missing from /Page, defaulting to MediaBox\n",
      "CropBox missing from /Page, defaulting to MediaBox\n",
      "CropBox missing from /Page, defaulting to MediaBox\n"
     ]
    },
    {
     "name": "stdout",
     "output_type": "stream",
     "text": [
      "Traitement page 161...\n"
     ]
    },
    {
     "name": "stderr",
     "output_type": "stream",
     "text": [
      "CropBox missing from /Page, defaulting to MediaBox\n",
      "CropBox missing from /Page, defaulting to MediaBox\n",
      "CropBox missing from /Page, defaulting to MediaBox\n"
     ]
    },
    {
     "name": "stdout",
     "output_type": "stream",
     "text": [
      "Traitement page 162...\n",
      "Traitement page 163...\n"
     ]
    },
    {
     "name": "stderr",
     "output_type": "stream",
     "text": [
      "CropBox missing from /Page, defaulting to MediaBox\n",
      "CropBox missing from /Page, defaulting to MediaBox\n",
      "CropBox missing from /Page, defaulting to MediaBox\n",
      "CropBox missing from /Page, defaulting to MediaBox\n"
     ]
    },
    {
     "name": "stdout",
     "output_type": "stream",
     "text": [
      "Traitement page 164...\n",
      "Traitement page 165...\n"
     ]
    },
    {
     "name": "stderr",
     "output_type": "stream",
     "text": [
      "CropBox missing from /Page, defaulting to MediaBox\n",
      "CropBox missing from /Page, defaulting to MediaBox\n",
      "CropBox missing from /Page, defaulting to MediaBox\n",
      "CropBox missing from /Page, defaulting to MediaBox\n"
     ]
    },
    {
     "name": "stdout",
     "output_type": "stream",
     "text": [
      "Traitement page 166...\n",
      "Traitement page 167...\n"
     ]
    },
    {
     "name": "stderr",
     "output_type": "stream",
     "text": [
      "CropBox missing from /Page, defaulting to MediaBox\n",
      "CropBox missing from /Page, defaulting to MediaBox\n",
      "CropBox missing from /Page, defaulting to MediaBox\n",
      "CropBox missing from /Page, defaulting to MediaBox\n"
     ]
    },
    {
     "name": "stdout",
     "output_type": "stream",
     "text": [
      "Traitement page 168...\n",
      "Traitement page 169...\n"
     ]
    },
    {
     "name": "stderr",
     "output_type": "stream",
     "text": [
      "CropBox missing from /Page, defaulting to MediaBox\n",
      "CropBox missing from /Page, defaulting to MediaBox\n",
      "CropBox missing from /Page, defaulting to MediaBox\n",
      "CropBox missing from /Page, defaulting to MediaBox\n",
      "CropBox missing from /Page, defaulting to MediaBox\n",
      "CropBox missing from /Page, defaulting to MediaBox\n"
     ]
    },
    {
     "name": "stdout",
     "output_type": "stream",
     "text": [
      "Traitement page 170...\n",
      "Traitement page 171...\n",
      "Traitement page 172...\n"
     ]
    },
    {
     "name": "stderr",
     "output_type": "stream",
     "text": [
      "CropBox missing from /Page, defaulting to MediaBox\n",
      "CropBox missing from /Page, defaulting to MediaBox\n",
      "CropBox missing from /Page, defaulting to MediaBox\n",
      "CropBox missing from /Page, defaulting to MediaBox\n",
      "CropBox missing from /Page, defaulting to MediaBox\n"
     ]
    },
    {
     "name": "stdout",
     "output_type": "stream",
     "text": [
      "Traitement page 173...\n",
      "Traitement page 174...\n"
     ]
    },
    {
     "name": "stderr",
     "output_type": "stream",
     "text": [
      "CropBox missing from /Page, defaulting to MediaBox\n",
      "CropBox missing from /Page, defaulting to MediaBox\n",
      "CropBox missing from /Page, defaulting to MediaBox\n",
      "CropBox missing from /Page, defaulting to MediaBox\n",
      "CropBox missing from /Page, defaulting to MediaBox\n"
     ]
    },
    {
     "name": "stdout",
     "output_type": "stream",
     "text": [
      "Traitement page 175...\n",
      "Traitement page 176...\n",
      "Traitement page 177...\n"
     ]
    },
    {
     "name": "stderr",
     "output_type": "stream",
     "text": [
      "CropBox missing from /Page, defaulting to MediaBox\n",
      "CropBox missing from /Page, defaulting to MediaBox\n",
      "CropBox missing from /Page, defaulting to MediaBox\n",
      "CropBox missing from /Page, defaulting to MediaBox\n"
     ]
    },
    {
     "name": "stdout",
     "output_type": "stream",
     "text": [
      "Traitement page 178...\n",
      "Traitement page 179...\n"
     ]
    },
    {
     "name": "stderr",
     "output_type": "stream",
     "text": [
      "CropBox missing from /Page, defaulting to MediaBox\n",
      "CropBox missing from /Page, defaulting to MediaBox\n",
      "CropBox missing from /Page, defaulting to MediaBox\n",
      "CropBox missing from /Page, defaulting to MediaBox\n"
     ]
    },
    {
     "name": "stdout",
     "output_type": "stream",
     "text": [
      "Traitement page 180...\n",
      "Traitement page 181...\n"
     ]
    },
    {
     "name": "stderr",
     "output_type": "stream",
     "text": [
      "CropBox missing from /Page, defaulting to MediaBox\n",
      "CropBox missing from /Page, defaulting to MediaBox\n",
      "CropBox missing from /Page, defaulting to MediaBox\n",
      "CropBox missing from /Page, defaulting to MediaBox\n"
     ]
    },
    {
     "name": "stdout",
     "output_type": "stream",
     "text": [
      "Traitement page 182...\n",
      "Traitement page 183...\n"
     ]
    },
    {
     "name": "stderr",
     "output_type": "stream",
     "text": [
      "CropBox missing from /Page, defaulting to MediaBox\n",
      "CropBox missing from /Page, defaulting to MediaBox\n",
      "CropBox missing from /Page, defaulting to MediaBox\n",
      "CropBox missing from /Page, defaulting to MediaBox\n"
     ]
    },
    {
     "name": "stdout",
     "output_type": "stream",
     "text": [
      "Traitement page 184...\n",
      "Traitement page 185...\n"
     ]
    },
    {
     "name": "stderr",
     "output_type": "stream",
     "text": [
      "CropBox missing from /Page, defaulting to MediaBox\n",
      "CropBox missing from /Page, defaulting to MediaBox\n",
      "CropBox missing from /Page, defaulting to MediaBox\n",
      "CropBox missing from /Page, defaulting to MediaBox\n"
     ]
    },
    {
     "name": "stdout",
     "output_type": "stream",
     "text": [
      "Traitement page 186...\n",
      "Traitement page 187...\n"
     ]
    },
    {
     "name": "stderr",
     "output_type": "stream",
     "text": [
      "CropBox missing from /Page, defaulting to MediaBox\n",
      "CropBox missing from /Page, defaulting to MediaBox\n",
      "CropBox missing from /Page, defaulting to MediaBox\n",
      "CropBox missing from /Page, defaulting to MediaBox\n"
     ]
    },
    {
     "name": "stdout",
     "output_type": "stream",
     "text": [
      "Traitement page 188...\n",
      "Traitement page 189...\n"
     ]
    },
    {
     "name": "stderr",
     "output_type": "stream",
     "text": [
      "CropBox missing from /Page, defaulting to MediaBox\n",
      "CropBox missing from /Page, defaulting to MediaBox\n",
      "CropBox missing from /Page, defaulting to MediaBox\n",
      "CropBox missing from /Page, defaulting to MediaBox\n"
     ]
    },
    {
     "name": "stdout",
     "output_type": "stream",
     "text": [
      "Traitement page 190...\n",
      "Traitement page 191...\n"
     ]
    },
    {
     "name": "stderr",
     "output_type": "stream",
     "text": [
      "CropBox missing from /Page, defaulting to MediaBox\n",
      "CropBox missing from /Page, defaulting to MediaBox\n",
      "CropBox missing from /Page, defaulting to MediaBox\n",
      "CropBox missing from /Page, defaulting to MediaBox\n"
     ]
    },
    {
     "name": "stdout",
     "output_type": "stream",
     "text": [
      "Traitement page 192...\n",
      "Traitement page 193...\n"
     ]
    },
    {
     "name": "stderr",
     "output_type": "stream",
     "text": [
      "CropBox missing from /Page, defaulting to MediaBox\n",
      "CropBox missing from /Page, defaulting to MediaBox\n",
      "CropBox missing from /Page, defaulting to MediaBox\n",
      "CropBox missing from /Page, defaulting to MediaBox\n",
      "CropBox missing from /Page, defaulting to MediaBox\n",
      "CropBox missing from /Page, defaulting to MediaBox\n"
     ]
    },
    {
     "name": "stdout",
     "output_type": "stream",
     "text": [
      "Traitement page 194...\n",
      "Traitement page 195...\n",
      "Traitement page 196...\n"
     ]
    },
    {
     "name": "stderr",
     "output_type": "stream",
     "text": [
      "CropBox missing from /Page, defaulting to MediaBox\n",
      "CropBox missing from /Page, defaulting to MediaBox\n",
      "CropBox missing from /Page, defaulting to MediaBox\n",
      "CropBox missing from /Page, defaulting to MediaBox\n"
     ]
    },
    {
     "name": "stdout",
     "output_type": "stream",
     "text": [
      "Traitement page 197...\n",
      "Traitement page 198...\n"
     ]
    },
    {
     "name": "stderr",
     "output_type": "stream",
     "text": [
      "CropBox missing from /Page, defaulting to MediaBox\n",
      "CropBox missing from /Page, defaulting to MediaBox\n",
      "CropBox missing from /Page, defaulting to MediaBox\n",
      "CropBox missing from /Page, defaulting to MediaBox\n"
     ]
    },
    {
     "name": "stdout",
     "output_type": "stream",
     "text": [
      "Traitement page 199...\n",
      "Traitement page 200...\n"
     ]
    },
    {
     "name": "stderr",
     "output_type": "stream",
     "text": [
      "CropBox missing from /Page, defaulting to MediaBox\n",
      "CropBox missing from /Page, defaulting to MediaBox\n",
      "CropBox missing from /Page, defaulting to MediaBox\n",
      "CropBox missing from /Page, defaulting to MediaBox\n"
     ]
    },
    {
     "name": "stdout",
     "output_type": "stream",
     "text": [
      "Traitement page 201...\n",
      "Traitement page 202...\n"
     ]
    },
    {
     "name": "stderr",
     "output_type": "stream",
     "text": [
      "CropBox missing from /Page, defaulting to MediaBox\n",
      "CropBox missing from /Page, defaulting to MediaBox\n",
      "CropBox missing from /Page, defaulting to MediaBox\n",
      "CropBox missing from /Page, defaulting to MediaBox\n"
     ]
    },
    {
     "name": "stdout",
     "output_type": "stream",
     "text": [
      "Traitement page 203...\n",
      "Traitement page 204...\n"
     ]
    },
    {
     "name": "stderr",
     "output_type": "stream",
     "text": [
      "CropBox missing from /Page, defaulting to MediaBox\n",
      "CropBox missing from /Page, defaulting to MediaBox\n",
      "CropBox missing from /Page, defaulting to MediaBox\n",
      "CropBox missing from /Page, defaulting to MediaBox\n"
     ]
    },
    {
     "name": "stdout",
     "output_type": "stream",
     "text": [
      "Traitement page 205...\n",
      "Traitement page 206...\n"
     ]
    },
    {
     "name": "stderr",
     "output_type": "stream",
     "text": [
      "CropBox missing from /Page, defaulting to MediaBox\n",
      "CropBox missing from /Page, defaulting to MediaBox\n",
      "CropBox missing from /Page, defaulting to MediaBox\n",
      "CropBox missing from /Page, defaulting to MediaBox\n"
     ]
    },
    {
     "name": "stdout",
     "output_type": "stream",
     "text": [
      "Traitement page 207...\n",
      "Traitement page 208...\n"
     ]
    },
    {
     "name": "stderr",
     "output_type": "stream",
     "text": [
      "CropBox missing from /Page, defaulting to MediaBox\n",
      "CropBox missing from /Page, defaulting to MediaBox\n",
      "CropBox missing from /Page, defaulting to MediaBox\n",
      "CropBox missing from /Page, defaulting to MediaBox\n"
     ]
    },
    {
     "name": "stdout",
     "output_type": "stream",
     "text": [
      "Traitement page 209...\n",
      "Traitement page 210...\n"
     ]
    },
    {
     "name": "stderr",
     "output_type": "stream",
     "text": [
      "CropBox missing from /Page, defaulting to MediaBox\n",
      "CropBox missing from /Page, defaulting to MediaBox\n",
      "CropBox missing from /Page, defaulting to MediaBox\n",
      "CropBox missing from /Page, defaulting to MediaBox\n"
     ]
    },
    {
     "name": "stdout",
     "output_type": "stream",
     "text": [
      "Traitement page 211...\n",
      "Traitement page 212...\n"
     ]
    },
    {
     "name": "stderr",
     "output_type": "stream",
     "text": [
      "CropBox missing from /Page, defaulting to MediaBox\n",
      "CropBox missing from /Page, defaulting to MediaBox\n",
      "CropBox missing from /Page, defaulting to MediaBox\n",
      "CropBox missing from /Page, defaulting to MediaBox\n",
      "CropBox missing from /Page, defaulting to MediaBox\n",
      "CropBox missing from /Page, defaulting to MediaBox\n"
     ]
    },
    {
     "name": "stdout",
     "output_type": "stream",
     "text": [
      "Traitement page 213...\n",
      "Traitement page 214...\n",
      "Traitement page 215...\n"
     ]
    },
    {
     "name": "stderr",
     "output_type": "stream",
     "text": [
      "CropBox missing from /Page, defaulting to MediaBox\n",
      "CropBox missing from /Page, defaulting to MediaBox\n",
      "CropBox missing from /Page, defaulting to MediaBox\n",
      "CropBox missing from /Page, defaulting to MediaBox\n"
     ]
    },
    {
     "name": "stdout",
     "output_type": "stream",
     "text": [
      "Traitement page 216...\n",
      "Traitement page 217...\n"
     ]
    },
    {
     "name": "stderr",
     "output_type": "stream",
     "text": [
      "CropBox missing from /Page, defaulting to MediaBox\n",
      "CropBox missing from /Page, defaulting to MediaBox\n",
      "CropBox missing from /Page, defaulting to MediaBox\n",
      "CropBox missing from /Page, defaulting to MediaBox\n"
     ]
    },
    {
     "name": "stdout",
     "output_type": "stream",
     "text": [
      "Traitement page 218...\n",
      "Traitement page 219...\n"
     ]
    },
    {
     "name": "stderr",
     "output_type": "stream",
     "text": [
      "CropBox missing from /Page, defaulting to MediaBox\n",
      "CropBox missing from /Page, defaulting to MediaBox\n",
      "CropBox missing from /Page, defaulting to MediaBox\n",
      "CropBox missing from /Page, defaulting to MediaBox\n"
     ]
    },
    {
     "name": "stdout",
     "output_type": "stream",
     "text": [
      "Traitement page 220...\n",
      "Traitement page 221...\n"
     ]
    },
    {
     "name": "stderr",
     "output_type": "stream",
     "text": [
      "CropBox missing from /Page, defaulting to MediaBox\n",
      "CropBox missing from /Page, defaulting to MediaBox\n",
      "CropBox missing from /Page, defaulting to MediaBox\n",
      "CropBox missing from /Page, defaulting to MediaBox\n"
     ]
    },
    {
     "name": "stdout",
     "output_type": "stream",
     "text": [
      "Traitement page 222...\n",
      "Traitement page 223...\n"
     ]
    },
    {
     "name": "stderr",
     "output_type": "stream",
     "text": [
      "CropBox missing from /Page, defaulting to MediaBox\n",
      "CropBox missing from /Page, defaulting to MediaBox\n",
      "CropBox missing from /Page, defaulting to MediaBox\n",
      "CropBox missing from /Page, defaulting to MediaBox\n"
     ]
    },
    {
     "name": "stdout",
     "output_type": "stream",
     "text": [
      "Traitement page 224...\n",
      "Traitement page 225...\n"
     ]
    },
    {
     "name": "stderr",
     "output_type": "stream",
     "text": [
      "CropBox missing from /Page, defaulting to MediaBox\n",
      "CropBox missing from /Page, defaulting to MediaBox\n"
     ]
    },
    {
     "name": "stdout",
     "output_type": "stream",
     "text": [
      "Traitement page 226...\n"
     ]
    },
    {
     "name": "stderr",
     "output_type": "stream",
     "text": [
      "CropBox missing from /Page, defaulting to MediaBox\n",
      "CropBox missing from /Page, defaulting to MediaBox\n",
      "CropBox missing from /Page, defaulting to MediaBox\n",
      "CropBox missing from /Page, defaulting to MediaBox\n"
     ]
    },
    {
     "name": "stdout",
     "output_type": "stream",
     "text": [
      "Traitement page 227...\n",
      "Traitement page 228...\n"
     ]
    },
    {
     "name": "stderr",
     "output_type": "stream",
     "text": [
      "CropBox missing from /Page, defaulting to MediaBox\n",
      "CropBox missing from /Page, defaulting to MediaBox\n",
      "CropBox missing from /Page, defaulting to MediaBox\n",
      "CropBox missing from /Page, defaulting to MediaBox\n"
     ]
    },
    {
     "name": "stdout",
     "output_type": "stream",
     "text": [
      "Traitement page 229...\n",
      "Traitement page 230...\n"
     ]
    },
    {
     "name": "stderr",
     "output_type": "stream",
     "text": [
      "CropBox missing from /Page, defaulting to MediaBox\n",
      "CropBox missing from /Page, defaulting to MediaBox\n",
      "CropBox missing from /Page, defaulting to MediaBox\n",
      "CropBox missing from /Page, defaulting to MediaBox\n"
     ]
    },
    {
     "name": "stdout",
     "output_type": "stream",
     "text": [
      "Traitement page 231...\n",
      "Traitement page 232...\n"
     ]
    },
    {
     "name": "stderr",
     "output_type": "stream",
     "text": [
      "CropBox missing from /Page, defaulting to MediaBox\n",
      "CropBox missing from /Page, defaulting to MediaBox\n",
      "CropBox missing from /Page, defaulting to MediaBox\n",
      "CropBox missing from /Page, defaulting to MediaBox\n"
     ]
    },
    {
     "name": "stdout",
     "output_type": "stream",
     "text": [
      "Traitement page 233...\n",
      "Traitement page 234...\n"
     ]
    },
    {
     "name": "stderr",
     "output_type": "stream",
     "text": [
      "CropBox missing from /Page, defaulting to MediaBox\n",
      "CropBox missing from /Page, defaulting to MediaBox\n",
      "CropBox missing from /Page, defaulting to MediaBox\n",
      "CropBox missing from /Page, defaulting to MediaBox\n"
     ]
    },
    {
     "name": "stdout",
     "output_type": "stream",
     "text": [
      "Traitement page 235...\n",
      "Traitement page 236...\n"
     ]
    },
    {
     "name": "stderr",
     "output_type": "stream",
     "text": [
      "CropBox missing from /Page, defaulting to MediaBox\n",
      "CropBox missing from /Page, defaulting to MediaBox\n",
      "CropBox missing from /Page, defaulting to MediaBox\n",
      "CropBox missing from /Page, defaulting to MediaBox\n"
     ]
    },
    {
     "name": "stdout",
     "output_type": "stream",
     "text": [
      "Traitement page 237...\n",
      "Traitement page 238...\n"
     ]
    },
    {
     "name": "stderr",
     "output_type": "stream",
     "text": [
      "CropBox missing from /Page, defaulting to MediaBox\n",
      "CropBox missing from /Page, defaulting to MediaBox\n",
      "CropBox missing from /Page, defaulting to MediaBox\n",
      "CropBox missing from /Page, defaulting to MediaBox\n"
     ]
    },
    {
     "name": "stdout",
     "output_type": "stream",
     "text": [
      "Traitement page 239...\n",
      "Traitement page 240...\n"
     ]
    },
    {
     "name": "stderr",
     "output_type": "stream",
     "text": [
      "CropBox missing from /Page, defaulting to MediaBox\n",
      "CropBox missing from /Page, defaulting to MediaBox\n",
      "CropBox missing from /Page, defaulting to MediaBox\n",
      "CropBox missing from /Page, defaulting to MediaBox\n"
     ]
    },
    {
     "name": "stdout",
     "output_type": "stream",
     "text": [
      "Traitement page 241...\n",
      "Traitement page 242...\n"
     ]
    },
    {
     "name": "stderr",
     "output_type": "stream",
     "text": [
      "CropBox missing from /Page, defaulting to MediaBox\n",
      "CropBox missing from /Page, defaulting to MediaBox\n",
      "CropBox missing from /Page, defaulting to MediaBox\n",
      "CropBox missing from /Page, defaulting to MediaBox\n"
     ]
    },
    {
     "name": "stdout",
     "output_type": "stream",
     "text": [
      "Traitement page 243...\n",
      "Traitement page 244...\n"
     ]
    },
    {
     "name": "stderr",
     "output_type": "stream",
     "text": [
      "CropBox missing from /Page, defaulting to MediaBox\n",
      "CropBox missing from /Page, defaulting to MediaBox\n",
      "CropBox missing from /Page, defaulting to MediaBox\n",
      "CropBox missing from /Page, defaulting to MediaBox\n"
     ]
    },
    {
     "name": "stdout",
     "output_type": "stream",
     "text": [
      "Traitement page 245...\n",
      "Traitement page 246...\n"
     ]
    },
    {
     "name": "stderr",
     "output_type": "stream",
     "text": [
      "CropBox missing from /Page, defaulting to MediaBox\n",
      "CropBox missing from /Page, defaulting to MediaBox\n",
      "CropBox missing from /Page, defaulting to MediaBox\n",
      "CropBox missing from /Page, defaulting to MediaBox\n"
     ]
    },
    {
     "name": "stdout",
     "output_type": "stream",
     "text": [
      "Traitement page 247...\n",
      "Traitement page 248...\n"
     ]
    },
    {
     "name": "stderr",
     "output_type": "stream",
     "text": [
      "CropBox missing from /Page, defaulting to MediaBox\n",
      "CropBox missing from /Page, defaulting to MediaBox\n",
      "CropBox missing from /Page, defaulting to MediaBox\n",
      "CropBox missing from /Page, defaulting to MediaBox\n"
     ]
    },
    {
     "name": "stdout",
     "output_type": "stream",
     "text": [
      "Traitement page 249...\n",
      "Traitement page 250...\n"
     ]
    },
    {
     "name": "stderr",
     "output_type": "stream",
     "text": [
      "CropBox missing from /Page, defaulting to MediaBox\n",
      "CropBox missing from /Page, defaulting to MediaBox\n",
      "CropBox missing from /Page, defaulting to MediaBox\n",
      "CropBox missing from /Page, defaulting to MediaBox\n",
      "CropBox missing from /Page, defaulting to MediaBox\n",
      "CropBox missing from /Page, defaulting to MediaBox\n"
     ]
    },
    {
     "name": "stdout",
     "output_type": "stream",
     "text": [
      "Traitement page 251...\n",
      "Traitement page 252...\n",
      "Traitement page 253...\n"
     ]
    },
    {
     "name": "stderr",
     "output_type": "stream",
     "text": [
      "CropBox missing from /Page, defaulting to MediaBox\n",
      "CropBox missing from /Page, defaulting to MediaBox\n",
      "CropBox missing from /Page, defaulting to MediaBox\n",
      "CropBox missing from /Page, defaulting to MediaBox\n"
     ]
    },
    {
     "name": "stdout",
     "output_type": "stream",
     "text": [
      "Traitement page 254...\n",
      "Traitement page 255...\n"
     ]
    },
    {
     "name": "stderr",
     "output_type": "stream",
     "text": [
      "CropBox missing from /Page, defaulting to MediaBox\n",
      "CropBox missing from /Page, defaulting to MediaBox\n",
      "CropBox missing from /Page, defaulting to MediaBox\n",
      "CropBox missing from /Page, defaulting to MediaBox\n"
     ]
    },
    {
     "name": "stdout",
     "output_type": "stream",
     "text": [
      "Traitement page 256...\n",
      "Traitement page 257...\n"
     ]
    },
    {
     "name": "stderr",
     "output_type": "stream",
     "text": [
      "CropBox missing from /Page, defaulting to MediaBox\n",
      "CropBox missing from /Page, defaulting to MediaBox\n",
      "CropBox missing from /Page, defaulting to MediaBox\n",
      "CropBox missing from /Page, defaulting to MediaBox\n",
      "CropBox missing from /Page, defaulting to MediaBox\n",
      "CropBox missing from /Page, defaulting to MediaBox\n"
     ]
    },
    {
     "name": "stdout",
     "output_type": "stream",
     "text": [
      "Traitement page 258...\n",
      "Traitement page 259...\n",
      "Traitement page 260...\n"
     ]
    },
    {
     "name": "stderr",
     "output_type": "stream",
     "text": [
      "CropBox missing from /Page, defaulting to MediaBox\n",
      "CropBox missing from /Page, defaulting to MediaBox\n"
     ]
    },
    {
     "name": "stdout",
     "output_type": "stream",
     "text": [
      "Traitement page 261...\n"
     ]
    },
    {
     "name": "stderr",
     "output_type": "stream",
     "text": [
      "CropBox missing from /Page, defaulting to MediaBox\n",
      "CropBox missing from /Page, defaulting to MediaBox\n",
      "CropBox missing from /Page, defaulting to MediaBox\n",
      "CropBox missing from /Page, defaulting to MediaBox\n"
     ]
    },
    {
     "name": "stdout",
     "output_type": "stream",
     "text": [
      "Traitement page 262...\n",
      "Traitement page 263...\n"
     ]
    },
    {
     "name": "stderr",
     "output_type": "stream",
     "text": [
      "CropBox missing from /Page, defaulting to MediaBox\n",
      "CropBox missing from /Page, defaulting to MediaBox\n",
      "CropBox missing from /Page, defaulting to MediaBox\n",
      "CropBox missing from /Page, defaulting to MediaBox\n"
     ]
    },
    {
     "name": "stdout",
     "output_type": "stream",
     "text": [
      "Traitement page 264...\n",
      "Traitement page 265...\n"
     ]
    },
    {
     "name": "stderr",
     "output_type": "stream",
     "text": [
      "CropBox missing from /Page, defaulting to MediaBox\n",
      "CropBox missing from /Page, defaulting to MediaBox\n",
      "CropBox missing from /Page, defaulting to MediaBox\n",
      "CropBox missing from /Page, defaulting to MediaBox\n"
     ]
    },
    {
     "name": "stdout",
     "output_type": "stream",
     "text": [
      "Traitement page 266...\n",
      "Traitement page 267...\n"
     ]
    },
    {
     "name": "stderr",
     "output_type": "stream",
     "text": [
      "CropBox missing from /Page, defaulting to MediaBox\n",
      "CropBox missing from /Page, defaulting to MediaBox\n",
      "CropBox missing from /Page, defaulting to MediaBox\n",
      "CropBox missing from /Page, defaulting to MediaBox\n"
     ]
    },
    {
     "name": "stdout",
     "output_type": "stream",
     "text": [
      "Traitement page 268...\n",
      "Traitement page 269...\n"
     ]
    },
    {
     "name": "stderr",
     "output_type": "stream",
     "text": [
      "CropBox missing from /Page, defaulting to MediaBox\n",
      "CropBox missing from /Page, defaulting to MediaBox\n",
      "CropBox missing from /Page, defaulting to MediaBox\n",
      "CropBox missing from /Page, defaulting to MediaBox\n"
     ]
    },
    {
     "name": "stdout",
     "output_type": "stream",
     "text": [
      "Traitement page 270...\n",
      "Traitement page 271...\n"
     ]
    },
    {
     "name": "stderr",
     "output_type": "stream",
     "text": [
      "CropBox missing from /Page, defaulting to MediaBox\n",
      "CropBox missing from /Page, defaulting to MediaBox\n",
      "CropBox missing from /Page, defaulting to MediaBox\n",
      "CropBox missing from /Page, defaulting to MediaBox\n",
      "CropBox missing from /Page, defaulting to MediaBox\n",
      "CropBox missing from /Page, defaulting to MediaBox\n"
     ]
    },
    {
     "name": "stdout",
     "output_type": "stream",
     "text": [
      "Traitement page 272...\n",
      "Traitement page 273...\n",
      "Traitement page 274...\n"
     ]
    },
    {
     "name": "stderr",
     "output_type": "stream",
     "text": [
      "CropBox missing from /Page, defaulting to MediaBox\n",
      "CropBox missing from /Page, defaulting to MediaBox\n"
     ]
    },
    {
     "name": "stdout",
     "output_type": "stream",
     "text": [
      "Traitement page 275...\n"
     ]
    },
    {
     "name": "stderr",
     "output_type": "stream",
     "text": [
      "CropBox missing from /Page, defaulting to MediaBox\n",
      "CropBox missing from /Page, defaulting to MediaBox\n",
      "CropBox missing from /Page, defaulting to MediaBox\n",
      "CropBox missing from /Page, defaulting to MediaBox\n"
     ]
    },
    {
     "name": "stdout",
     "output_type": "stream",
     "text": [
      "Traitement page 276...\n",
      "Traitement page 277...\n"
     ]
    },
    {
     "name": "stderr",
     "output_type": "stream",
     "text": [
      "CropBox missing from /Page, defaulting to MediaBox\n",
      "CropBox missing from /Page, defaulting to MediaBox\n",
      "CropBox missing from /Page, defaulting to MediaBox\n",
      "CropBox missing from /Page, defaulting to MediaBox\n"
     ]
    },
    {
     "name": "stdout",
     "output_type": "stream",
     "text": [
      "Traitement page 278...\n",
      "Traitement page 279...\n"
     ]
    },
    {
     "name": "stderr",
     "output_type": "stream",
     "text": [
      "CropBox missing from /Page, defaulting to MediaBox\n",
      "CropBox missing from /Page, defaulting to MediaBox\n",
      "CropBox missing from /Page, defaulting to MediaBox\n",
      "CropBox missing from /Page, defaulting to MediaBox\n"
     ]
    },
    {
     "name": "stdout",
     "output_type": "stream",
     "text": [
      "Traitement page 280...\n",
      "Traitement page 281...\n"
     ]
    },
    {
     "name": "stderr",
     "output_type": "stream",
     "text": [
      "CropBox missing from /Page, defaulting to MediaBox\n",
      "CropBox missing from /Page, defaulting to MediaBox\n",
      "CropBox missing from /Page, defaulting to MediaBox\n",
      "CropBox missing from /Page, defaulting to MediaBox\n"
     ]
    },
    {
     "name": "stdout",
     "output_type": "stream",
     "text": [
      "Traitement page 282...\n",
      "Traitement page 283...\n"
     ]
    },
    {
     "name": "stderr",
     "output_type": "stream",
     "text": [
      "CropBox missing from /Page, defaulting to MediaBox\n",
      "CropBox missing from /Page, defaulting to MediaBox\n",
      "CropBox missing from /Page, defaulting to MediaBox\n",
      "CropBox missing from /Page, defaulting to MediaBox\n"
     ]
    },
    {
     "name": "stdout",
     "output_type": "stream",
     "text": [
      "Traitement page 284...\n",
      "Traitement page 285...\n"
     ]
    },
    {
     "name": "stderr",
     "output_type": "stream",
     "text": [
      "CropBox missing from /Page, defaulting to MediaBox\n",
      "CropBox missing from /Page, defaulting to MediaBox\n",
      "CropBox missing from /Page, defaulting to MediaBox\n",
      "CropBox missing from /Page, defaulting to MediaBox\n"
     ]
    },
    {
     "name": "stdout",
     "output_type": "stream",
     "text": [
      "Traitement page 286...\n",
      "Traitement page 287...\n"
     ]
    },
    {
     "name": "stderr",
     "output_type": "stream",
     "text": [
      "CropBox missing from /Page, defaulting to MediaBox\n",
      "CropBox missing from /Page, defaulting to MediaBox\n",
      "CropBox missing from /Page, defaulting to MediaBox\n",
      "CropBox missing from /Page, defaulting to MediaBox\n",
      "CropBox missing from /Page, defaulting to MediaBox\n",
      "CropBox missing from /Page, defaulting to MediaBox\n"
     ]
    },
    {
     "name": "stdout",
     "output_type": "stream",
     "text": [
      "Traitement page 288...\n",
      "Traitement page 289...\n",
      "Traitement page 290...\n"
     ]
    },
    {
     "name": "stderr",
     "output_type": "stream",
     "text": [
      "CropBox missing from /Page, defaulting to MediaBox\n",
      "CropBox missing from /Page, defaulting to MediaBox\n",
      "CropBox missing from /Page, defaulting to MediaBox\n",
      "CropBox missing from /Page, defaulting to MediaBox\n"
     ]
    },
    {
     "name": "stdout",
     "output_type": "stream",
     "text": [
      "Traitement page 291...\n",
      "Traitement page 292...\n"
     ]
    },
    {
     "name": "stderr",
     "output_type": "stream",
     "text": [
      "CropBox missing from /Page, defaulting to MediaBox\n",
      "CropBox missing from /Page, defaulting to MediaBox\n"
     ]
    },
    {
     "name": "stdout",
     "output_type": "stream",
     "text": [
      "Traitement page 293...\n"
     ]
    },
    {
     "name": "stderr",
     "output_type": "stream",
     "text": [
      "CropBox missing from /Page, defaulting to MediaBox\n",
      "CropBox missing from /Page, defaulting to MediaBox\n",
      "CropBox missing from /Page, defaulting to MediaBox\n",
      "CropBox missing from /Page, defaulting to MediaBox\n",
      "CropBox missing from /Page, defaulting to MediaBox\n",
      "CropBox missing from /Page, defaulting to MediaBox\n"
     ]
    },
    {
     "name": "stdout",
     "output_type": "stream",
     "text": [
      "Traitement page 294...\n",
      "Traitement page 295...\n",
      "Traitement page 296...\n"
     ]
    },
    {
     "name": "stderr",
     "output_type": "stream",
     "text": [
      "CropBox missing from /Page, defaulting to MediaBox\n",
      "CropBox missing from /Page, defaulting to MediaBox\n",
      "CropBox missing from /Page, defaulting to MediaBox\n",
      "CropBox missing from /Page, defaulting to MediaBox\n"
     ]
    },
    {
     "name": "stdout",
     "output_type": "stream",
     "text": [
      "Traitement page 297...\n",
      "Traitement page 298...\n"
     ]
    },
    {
     "name": "stderr",
     "output_type": "stream",
     "text": [
      "CropBox missing from /Page, defaulting to MediaBox\n",
      "CropBox missing from /Page, defaulting to MediaBox\n",
      "CropBox missing from /Page, defaulting to MediaBox\n",
      "CropBox missing from /Page, defaulting to MediaBox\n"
     ]
    },
    {
     "name": "stdout",
     "output_type": "stream",
     "text": [
      "Traitement page 299...\n",
      "Traitement page 300...\n"
     ]
    },
    {
     "name": "stderr",
     "output_type": "stream",
     "text": [
      "CropBox missing from /Page, defaulting to MediaBox\n",
      "CropBox missing from /Page, defaulting to MediaBox\n"
     ]
    },
    {
     "name": "stdout",
     "output_type": "stream",
     "text": [
      "Traitement page 301...\n"
     ]
    },
    {
     "name": "stderr",
     "output_type": "stream",
     "text": [
      "CropBox missing from /Page, defaulting to MediaBox\n",
      "CropBox missing from /Page, defaulting to MediaBox\n",
      "CropBox missing from /Page, defaulting to MediaBox\n",
      "CropBox missing from /Page, defaulting to MediaBox\n",
      "CropBox missing from /Page, defaulting to MediaBox\n",
      "CropBox missing from /Page, defaulting to MediaBox\n",
      "CropBox missing from /Page, defaulting to MediaBox\n",
      "CropBox missing from /Page, defaulting to MediaBox\n"
     ]
    },
    {
     "name": "stdout",
     "output_type": "stream",
     "text": [
      "Traitement page 302...\n",
      "Traitement page 303...\n",
      "Traitement page 304...\n",
      "Traitement page 305...\n"
     ]
    },
    {
     "name": "stderr",
     "output_type": "stream",
     "text": [
      "CropBox missing from /Page, defaulting to MediaBox\n",
      "CropBox missing from /Page, defaulting to MediaBox\n",
      "CropBox missing from /Page, defaulting to MediaBox\n",
      "CropBox missing from /Page, defaulting to MediaBox\n",
      "CropBox missing from /Page, defaulting to MediaBox\n",
      "CropBox missing from /Page, defaulting to MediaBox\n"
     ]
    },
    {
     "name": "stdout",
     "output_type": "stream",
     "text": [
      "Traitement page 306...\n",
      "Traitement page 307...\n",
      "Traitement page 308...\n"
     ]
    },
    {
     "name": "stderr",
     "output_type": "stream",
     "text": [
      "CropBox missing from /Page, defaulting to MediaBox\n",
      "CropBox missing from /Page, defaulting to MediaBox\n",
      "CropBox missing from /Page, defaulting to MediaBox\n",
      "CropBox missing from /Page, defaulting to MediaBox\n"
     ]
    },
    {
     "name": "stdout",
     "output_type": "stream",
     "text": [
      "Traitement page 309...\n",
      "Traitement page 310...\n"
     ]
    },
    {
     "name": "stderr",
     "output_type": "stream",
     "text": [
      "CropBox missing from /Page, defaulting to MediaBox\n",
      "CropBox missing from /Page, defaulting to MediaBox\n",
      "CropBox missing from /Page, defaulting to MediaBox\n",
      "CropBox missing from /Page, defaulting to MediaBox\n"
     ]
    },
    {
     "name": "stdout",
     "output_type": "stream",
     "text": [
      "Traitement page 311...\n",
      "Traitement page 312...\n"
     ]
    },
    {
     "name": "stderr",
     "output_type": "stream",
     "text": [
      "CropBox missing from /Page, defaulting to MediaBox\n",
      "CropBox missing from /Page, defaulting to MediaBox\n",
      "CropBox missing from /Page, defaulting to MediaBox\n",
      "CropBox missing from /Page, defaulting to MediaBox\n"
     ]
    },
    {
     "name": "stdout",
     "output_type": "stream",
     "text": [
      "Traitement page 313...\n",
      "Traitement page 314...\n"
     ]
    },
    {
     "name": "stderr",
     "output_type": "stream",
     "text": [
      "CropBox missing from /Page, defaulting to MediaBox\n",
      "CropBox missing from /Page, defaulting to MediaBox\n",
      "CropBox missing from /Page, defaulting to MediaBox\n",
      "CropBox missing from /Page, defaulting to MediaBox\n"
     ]
    },
    {
     "name": "stdout",
     "output_type": "stream",
     "text": [
      "Traitement page 315...\n",
      "Traitement page 316...\n"
     ]
    },
    {
     "name": "stderr",
     "output_type": "stream",
     "text": [
      "CropBox missing from /Page, defaulting to MediaBox\n",
      "CropBox missing from /Page, defaulting to MediaBox\n"
     ]
    },
    {
     "name": "stdout",
     "output_type": "stream",
     "text": [
      "Traitement page 317...\n"
     ]
    },
    {
     "name": "stderr",
     "output_type": "stream",
     "text": [
      "CropBox missing from /Page, defaulting to MediaBox\n",
      "CropBox missing from /Page, defaulting to MediaBox\n",
      "CropBox missing from /Page, defaulting to MediaBox\n",
      "CropBox missing from /Page, defaulting to MediaBox\n"
     ]
    },
    {
     "name": "stdout",
     "output_type": "stream",
     "text": [
      "Traitement page 318...\n",
      "Traitement page 319...\n"
     ]
    },
    {
     "name": "stderr",
     "output_type": "stream",
     "text": [
      "CropBox missing from /Page, defaulting to MediaBox\n",
      "CropBox missing from /Page, defaulting to MediaBox\n",
      "CropBox missing from /Page, defaulting to MediaBox\n",
      "CropBox missing from /Page, defaulting to MediaBox\n"
     ]
    },
    {
     "name": "stdout",
     "output_type": "stream",
     "text": [
      "Traitement page 320...\n",
      "Traitement page 321...\n"
     ]
    },
    {
     "name": "stderr",
     "output_type": "stream",
     "text": [
      "CropBox missing from /Page, defaulting to MediaBox\n",
      "CropBox missing from /Page, defaulting to MediaBox\n"
     ]
    },
    {
     "name": "stdout",
     "output_type": "stream",
     "text": [
      "Traitement page 322...\n"
     ]
    },
    {
     "name": "stderr",
     "output_type": "stream",
     "text": [
      "CropBox missing from /Page, defaulting to MediaBox\n",
      "CropBox missing from /Page, defaulting to MediaBox\n",
      "CropBox missing from /Page, defaulting to MediaBox\n",
      "CropBox missing from /Page, defaulting to MediaBox\n"
     ]
    },
    {
     "name": "stdout",
     "output_type": "stream",
     "text": [
      "Traitement page 323...\n",
      "Traitement page 324...\n"
     ]
    },
    {
     "name": "stderr",
     "output_type": "stream",
     "text": [
      "CropBox missing from /Page, defaulting to MediaBox\n",
      "CropBox missing from /Page, defaulting to MediaBox\n",
      "CropBox missing from /Page, defaulting to MediaBox\n",
      "CropBox missing from /Page, defaulting to MediaBox\n"
     ]
    },
    {
     "name": "stdout",
     "output_type": "stream",
     "text": [
      "Traitement page 325...\n",
      "Traitement page 326...\n"
     ]
    },
    {
     "name": "stderr",
     "output_type": "stream",
     "text": [
      "CropBox missing from /Page, defaulting to MediaBox\n",
      "CropBox missing from /Page, defaulting to MediaBox\n",
      "CropBox missing from /Page, defaulting to MediaBox\n",
      "CropBox missing from /Page, defaulting to MediaBox\n"
     ]
    },
    {
     "name": "stdout",
     "output_type": "stream",
     "text": [
      "Traitement page 327...\n",
      "Traitement page 328...\n"
     ]
    },
    {
     "name": "stderr",
     "output_type": "stream",
     "text": [
      "CropBox missing from /Page, defaulting to MediaBox\n",
      "CropBox missing from /Page, defaulting to MediaBox\n"
     ]
    },
    {
     "name": "stdout",
     "output_type": "stream",
     "text": [
      "Traitement page 329...\n"
     ]
    },
    {
     "name": "stderr",
     "output_type": "stream",
     "text": [
      "CropBox missing from /Page, defaulting to MediaBox\n",
      "CropBox missing from /Page, defaulting to MediaBox\n",
      "CropBox missing from /Page, defaulting to MediaBox\n",
      "CropBox missing from /Page, defaulting to MediaBox\n"
     ]
    },
    {
     "name": "stdout",
     "output_type": "stream",
     "text": [
      "Traitement page 330...\n",
      "Traitement page 331...\n"
     ]
    },
    {
     "name": "stderr",
     "output_type": "stream",
     "text": [
      "CropBox missing from /Page, defaulting to MediaBox\n",
      "CropBox missing from /Page, defaulting to MediaBox\n",
      "CropBox missing from /Page, defaulting to MediaBox\n",
      "CropBox missing from /Page, defaulting to MediaBox\n"
     ]
    },
    {
     "name": "stdout",
     "output_type": "stream",
     "text": [
      "Traitement page 332...\n",
      "Traitement page 333...\n"
     ]
    },
    {
     "name": "stderr",
     "output_type": "stream",
     "text": [
      "CropBox missing from /Page, defaulting to MediaBox\n",
      "CropBox missing from /Page, defaulting to MediaBox\n",
      "CropBox missing from /Page, defaulting to MediaBox\n",
      "CropBox missing from /Page, defaulting to MediaBox\n"
     ]
    },
    {
     "name": "stdout",
     "output_type": "stream",
     "text": [
      "Traitement page 334...\n",
      "Traitement page 335...\n"
     ]
    },
    {
     "name": "stderr",
     "output_type": "stream",
     "text": [
      "CropBox missing from /Page, defaulting to MediaBox\n",
      "CropBox missing from /Page, defaulting to MediaBox\n",
      "CropBox missing from /Page, defaulting to MediaBox\n",
      "CropBox missing from /Page, defaulting to MediaBox\n"
     ]
    },
    {
     "name": "stdout",
     "output_type": "stream",
     "text": [
      "Traitement page 336...\n",
      "Traitement page 337...\n"
     ]
    },
    {
     "name": "stderr",
     "output_type": "stream",
     "text": [
      "CropBox missing from /Page, defaulting to MediaBox\n",
      "CropBox missing from /Page, defaulting to MediaBox\n",
      "CropBox missing from /Page, defaulting to MediaBox\n",
      "CropBox missing from /Page, defaulting to MediaBox\n"
     ]
    },
    {
     "name": "stdout",
     "output_type": "stream",
     "text": [
      "Traitement page 338...\n",
      "Traitement page 339...\n"
     ]
    },
    {
     "name": "stderr",
     "output_type": "stream",
     "text": [
      "CropBox missing from /Page, defaulting to MediaBox\n",
      "CropBox missing from /Page, defaulting to MediaBox\n",
      "CropBox missing from /Page, defaulting to MediaBox\n",
      "CropBox missing from /Page, defaulting to MediaBox\n"
     ]
    },
    {
     "name": "stdout",
     "output_type": "stream",
     "text": [
      "Traitement page 340...\n",
      "Traitement page 341...\n"
     ]
    },
    {
     "name": "stderr",
     "output_type": "stream",
     "text": [
      "CropBox missing from /Page, defaulting to MediaBox\n",
      "CropBox missing from /Page, defaulting to MediaBox\n",
      "CropBox missing from /Page, defaulting to MediaBox\n",
      "CropBox missing from /Page, defaulting to MediaBox\n"
     ]
    },
    {
     "name": "stdout",
     "output_type": "stream",
     "text": [
      "Traitement page 342...\n",
      "Traitement page 343...\n"
     ]
    },
    {
     "name": "stderr",
     "output_type": "stream",
     "text": [
      "CropBox missing from /Page, defaulting to MediaBox\n",
      "CropBox missing from /Page, defaulting to MediaBox\n"
     ]
    },
    {
     "name": "stdout",
     "output_type": "stream",
     "text": [
      "Traitement page 344...\n"
     ]
    },
    {
     "name": "stderr",
     "output_type": "stream",
     "text": [
      "CropBox missing from /Page, defaulting to MediaBox\n",
      "CropBox missing from /Page, defaulting to MediaBox\n",
      "CropBox missing from /Page, defaulting to MediaBox\n",
      "CropBox missing from /Page, defaulting to MediaBox\n"
     ]
    },
    {
     "name": "stdout",
     "output_type": "stream",
     "text": [
      "Traitement page 345...\n",
      "Traitement page 346...\n"
     ]
    },
    {
     "name": "stderr",
     "output_type": "stream",
     "text": [
      "CropBox missing from /Page, defaulting to MediaBox\n",
      "CropBox missing from /Page, defaulting to MediaBox\n",
      "CropBox missing from /Page, defaulting to MediaBox\n",
      "CropBox missing from /Page, defaulting to MediaBox\n"
     ]
    },
    {
     "name": "stdout",
     "output_type": "stream",
     "text": [
      "Traitement page 347...\n",
      "Traitement page 348...\n"
     ]
    },
    {
     "name": "stderr",
     "output_type": "stream",
     "text": [
      "CropBox missing from /Page, defaulting to MediaBox\n",
      "CropBox missing from /Page, defaulting to MediaBox\n",
      "CropBox missing from /Page, defaulting to MediaBox\n",
      "CropBox missing from /Page, defaulting to MediaBox\n"
     ]
    },
    {
     "name": "stdout",
     "output_type": "stream",
     "text": [
      "Traitement page 349...\n",
      "Traitement page 350...\n"
     ]
    },
    {
     "name": "stderr",
     "output_type": "stream",
     "text": [
      "CropBox missing from /Page, defaulting to MediaBox\n",
      "CropBox missing from /Page, defaulting to MediaBox\n",
      "CropBox missing from /Page, defaulting to MediaBox\n",
      "CropBox missing from /Page, defaulting to MediaBox\n"
     ]
    },
    {
     "name": "stdout",
     "output_type": "stream",
     "text": [
      "Traitement page 351...\n",
      "Traitement page 352...\n"
     ]
    },
    {
     "name": "stderr",
     "output_type": "stream",
     "text": [
      "CropBox missing from /Page, defaulting to MediaBox\n",
      "CropBox missing from /Page, defaulting to MediaBox\n",
      "CropBox missing from /Page, defaulting to MediaBox\n"
     ]
    },
    {
     "name": "stdout",
     "output_type": "stream",
     "text": [
      "Traitement page 353...\n"
     ]
    },
    {
     "name": "stderr",
     "output_type": "stream",
     "text": [
      "CropBox missing from /Page, defaulting to MediaBox\n",
      "CropBox missing from /Page, defaulting to MediaBox\n",
      "CropBox missing from /Page, defaulting to MediaBox\n"
     ]
    },
    {
     "name": "stdout",
     "output_type": "stream",
     "text": [
      "Traitement page 354...\n",
      "Traitement page 355...\n"
     ]
    },
    {
     "name": "stderr",
     "output_type": "stream",
     "text": [
      "CropBox missing from /Page, defaulting to MediaBox\n",
      "CropBox missing from /Page, defaulting to MediaBox\n",
      "CropBox missing from /Page, defaulting to MediaBox\n",
      "CropBox missing from /Page, defaulting to MediaBox\n"
     ]
    },
    {
     "name": "stdout",
     "output_type": "stream",
     "text": [
      "Traitement page 356...\n",
      "Traitement page 357...\n"
     ]
    },
    {
     "name": "stderr",
     "output_type": "stream",
     "text": [
      "CropBox missing from /Page, defaulting to MediaBox\n",
      "CropBox missing from /Page, defaulting to MediaBox\n",
      "CropBox missing from /Page, defaulting to MediaBox\n",
      "CropBox missing from /Page, defaulting to MediaBox\n"
     ]
    },
    {
     "name": "stdout",
     "output_type": "stream",
     "text": [
      "Traitement page 358...\n",
      "Traitement page 359...\n"
     ]
    },
    {
     "name": "stderr",
     "output_type": "stream",
     "text": [
      "CropBox missing from /Page, defaulting to MediaBox\n",
      "CropBox missing from /Page, defaulting to MediaBox\n",
      "CropBox missing from /Page, defaulting to MediaBox\n",
      "CropBox missing from /Page, defaulting to MediaBox\n"
     ]
    },
    {
     "name": "stdout",
     "output_type": "stream",
     "text": [
      "Traitement page 360...\n",
      "Traitement page 361...\n"
     ]
    },
    {
     "name": "stderr",
     "output_type": "stream",
     "text": [
      "CropBox missing from /Page, defaulting to MediaBox\n",
      "CropBox missing from /Page, defaulting to MediaBox\n",
      "CropBox missing from /Page, defaulting to MediaBox\n",
      "CropBox missing from /Page, defaulting to MediaBox\n"
     ]
    },
    {
     "name": "stdout",
     "output_type": "stream",
     "text": [
      "Traitement page 362...\n",
      "Traitement page 363...\n"
     ]
    },
    {
     "name": "stderr",
     "output_type": "stream",
     "text": [
      "CropBox missing from /Page, defaulting to MediaBox\n",
      "CropBox missing from /Page, defaulting to MediaBox\n"
     ]
    },
    {
     "name": "stdout",
     "output_type": "stream",
     "text": [
      "Traitement page 364...\n"
     ]
    },
    {
     "name": "stderr",
     "output_type": "stream",
     "text": [
      "CropBox missing from /Page, defaulting to MediaBox\n",
      "CropBox missing from /Page, defaulting to MediaBox\n",
      "CropBox missing from /Page, defaulting to MediaBox\n",
      "CropBox missing from /Page, defaulting to MediaBox\n"
     ]
    },
    {
     "name": "stdout",
     "output_type": "stream",
     "text": [
      "Traitement page 365...\n",
      "Traitement page 366...\n"
     ]
    },
    {
     "name": "stderr",
     "output_type": "stream",
     "text": [
      "CropBox missing from /Page, defaulting to MediaBox\n",
      "CropBox missing from /Page, defaulting to MediaBox\n",
      "CropBox missing from /Page, defaulting to MediaBox\n",
      "CropBox missing from /Page, defaulting to MediaBox\n"
     ]
    },
    {
     "name": "stdout",
     "output_type": "stream",
     "text": [
      "Traitement page 367...\n",
      "Traitement page 368...\n"
     ]
    },
    {
     "name": "stderr",
     "output_type": "stream",
     "text": [
      "CropBox missing from /Page, defaulting to MediaBox\n",
      "CropBox missing from /Page, defaulting to MediaBox\n",
      "CropBox missing from /Page, defaulting to MediaBox\n",
      "CropBox missing from /Page, defaulting to MediaBox\n"
     ]
    },
    {
     "name": "stdout",
     "output_type": "stream",
     "text": [
      "Traitement page 369...\n",
      "Traitement page 370...\n"
     ]
    },
    {
     "name": "stderr",
     "output_type": "stream",
     "text": [
      "CropBox missing from /Page, defaulting to MediaBox\n",
      "CropBox missing from /Page, defaulting to MediaBox\n",
      "CropBox missing from /Page, defaulting to MediaBox\n",
      "CropBox missing from /Page, defaulting to MediaBox\n"
     ]
    },
    {
     "name": "stdout",
     "output_type": "stream",
     "text": [
      "Traitement page 371...\n",
      "Traitement page 372...\n"
     ]
    },
    {
     "name": "stderr",
     "output_type": "stream",
     "text": [
      "CropBox missing from /Page, defaulting to MediaBox\n",
      "CropBox missing from /Page, defaulting to MediaBox\n",
      "CropBox missing from /Page, defaulting to MediaBox\n",
      "CropBox missing from /Page, defaulting to MediaBox\n",
      "CropBox missing from /Page, defaulting to MediaBox\n"
     ]
    },
    {
     "name": "stdout",
     "output_type": "stream",
     "text": [
      "Traitement page 373...\n",
      "Traitement page 374...\n"
     ]
    },
    {
     "name": "stderr",
     "output_type": "stream",
     "text": [
      "CropBox missing from /Page, defaulting to MediaBox\n",
      "CropBox missing from /Page, defaulting to MediaBox\n",
      "CropBox missing from /Page, defaulting to MediaBox\n",
      "CropBox missing from /Page, defaulting to MediaBox\n",
      "CropBox missing from /Page, defaulting to MediaBox\n"
     ]
    },
    {
     "name": "stdout",
     "output_type": "stream",
     "text": [
      "Traitement page 375...\n",
      "Traitement page 376...\n",
      "Traitement page 377...\n"
     ]
    },
    {
     "name": "stderr",
     "output_type": "stream",
     "text": [
      "CropBox missing from /Page, defaulting to MediaBox\n",
      "CropBox missing from /Page, defaulting to MediaBox\n",
      "CropBox missing from /Page, defaulting to MediaBox\n",
      "CropBox missing from /Page, defaulting to MediaBox\n"
     ]
    },
    {
     "name": "stdout",
     "output_type": "stream",
     "text": [
      "Traitement page 378...\n",
      "Traitement page 379...\n"
     ]
    },
    {
     "name": "stderr",
     "output_type": "stream",
     "text": [
      "CropBox missing from /Page, defaulting to MediaBox\n",
      "CropBox missing from /Page, defaulting to MediaBox\n",
      "CropBox missing from /Page, defaulting to MediaBox\n",
      "CropBox missing from /Page, defaulting to MediaBox\n",
      "CropBox missing from /Page, defaulting to MediaBox\n",
      "CropBox missing from /Page, defaulting to MediaBox\n"
     ]
    },
    {
     "name": "stdout",
     "output_type": "stream",
     "text": [
      "Traitement page 380...\n",
      "Traitement page 381...\n",
      "Traitement page 382...\n"
     ]
    },
    {
     "name": "stderr",
     "output_type": "stream",
     "text": [
      "CropBox missing from /Page, defaulting to MediaBox\n",
      "CropBox missing from /Page, defaulting to MediaBox\n",
      "CropBox missing from /Page, defaulting to MediaBox\n",
      "CropBox missing from /Page, defaulting to MediaBox\n"
     ]
    },
    {
     "name": "stdout",
     "output_type": "stream",
     "text": [
      "Traitement page 383...\n",
      "Traitement page 384...\n"
     ]
    },
    {
     "name": "stderr",
     "output_type": "stream",
     "text": [
      "CropBox missing from /Page, defaulting to MediaBox\n",
      "CropBox missing from /Page, defaulting to MediaBox\n",
      "CropBox missing from /Page, defaulting to MediaBox\n",
      "CropBox missing from /Page, defaulting to MediaBox\n",
      "CropBox missing from /Page, defaulting to MediaBox\n",
      "CropBox missing from /Page, defaulting to MediaBox\n"
     ]
    },
    {
     "name": "stdout",
     "output_type": "stream",
     "text": [
      "Traitement page 385...\n",
      "Traitement page 386...\n",
      "Traitement page 387...\n"
     ]
    },
    {
     "name": "stderr",
     "output_type": "stream",
     "text": [
      "CropBox missing from /Page, defaulting to MediaBox\n",
      "CropBox missing from /Page, defaulting to MediaBox\n",
      "CropBox missing from /Page, defaulting to MediaBox\n",
      "CropBox missing from /Page, defaulting to MediaBox\n"
     ]
    },
    {
     "name": "stdout",
     "output_type": "stream",
     "text": [
      "Traitement page 388...\n",
      "Traitement page 389...\n"
     ]
    },
    {
     "name": "stderr",
     "output_type": "stream",
     "text": [
      "CropBox missing from /Page, defaulting to MediaBox\n",
      "CropBox missing from /Page, defaulting to MediaBox\n"
     ]
    },
    {
     "name": "stdout",
     "output_type": "stream",
     "text": [
      "Traitement page 390...\n"
     ]
    },
    {
     "name": "stderr",
     "output_type": "stream",
     "text": [
      "CropBox missing from /Page, defaulting to MediaBox\n",
      "CropBox missing from /Page, defaulting to MediaBox\n",
      "CropBox missing from /Page, defaulting to MediaBox\n",
      "CropBox missing from /Page, defaulting to MediaBox\n",
      "CropBox missing from /Page, defaulting to MediaBox\n"
     ]
    },
    {
     "name": "stdout",
     "output_type": "stream",
     "text": [
      "Traitement page 391...\n",
      "Traitement page 392...\n",
      "Traitement page 393...\n"
     ]
    },
    {
     "name": "stderr",
     "output_type": "stream",
     "text": [
      "CropBox missing from /Page, defaulting to MediaBox\n",
      "CropBox missing from /Page, defaulting to MediaBox\n",
      "CropBox missing from /Page, defaulting to MediaBox\n"
     ]
    },
    {
     "name": "stdout",
     "output_type": "stream",
     "text": [
      "Traitement page 394...\n"
     ]
    },
    {
     "name": "stderr",
     "output_type": "stream",
     "text": [
      "CropBox missing from /Page, defaulting to MediaBox\n",
      "CropBox missing from /Page, defaulting to MediaBox\n",
      "CropBox missing from /Page, defaulting to MediaBox\n",
      "CropBox missing from /Page, defaulting to MediaBox\n"
     ]
    },
    {
     "name": "stdout",
     "output_type": "stream",
     "text": [
      "Traitement page 395...\n",
      "Traitement page 396...\n"
     ]
    },
    {
     "name": "stderr",
     "output_type": "stream",
     "text": [
      "CropBox missing from /Page, defaulting to MediaBox\n",
      "CropBox missing from /Page, defaulting to MediaBox\n",
      "CropBox missing from /Page, defaulting to MediaBox\n",
      "CropBox missing from /Page, defaulting to MediaBox\n"
     ]
    },
    {
     "name": "stdout",
     "output_type": "stream",
     "text": [
      "Traitement page 397...\n",
      "Traitement page 398...\n"
     ]
    },
    {
     "name": "stderr",
     "output_type": "stream",
     "text": [
      "CropBox missing from /Page, defaulting to MediaBox\n",
      "CropBox missing from /Page, defaulting to MediaBox\n",
      "CropBox missing from /Page, defaulting to MediaBox\n",
      "CropBox missing from /Page, defaulting to MediaBox\n"
     ]
    },
    {
     "name": "stdout",
     "output_type": "stream",
     "text": [
      "Traitement page 399...\n",
      "Traitement page 400...\n"
     ]
    },
    {
     "name": "stderr",
     "output_type": "stream",
     "text": [
      "CropBox missing from /Page, defaulting to MediaBox\n",
      "CropBox missing from /Page, defaulting to MediaBox\n",
      "CropBox missing from /Page, defaulting to MediaBox\n",
      "CropBox missing from /Page, defaulting to MediaBox\n"
     ]
    },
    {
     "name": "stdout",
     "output_type": "stream",
     "text": [
      "Traitement page 401...\n",
      "Traitement page 402...\n"
     ]
    },
    {
     "name": "stderr",
     "output_type": "stream",
     "text": [
      "CropBox missing from /Page, defaulting to MediaBox\n",
      "CropBox missing from /Page, defaulting to MediaBox\n",
      "CropBox missing from /Page, defaulting to MediaBox\n",
      "CropBox missing from /Page, defaulting to MediaBox\n",
      "CropBox missing from /Page, defaulting to MediaBox\n",
      "CropBox missing from /Page, defaulting to MediaBox\n"
     ]
    },
    {
     "name": "stdout",
     "output_type": "stream",
     "text": [
      "Traitement page 403...\n",
      "Traitement page 404...\n",
      "Traitement page 405...\n"
     ]
    },
    {
     "name": "stderr",
     "output_type": "stream",
     "text": [
      "CropBox missing from /Page, defaulting to MediaBox\n",
      "CropBox missing from /Page, defaulting to MediaBox\n",
      "CropBox missing from /Page, defaulting to MediaBox\n",
      "CropBox missing from /Page, defaulting to MediaBox\n"
     ]
    },
    {
     "name": "stdout",
     "output_type": "stream",
     "text": [
      "Traitement page 406...\n",
      "Traitement page 407...\n"
     ]
    },
    {
     "name": "stderr",
     "output_type": "stream",
     "text": [
      "CropBox missing from /Page, defaulting to MediaBox\n",
      "CropBox missing from /Page, defaulting to MediaBox\n",
      "CropBox missing from /Page, defaulting to MediaBox\n",
      "CropBox missing from /Page, defaulting to MediaBox\n"
     ]
    },
    {
     "name": "stdout",
     "output_type": "stream",
     "text": [
      "Traitement page 408...\n",
      "Traitement page 409...\n"
     ]
    },
    {
     "name": "stderr",
     "output_type": "stream",
     "text": [
      "CropBox missing from /Page, defaulting to MediaBox\n",
      "CropBox missing from /Page, defaulting to MediaBox\n",
      "CropBox missing from /Page, defaulting to MediaBox\n",
      "CropBox missing from /Page, defaulting to MediaBox\n"
     ]
    },
    {
     "name": "stdout",
     "output_type": "stream",
     "text": [
      "Traitement page 410...\n",
      "Traitement page 411...\n"
     ]
    },
    {
     "name": "stderr",
     "output_type": "stream",
     "text": [
      "CropBox missing from /Page, defaulting to MediaBox\n",
      "CropBox missing from /Page, defaulting to MediaBox\n",
      "CropBox missing from /Page, defaulting to MediaBox\n",
      "CropBox missing from /Page, defaulting to MediaBox\n"
     ]
    },
    {
     "name": "stdout",
     "output_type": "stream",
     "text": [
      "Traitement page 412...\n",
      "Traitement page 413...\n"
     ]
    },
    {
     "name": "stderr",
     "output_type": "stream",
     "text": [
      "CropBox missing from /Page, defaulting to MediaBox\n",
      "CropBox missing from /Page, defaulting to MediaBox\n",
      "CropBox missing from /Page, defaulting to MediaBox\n",
      "CropBox missing from /Page, defaulting to MediaBox\n"
     ]
    },
    {
     "name": "stdout",
     "output_type": "stream",
     "text": [
      "Traitement page 414...\n",
      "Traitement page 415...\n"
     ]
    },
    {
     "name": "stderr",
     "output_type": "stream",
     "text": [
      "CropBox missing from /Page, defaulting to MediaBox\n",
      "CropBox missing from /Page, defaulting to MediaBox\n",
      "CropBox missing from /Page, defaulting to MediaBox\n",
      "CropBox missing from /Page, defaulting to MediaBox\n"
     ]
    },
    {
     "name": "stdout",
     "output_type": "stream",
     "text": [
      "Traitement page 416...\n",
      "Traitement page 417...\n"
     ]
    },
    {
     "name": "stderr",
     "output_type": "stream",
     "text": [
      "CropBox missing from /Page, defaulting to MediaBox\n",
      "CropBox missing from /Page, defaulting to MediaBox\n",
      "CropBox missing from /Page, defaulting to MediaBox\n",
      "CropBox missing from /Page, defaulting to MediaBox\n"
     ]
    },
    {
     "name": "stdout",
     "output_type": "stream",
     "text": [
      "Traitement page 418...\n",
      "Traitement page 419...\n"
     ]
    },
    {
     "name": "stderr",
     "output_type": "stream",
     "text": [
      "CropBox missing from /Page, defaulting to MediaBox\n",
      "CropBox missing from /Page, defaulting to MediaBox\n",
      "CropBox missing from /Page, defaulting to MediaBox\n",
      "CropBox missing from /Page, defaulting to MediaBox\n"
     ]
    },
    {
     "name": "stdout",
     "output_type": "stream",
     "text": [
      "Traitement page 420...\n",
      "Traitement page 421...\n"
     ]
    },
    {
     "name": "stderr",
     "output_type": "stream",
     "text": [
      "CropBox missing from /Page, defaulting to MediaBox\n",
      "CropBox missing from /Page, defaulting to MediaBox\n",
      "CropBox missing from /Page, defaulting to MediaBox\n",
      "CropBox missing from /Page, defaulting to MediaBox\n"
     ]
    },
    {
     "name": "stdout",
     "output_type": "stream",
     "text": [
      "Traitement page 422...\n",
      "Traitement page 423...\n"
     ]
    },
    {
     "name": "stderr",
     "output_type": "stream",
     "text": [
      "CropBox missing from /Page, defaulting to MediaBox\n",
      "CropBox missing from /Page, defaulting to MediaBox\n",
      "CropBox missing from /Page, defaulting to MediaBox\n",
      "CropBox missing from /Page, defaulting to MediaBox\n",
      "CropBox missing from /Page, defaulting to MediaBox\n",
      "CropBox missing from /Page, defaulting to MediaBox\n"
     ]
    },
    {
     "name": "stdout",
     "output_type": "stream",
     "text": [
      "Traitement page 424...\n",
      "Traitement page 425...\n",
      "Traitement page 426...\n"
     ]
    },
    {
     "name": "stderr",
     "output_type": "stream",
     "text": [
      "CropBox missing from /Page, defaulting to MediaBox\n",
      "CropBox missing from /Page, defaulting to MediaBox\n"
     ]
    },
    {
     "name": "stdout",
     "output_type": "stream",
     "text": [
      "Traitement page 427...\n"
     ]
    },
    {
     "name": "stderr",
     "output_type": "stream",
     "text": [
      "CropBox missing from /Page, defaulting to MediaBox\n",
      "CropBox missing from /Page, defaulting to MediaBox\n",
      "CropBox missing from /Page, defaulting to MediaBox\n",
      "CropBox missing from /Page, defaulting to MediaBox\n"
     ]
    },
    {
     "name": "stdout",
     "output_type": "stream",
     "text": [
      "Traitement page 428...\n",
      "Traitement page 429...\n"
     ]
    },
    {
     "name": "stderr",
     "output_type": "stream",
     "text": [
      "CropBox missing from /Page, defaulting to MediaBox\n",
      "CropBox missing from /Page, defaulting to MediaBox\n",
      "CropBox missing from /Page, defaulting to MediaBox\n",
      "CropBox missing from /Page, defaulting to MediaBox\n"
     ]
    },
    {
     "name": "stdout",
     "output_type": "stream",
     "text": [
      "Traitement page 430...\n",
      "Traitement page 431...\n"
     ]
    },
    {
     "name": "stderr",
     "output_type": "stream",
     "text": [
      "CropBox missing from /Page, defaulting to MediaBox\n",
      "CropBox missing from /Page, defaulting to MediaBox\n",
      "CropBox missing from /Page, defaulting to MediaBox\n",
      "CropBox missing from /Page, defaulting to MediaBox\n"
     ]
    },
    {
     "name": "stdout",
     "output_type": "stream",
     "text": [
      "Traitement page 432...\n",
      "Traitement page 433...\n"
     ]
    },
    {
     "name": "stderr",
     "output_type": "stream",
     "text": [
      "CropBox missing from /Page, defaulting to MediaBox\n",
      "CropBox missing from /Page, defaulting to MediaBox\n",
      "CropBox missing from /Page, defaulting to MediaBox\n",
      "CropBox missing from /Page, defaulting to MediaBox\n"
     ]
    },
    {
     "name": "stdout",
     "output_type": "stream",
     "text": [
      "Traitement page 434...\n",
      "Traitement page 435...\n"
     ]
    },
    {
     "name": "stderr",
     "output_type": "stream",
     "text": [
      "CropBox missing from /Page, defaulting to MediaBox\n",
      "CropBox missing from /Page, defaulting to MediaBox\n",
      "CropBox missing from /Page, defaulting to MediaBox\n",
      "CropBox missing from /Page, defaulting to MediaBox\n"
     ]
    },
    {
     "name": "stdout",
     "output_type": "stream",
     "text": [
      "Traitement page 436...\n",
      "Traitement page 437...\n"
     ]
    },
    {
     "name": "stderr",
     "output_type": "stream",
     "text": [
      "CropBox missing from /Page, defaulting to MediaBox\n",
      "CropBox missing from /Page, defaulting to MediaBox\n",
      "CropBox missing from /Page, defaulting to MediaBox\n",
      "CropBox missing from /Page, defaulting to MediaBox\n"
     ]
    },
    {
     "name": "stdout",
     "output_type": "stream",
     "text": [
      "Traitement page 438...\n",
      "Traitement page 439...\n"
     ]
    },
    {
     "name": "stderr",
     "output_type": "stream",
     "text": [
      "CropBox missing from /Page, defaulting to MediaBox\n",
      "CropBox missing from /Page, defaulting to MediaBox\n",
      "CropBox missing from /Page, defaulting to MediaBox\n",
      "CropBox missing from /Page, defaulting to MediaBox\n"
     ]
    },
    {
     "name": "stdout",
     "output_type": "stream",
     "text": [
      "Traitement page 440...\n",
      "Traitement page 441...\n"
     ]
    },
    {
     "name": "stderr",
     "output_type": "stream",
     "text": [
      "CropBox missing from /Page, defaulting to MediaBox\n",
      "CropBox missing from /Page, defaulting to MediaBox\n",
      "CropBox missing from /Page, defaulting to MediaBox\n",
      "CropBox missing from /Page, defaulting to MediaBox\n"
     ]
    },
    {
     "name": "stdout",
     "output_type": "stream",
     "text": [
      "Traitement page 442...\n",
      "Traitement page 443...\n"
     ]
    },
    {
     "name": "stderr",
     "output_type": "stream",
     "text": [
      "CropBox missing from /Page, defaulting to MediaBox\n",
      "CropBox missing from /Page, defaulting to MediaBox\n",
      "CropBox missing from /Page, defaulting to MediaBox\n",
      "CropBox missing from /Page, defaulting to MediaBox\n"
     ]
    },
    {
     "name": "stdout",
     "output_type": "stream",
     "text": [
      "Traitement page 444...\n",
      "Traitement page 445...\n"
     ]
    },
    {
     "name": "stderr",
     "output_type": "stream",
     "text": [
      "CropBox missing from /Page, defaulting to MediaBox\n",
      "CropBox missing from /Page, defaulting to MediaBox\n",
      "CropBox missing from /Page, defaulting to MediaBox\n",
      "CropBox missing from /Page, defaulting to MediaBox\n"
     ]
    },
    {
     "name": "stdout",
     "output_type": "stream",
     "text": [
      "Traitement page 446...\n",
      "Traitement page 447...\n"
     ]
    },
    {
     "name": "stderr",
     "output_type": "stream",
     "text": [
      "CropBox missing from /Page, defaulting to MediaBox\n",
      "CropBox missing from /Page, defaulting to MediaBox\n",
      "CropBox missing from /Page, defaulting to MediaBox\n",
      "CropBox missing from /Page, defaulting to MediaBox\n",
      "CropBox missing from /Page, defaulting to MediaBox\n",
      "CropBox missing from /Page, defaulting to MediaBox\n"
     ]
    },
    {
     "name": "stdout",
     "output_type": "stream",
     "text": [
      "Traitement page 448...\n",
      "Traitement page 449...\n",
      "Traitement page 450...\n"
     ]
    },
    {
     "name": "stderr",
     "output_type": "stream",
     "text": [
      "CropBox missing from /Page, defaulting to MediaBox\n"
     ]
    }
   ],
   "source": [
    "process_pdf(\"/teamspace/studios/this_studio/new.pdf\")"
   ]
  },
  {
   "cell_type": "code",
   "execution_count": 32,
   "metadata": {},
   "outputs": [
    {
     "name": "stdout",
     "output_type": "stream",
     "text": [
      "🗑️ Supprimé : /teamspace/studios/this_studio/extracted_text/new_page_211.txt\n",
      "🗑️ Supprimé : /teamspace/studios/this_studio/extracted_text/new_page_315.txt\n",
      "🗑️ Supprimé : /teamspace/studios/this_studio/extracted_text/new_page_390.txt\n",
      "🗑️ Supprimé : /teamspace/studios/this_studio/extracted_text/new_page_230.txt\n",
      "🗑️ Supprimé : /teamspace/studios/this_studio/extracted_text/new_page_288.txt\n",
      "🗑️ Supprimé : /teamspace/studios/this_studio/extracted_text/new_page_297.txt\n",
      "🗑️ Supprimé : /teamspace/studios/this_studio/extracted_text/new_page_171.txt\n",
      "🗑️ Supprimé : /teamspace/studios/this_studio/extracted_text/new_page_260.txt\n",
      "🗑️ Supprimé : /teamspace/studios/this_studio/extracted_text/new_page_94.txt\n",
      "🗑️ Supprimé : /teamspace/studios/this_studio/extracted_text/new_page_223.txt\n",
      "🗑️ Supprimé : /teamspace/studios/this_studio/extracted_text/new_page_312.txt\n",
      "🗑️ Supprimé : /teamspace/studios/this_studio/extracted_text/new_page_274.txt\n",
      "🗑️ Supprimé : /teamspace/studios/this_studio/extracted_text/new_page_323.txt\n",
      "🗑️ Supprimé : /teamspace/studios/this_studio/extracted_text/new_page_125.txt\n",
      "🗑️ Supprimé : /teamspace/studios/this_studio/extracted_text/new_page_1.txt\n",
      "🗑️ Supprimé : /teamspace/studios/this_studio/extracted_text/new_page_191.txt\n",
      "🗑️ Supprimé : /teamspace/studios/this_studio/extracted_text/new_page_112.txt\n",
      "🗑️ Supprimé : /teamspace/studios/this_studio/extracted_text/new_page_246.txt\n",
      "🗑️ Supprimé : /teamspace/studios/this_studio/extracted_text/new_page_442.txt\n",
      "🗑️ Supprimé : /teamspace/studios/this_studio/extracted_text/new_page_248.txt\n",
      "🗑️ Supprimé : /teamspace/studios/this_studio/extracted_text/new_page_378.txt\n",
      "🗑️ Supprimé : /teamspace/studios/this_studio/extracted_text/new_page_443.txt\n",
      "🗑️ Supprimé : /teamspace/studios/this_studio/extracted_text/new_page_366.txt\n",
      "🗑️ Supprimé : /teamspace/studios/this_studio/extracted_text/new_page_245.txt\n",
      "🗑️ Supprimé : /teamspace/studios/this_studio/extracted_text/new_page_49.txt\n",
      "🗑️ Supprimé : /teamspace/studios/this_studio/extracted_text/new_page_107.txt\n",
      "🗑️ Supprimé : /teamspace/studios/this_studio/extracted_text/new_page_295.txt\n",
      "🗑️ Supprimé : /teamspace/studios/this_studio/extracted_text/new_page_80.txt\n",
      "🗑️ Supprimé : /teamspace/studios/this_studio/extracted_text/new_page_329.txt\n",
      "🗑️ Supprimé : /teamspace/studios/this_studio/extracted_text/new_page_319.txt\n",
      "🗑️ Supprimé : /teamspace/studios/this_studio/extracted_text/new_page_232.txt\n",
      "🗑️ Supprimé : /teamspace/studios/this_studio/extracted_text/new_page_194.txt\n",
      "🗑️ Supprimé : /teamspace/studios/this_studio/extracted_text/new_page_165.txt\n",
      "🗑️ Supprimé : /teamspace/studios/this_studio/extracted_text/new_page_197.txt\n",
      "🗑️ Supprimé : /teamspace/studios/this_studio/extracted_text/new_page_186.txt\n",
      "🗑️ Supprimé : /teamspace/studios/this_studio/extracted_text/new_page_104.txt\n",
      "🗑️ Supprimé : /teamspace/studios/this_studio/extracted_text/new_page_167.txt\n",
      "🗑️ Supprimé : /teamspace/studios/this_studio/extracted_text/new_page_301.txt\n",
      "🗑️ Supprimé : /teamspace/studios/this_studio/extracted_text/new_page_51.txt\n",
      "🗑️ Supprimé : /teamspace/studios/this_studio/extracted_text/new_page_66.txt\n",
      "🗑️ Supprimé : /teamspace/studios/this_studio/extracted_text/new_page_21.txt\n",
      "🗑️ Supprimé : /teamspace/studios/this_studio/extracted_text/new_page_324.txt\n",
      "🗑️ Supprimé : /teamspace/studios/this_studio/extracted_text/new_page_309.txt\n",
      "🗑️ Supprimé : /teamspace/studios/this_studio/extracted_text/new_page_72.txt\n",
      "🗑️ Supprimé : /teamspace/studios/this_studio/extracted_text/new_page_252.txt\n",
      "🗑️ Supprimé : /teamspace/studios/this_studio/extracted_text/new_page_331.txt\n",
      "🗑️ Supprimé : /teamspace/studios/this_studio/extracted_text/new_page_13.txt\n",
      "🗑️ Supprimé : /teamspace/studios/this_studio/extracted_text/new_page_97.txt\n",
      "🗑️ Supprimé : /teamspace/studios/this_studio/extracted_text/new_page_428.txt\n",
      "🗑️ Supprimé : /teamspace/studios/this_studio/extracted_text/new_page_58.txt\n",
      "🗑️ Supprimé : /teamspace/studios/this_studio/extracted_text/new_page_180.txt\n",
      "🗑️ Supprimé : /teamspace/studios/this_studio/extracted_text/new_page_109.txt\n",
      "🗑️ Supprimé : /teamspace/studios/this_studio/extracted_text/new_page_404.txt\n",
      "🗑️ Supprimé : /teamspace/studios/this_studio/extracted_text/new_page_333.txt\n",
      "🗑️ Supprimé : /teamspace/studios/this_studio/extracted_text/new_page_225.txt\n",
      "🗑️ Supprimé : /teamspace/studios/this_studio/extracted_text/new_page_384.txt\n",
      "🗑️ Supprimé : /teamspace/studios/this_studio/extracted_text/new_page_447.txt\n",
      "🗑️ Supprimé : /teamspace/studios/this_studio/extracted_text/new_page_154.txt\n",
      "🗑️ Supprimé : /teamspace/studios/this_studio/extracted_text/new_page_146.txt\n",
      "🗑️ Supprimé : /teamspace/studios/this_studio/extracted_text/new_page_133.txt\n",
      "🗑️ Supprimé : /teamspace/studios/this_studio/extracted_text/new_page_157.txt\n",
      "🗑️ Supprimé : /teamspace/studios/this_studio/extracted_text/new_page_381.txt\n",
      "🗑️ Supprimé : /teamspace/studios/this_studio/extracted_text/new_page_356.txt\n",
      "🗑️ Supprimé : /teamspace/studios/this_studio/extracted_text/new_page_168.txt\n",
      "🗑️ Supprimé : /teamspace/studios/this_studio/extracted_text/new_page_439.txt\n",
      "🗑️ Supprimé : /teamspace/studios/this_studio/extracted_text/new_page_111.txt\n",
      "🗑️ Supprimé : /teamspace/studios/this_studio/extracted_text/new_page_418.txt\n",
      "🗑️ Supprimé : /teamspace/studios/this_studio/extracted_text/new_page_79.txt\n",
      "🗑️ Supprimé : /teamspace/studios/this_studio/extracted_text/new_page_437.txt\n",
      "🗑️ Supprimé : /teamspace/studios/this_studio/extracted_text/new_page_75.txt\n",
      "🗑️ Supprimé : /teamspace/studios/this_studio/extracted_text/new_page_68.txt\n",
      "🗑️ Supprimé : /teamspace/studios/this_studio/extracted_text/new_page_383.txt\n",
      "🗑️ Supprimé : /teamspace/studios/this_studio/extracted_text/new_page_90.txt\n",
      "🗑️ Supprimé : /teamspace/studios/this_studio/extracted_text/new_page_12.txt\n",
      "🗑️ Supprimé : /teamspace/studios/this_studio/extracted_text/new_page_32.txt\n",
      "🗑️ Supprimé : /teamspace/studios/this_studio/extracted_text/new_page_440.txt\n",
      "🗑️ Supprimé : /teamspace/studios/this_studio/extracted_text/new_page_385.txt\n",
      "🗑️ Supprimé : /teamspace/studios/this_studio/extracted_text/new_page_20.txt\n",
      "🗑️ Supprimé : /teamspace/studios/this_studio/extracted_text/new_page_11.txt\n",
      "🗑️ Supprimé : /teamspace/studios/this_studio/extracted_text/new_page_446.txt\n",
      "🗑️ Supprimé : /teamspace/studios/this_studio/extracted_text/new_page_215.txt\n",
      "🗑️ Supprimé : /teamspace/studios/this_studio/extracted_text/new_page_200.txt\n",
      "🗑️ Supprimé : /teamspace/studios/this_studio/extracted_text/new_page_242.txt\n",
      "🗑️ Supprimé : /teamspace/studios/this_studio/extracted_text/new_page_91.txt\n",
      "🗑️ Supprimé : /teamspace/studios/this_studio/extracted_text/new_page_241.txt\n",
      "🗑️ Supprimé : /teamspace/studios/this_studio/extracted_text/new_page_86.txt\n",
      "🗑️ Supprimé : /teamspace/studios/this_studio/extracted_text/new_page_287.txt\n",
      "🗑️ Supprimé : /teamspace/studios/this_studio/extracted_text/new_page_273.txt\n",
      "🗑️ Supprimé : /teamspace/studios/this_studio/extracted_text/new_page_306.txt\n",
      "🗑️ Supprimé : /teamspace/studios/this_studio/extracted_text/new_page_341.txt\n",
      "🗑️ Supprimé : /teamspace/studios/this_studio/extracted_text/new_page_342.txt\n",
      "🗑️ Supprimé : /teamspace/studios/this_studio/extracted_text/new_page_193.txt\n",
      "🗑️ Supprimé : /teamspace/studios/this_studio/extracted_text/new_page_400.txt\n",
      "🗑️ Supprimé : /teamspace/studios/this_studio/extracted_text/new_page_427.txt\n",
      "🗑️ Supprimé : /teamspace/studios/this_studio/extracted_text/new_page_308.txt\n",
      "🗑️ Supprimé : /teamspace/studios/this_studio/extracted_text/new_page_37.txt\n",
      "🗑️ Supprimé : /teamspace/studios/this_studio/extracted_text/new_page_201.txt\n",
      "🗑️ Supprimé : /teamspace/studios/this_studio/extracted_text/new_page_405.txt\n",
      "🗑️ Supprimé : /teamspace/studios/this_studio/extracted_text/new_page_178.txt\n",
      "🗑️ Supprimé : /teamspace/studios/this_studio/extracted_text/new_page_38.txt\n",
      "🗑️ Supprimé : /teamspace/studios/this_studio/extracted_text/new_page_206.txt\n",
      "🗑️ Supprimé : /teamspace/studios/this_studio/extracted_text/new_page_399.txt\n",
      "🗑️ Supprimé : /teamspace/studios/this_studio/extracted_text/new_page_102.txt\n",
      "🗑️ Supprimé : /teamspace/studios/this_studio/extracted_text/new_page_87.txt\n",
      "🗑️ Supprimé : /teamspace/studios/this_studio/extracted_text/new_page_255.txt\n",
      "🗑️ Supprimé : /teamspace/studios/this_studio/extracted_text/new_page_156.txt\n",
      "🗑️ Supprimé : /teamspace/studios/this_studio/extracted_text/new_page_361.txt\n",
      "🗑️ Supprimé : /teamspace/studios/this_studio/extracted_text/new_page_153.txt\n",
      "🗑️ Supprimé : /teamspace/studios/this_studio/extracted_text/new_page_256.txt\n",
      "🗑️ Supprimé : /teamspace/studios/this_studio/extracted_text/new_page_123.txt\n",
      "🗑️ Supprimé : /teamspace/studios/this_studio/extracted_text/new_page_294.txt\n",
      "🗑️ Supprimé : /teamspace/studios/this_studio/extracted_text/new_page_322.txt\n",
      "🗑️ Supprimé : /teamspace/studios/this_studio/extracted_text/new_page_47.txt\n",
      "🗑️ Supprimé : /teamspace/studios/this_studio/extracted_text/new_page_209.txt\n",
      "🗑️ Supprimé : /teamspace/studios/this_studio/extracted_text/new_page_101.txt\n",
      "🗑️ Supprimé : /teamspace/studios/this_studio/extracted_text/new_page_325.txt\n",
      "🗑️ Supprimé : /teamspace/studios/this_studio/extracted_text/new_page_216.txt\n",
      "🗑️ Supprimé : /teamspace/studios/this_studio/extracted_text/new_page_291.txt\n",
      "🗑️ Supprimé : /teamspace/studios/this_studio/extracted_text/new_page_198.txt\n",
      "🗑️ Supprimé : /teamspace/studios/this_studio/extracted_text/new_page_269.txt\n",
      "🗑️ Supprimé : /teamspace/studios/this_studio/extracted_text/new_page_335.txt\n",
      "🗑️ Supprimé : /teamspace/studios/this_studio/extracted_text/new_page_430.txt\n",
      "🗑️ Supprimé : /teamspace/studios/this_studio/extracted_text/new_page_363.txt\n",
      "🗑️ Supprimé : /teamspace/studios/this_studio/extracted_text/new_page_73.txt\n",
      "🗑️ Supprimé : /teamspace/studios/this_studio/extracted_text/new_page_338.txt\n",
      "🗑️ Supprimé : /teamspace/studios/this_studio/extracted_text/new_page_284.txt\n",
      "🗑️ Supprimé : /teamspace/studios/this_studio/extracted_text/new_page_43.txt\n",
      "🗑️ Supprimé : /teamspace/studios/this_studio/extracted_text/new_page_116.txt\n",
      "🗑️ Supprimé : /teamspace/studios/this_studio/extracted_text/new_page_412.txt\n",
      "🗑️ Supprimé : /teamspace/studios/this_studio/extracted_text/new_page_134.txt\n",
      "🗑️ Supprimé : /teamspace/studios/this_studio/extracted_text/new_page_258.txt\n",
      "🗑️ Supprimé : /teamspace/studios/this_studio/extracted_text/new_page_129.txt\n",
      "🗑️ Supprimé : /teamspace/studios/this_studio/extracted_text/new_page_340.txt\n",
      "🗑️ Supprimé : /teamspace/studios/this_studio/extracted_text/new_page_278.txt\n",
      "🗑️ Supprimé : /teamspace/studios/this_studio/extracted_text/new_page_126.txt\n",
      "🗑️ Supprimé : /teamspace/studios/this_studio/extracted_text/new_page_374.txt\n",
      "🗑️ Supprimé : /teamspace/studios/this_studio/extracted_text/new_page_415.txt\n",
      "🗑️ Supprimé : /teamspace/studios/this_studio/extracted_text/new_page_81.txt\n",
      "🗑️ Supprimé : /teamspace/studios/this_studio/extracted_text/new_page_89.txt\n",
      "🗑️ Supprimé : /teamspace/studios/this_studio/extracted_text/new_page_160.txt\n",
      "🗑️ Supprimé : /teamspace/studios/this_studio/extracted_text/new_page_433.txt\n",
      "🗑️ Supprimé : /teamspace/studios/this_studio/extracted_text/new_page_195.txt\n",
      "🗑️ Supprimé : /teamspace/studios/this_studio/extracted_text/new_page_122.txt\n",
      "🗑️ Supprimé : /teamspace/studios/this_studio/extracted_text/new_page_388.txt\n",
      "🗑️ Supprimé : /teamspace/studios/this_studio/extracted_text/new_page_371.txt\n",
      "🗑️ Supprimé : /teamspace/studios/this_studio/extracted_text/new_page_420.txt\n",
      "🗑️ Supprimé : /teamspace/studios/this_studio/extracted_text/new_page_41.txt\n",
      "🗑️ Supprimé : /teamspace/studios/this_studio/extracted_text/new_page_40.txt\n",
      "🗑️ Supprimé : /teamspace/studios/this_studio/extracted_text/new_page_99.txt\n",
      "🗑️ Supprimé : /teamspace/studios/this_studio/extracted_text/new_page_210.txt\n",
      "🗑️ Supprimé : /teamspace/studios/this_studio/extracted_text/new_page_131.txt\n",
      "🗑️ Supprimé : /teamspace/studios/this_studio/extracted_text/new_page_59.txt\n",
      "🗑️ Supprimé : /teamspace/studios/this_studio/extracted_text/new_page_174.txt\n",
      "🗑️ Supprimé : /teamspace/studios/this_studio/extracted_text/new_page_318.txt\n",
      "🗑️ Supprimé : /teamspace/studios/this_studio/extracted_text/new_page_199.txt\n",
      "🗑️ Supprimé : /teamspace/studios/this_studio/extracted_text/new_page_85.txt\n",
      "🗑️ Supprimé : /teamspace/studios/this_studio/extracted_text/new_page_14.txt\n",
      "🗑️ Supprimé : /teamspace/studios/this_studio/extracted_text/new_page_17.txt\n",
      "🗑️ Supprimé : /teamspace/studios/this_studio/extracted_text/new_page_391.txt\n",
      "🗑️ Supprimé : /teamspace/studios/this_studio/extracted_text/new_page_64.txt\n",
      "🗑️ Supprimé : /teamspace/studios/this_studio/extracted_text/new_page_300.txt\n",
      "🗑️ Supprimé : /teamspace/studios/this_studio/extracted_text/new_page_151.txt\n",
      "🗑️ Supprimé : /teamspace/studios/this_studio/extracted_text/new_page_386.txt\n",
      "🗑️ Supprimé : /teamspace/studios/this_studio/extracted_text/new_page_213.txt\n",
      "🗑️ Supprimé : /teamspace/studios/this_studio/extracted_text/new_page_117.txt\n",
      "🗑️ Supprimé : /teamspace/studios/this_studio/extracted_text/new_page_145.txt\n",
      "🗑️ Supprimé : /teamspace/studios/this_studio/extracted_text/new_page_207.txt\n",
      "🗑️ Supprimé : /teamspace/studios/this_studio/extracted_text/new_page_407.txt\n",
      "🗑️ Supprimé : /teamspace/studios/this_studio/extracted_text/new_page_140.txt\n",
      "🗑️ Supprimé : /teamspace/studios/this_studio/extracted_text/new_page_118.txt\n",
      "🗑️ Supprimé : /teamspace/studios/this_studio/extracted_text/new_page_18.txt\n",
      "🗑️ Supprimé : /teamspace/studios/this_studio/extracted_text/new_page_55.txt\n",
      "🗑️ Supprimé : /teamspace/studios/this_studio/extracted_text/new_page_173.txt\n",
      "🗑️ Supprimé : /teamspace/studios/this_studio/extracted_text/new_page_233.txt\n",
      "🗑️ Supprimé : /teamspace/studios/this_studio/extracted_text/new_page_124.txt\n",
      "🗑️ Supprimé : /teamspace/studios/this_studio/extracted_text/new_page_276.txt\n",
      "🗑️ Supprimé : /teamspace/studios/this_studio/extracted_text/new_page_310.txt\n",
      "🗑️ Supprimé : /teamspace/studios/this_studio/extracted_text/new_page_231.txt\n",
      "🗑️ Supprimé : /teamspace/studios/this_studio/extracted_text/new_page_347.txt\n",
      "🗑️ Supprimé : /teamspace/studios/this_studio/extracted_text/new_page_166.txt\n",
      "🗑️ Supprimé : /teamspace/studios/this_studio/extracted_text/new_page_16.txt\n",
      "🗑️ Supprimé : /teamspace/studios/this_studio/extracted_text/new_page_358.txt\n",
      "🗑️ Supprimé : /teamspace/studios/this_studio/extracted_text/new_page_370.txt\n",
      "🗑️ Supprimé : /teamspace/studios/this_studio/extracted_text/new_page_74.txt\n",
      "🗑️ Supprimé : /teamspace/studios/this_studio/extracted_text/new_page_45.txt\n",
      "🗑️ Supprimé : /teamspace/studios/this_studio/extracted_text/new_page_7.txt\n",
      "🗑️ Supprimé : /teamspace/studios/this_studio/extracted_text/new_page_247.txt\n",
      "🗑️ Supprimé : /teamspace/studios/this_studio/extracted_text/new_page_237.txt\n",
      "🗑️ Supprimé : /teamspace/studios/this_studio/extracted_text/new_page_367.txt\n",
      "🗑️ Supprimé : /teamspace/studios/this_studio/extracted_text/new_page_183.txt\n",
      "🗑️ Supprimé : /teamspace/studios/this_studio/extracted_text/new_page_147.txt\n",
      "🗑️ Supprimé : /teamspace/studios/this_studio/extracted_text/new_page_387.txt\n",
      "🗑️ Supprimé : /teamspace/studios/this_studio/extracted_text/new_page_359.txt\n",
      "🗑️ Supprimé : /teamspace/studios/this_studio/extracted_text/new_page_152.txt\n",
      "🗑️ Supprimé : /teamspace/studios/this_studio/extracted_text/new_page_203.txt\n",
      "🗑️ Supprimé : /teamspace/studios/this_studio/extracted_text/new_page_351.txt\n",
      "🗑️ Supprimé : /teamspace/studios/this_studio/extracted_text/new_page_119.txt\n",
      "🗑️ Supprimé : /teamspace/studios/this_studio/extracted_text/new_page_275.txt\n",
      "🗑️ Supprimé : /teamspace/studios/this_studio/extracted_text/new_page_163.txt\n",
      "🗑️ Supprimé : /teamspace/studios/this_studio/extracted_text/new_page_431.txt\n",
      "🗑️ Supprimé : /teamspace/studios/this_studio/extracted_text/new_page_267.txt\n",
      "🗑️ Supprimé : /teamspace/studios/this_studio/extracted_text/new_page_272.txt\n",
      "🗑️ Supprimé : /teamspace/studios/this_studio/extracted_text/new_page_354.txt\n",
      "🗑️ Supprimé : /teamspace/studios/this_studio/extracted_text/new_page_423.txt\n",
      "🗑️ Supprimé : /teamspace/studios/this_studio/extracted_text/new_page_445.txt\n",
      "🗑️ Supprimé : /teamspace/studios/this_studio/extracted_text/new_page_328.txt\n",
      "🗑️ Supprimé : /teamspace/studios/this_studio/extracted_text/new_page_350.txt\n",
      "🗑️ Supprimé : /teamspace/studios/this_studio/extracted_text/new_page_139.txt\n",
      "🗑️ Supprimé : /teamspace/studios/this_studio/extracted_text/new_page_100.txt\n",
      "🗑️ Supprimé : /teamspace/studios/this_studio/extracted_text/new_page_142.txt\n",
      "🗑️ Supprimé : /teamspace/studios/this_studio/extracted_text/new_page_379.txt\n",
      "🗑️ Supprimé : /teamspace/studios/this_studio/extracted_text/new_page_132.txt\n",
      "🗑️ Supprimé : /teamspace/studios/this_studio/extracted_text/new_page_352.txt\n",
      "🗑️ Supprimé : /teamspace/studios/this_studio/extracted_text/new_page_305.txt\n",
      "🗑️ Supprimé : /teamspace/studios/this_studio/extracted_text/new_page_270.txt\n",
      "🗑️ Supprimé : /teamspace/studios/this_studio/extracted_text/new_page_293.txt\n",
      "🗑️ Supprimé : /teamspace/studios/this_studio/extracted_text/new_page_226.txt\n",
      "🗑️ Supprimé : /teamspace/studios/this_studio/extracted_text/new_page_136.txt\n",
      "🗑️ Supprimé : /teamspace/studios/this_studio/extracted_text/new_page_397.txt\n",
      "🗑️ Supprimé : /teamspace/studios/this_studio/extracted_text/new_page_187.txt\n",
      "🗑️ Supprimé : /teamspace/studios/this_studio/extracted_text/new_page_76.txt\n",
      "🗑️ Supprimé : /teamspace/studios/this_studio/extracted_text/new_page_424.txt\n",
      "🗑️ Supprimé : /teamspace/studios/this_studio/extracted_text/new_page_419.txt\n",
      "🗑️ Supprimé : /teamspace/studios/this_studio/extracted_text/new_page_436.txt\n",
      "🗑️ Supprimé : /teamspace/studios/this_studio/extracted_text/new_page_334.txt\n",
      "🗑️ Supprimé : /teamspace/studios/this_studio/extracted_text/new_page_78.txt\n",
      "🗑️ Supprimé : /teamspace/studios/this_studio/extracted_text/new_page_84.txt\n",
      "🗑️ Supprimé : /teamspace/studios/this_studio/extracted_text/new_page_368.txt\n",
      "🗑️ Supprimé : /teamspace/studios/this_studio/extracted_text/new_page_148.txt\n",
      "🗑️ Supprimé : /teamspace/studios/this_studio/extracted_text/new_page_311.txt\n",
      "🗑️ Supprimé : /teamspace/studios/this_studio/extracted_text/new_page_398.txt\n",
      "🗑️ Supprimé : /teamspace/studios/this_studio/extracted_text/new_page_302.txt\n",
      "🗑️ Supprimé : /teamspace/studios/this_studio/extracted_text/new_page_6.txt\n",
      "🗑️ Supprimé : /teamspace/studios/this_studio/extracted_text/new_page_27.txt\n",
      "🗑️ Supprimé : /teamspace/studios/this_studio/extracted_text/new_page_257.txt\n",
      "🗑️ Supprimé : /teamspace/studios/this_studio/extracted_text/new_page_63.txt\n",
      "🗑️ Supprimé : /teamspace/studios/this_studio/extracted_text/new_page_172.txt\n",
      "🗑️ Supprimé : /teamspace/studios/this_studio/extracted_text/new_page_416.txt\n",
      "🗑️ Supprimé : /teamspace/studios/this_studio/extracted_text/new_page_421.txt\n",
      "🗑️ Supprimé : /teamspace/studios/this_studio/extracted_text/new_page_375.txt\n",
      "🗑️ Supprimé : /teamspace/studios/this_studio/extracted_text/new_page_357.txt\n",
      "🗑️ Supprimé : /teamspace/studios/this_studio/extracted_text/new_page_292.txt\n",
      "🗑️ Supprimé : /teamspace/studios/this_studio/extracted_text/new_page_353.txt\n",
      "🗑️ Supprimé : /teamspace/studios/this_studio/extracted_text/new_page_408.txt\n",
      "🗑️ Supprimé : /teamspace/studios/this_studio/extracted_text/new_page_181.txt\n",
      "🗑️ Supprimé : /teamspace/studios/this_studio/extracted_text/new_page_188.txt\n",
      "🗑️ Supprimé : /teamspace/studios/this_studio/extracted_text/new_page_71.txt\n",
      "🗑️ Supprimé : /teamspace/studios/this_studio/extracted_text/new_page_50.txt\n",
      "🗑️ Supprimé : /teamspace/studios/this_studio/extracted_text/new_page_250.txt\n",
      "🗑️ Supprimé : /teamspace/studios/this_studio/extracted_text/new_page_158.txt\n",
      "🗑️ Supprimé : /teamspace/studios/this_studio/extracted_text/new_page_15.txt\n",
      "🗑️ Supprimé : /teamspace/studios/this_studio/extracted_text/new_page_2.txt\n",
      "🗑️ Supprimé : /teamspace/studios/this_studio/extracted_text/new_page_314.txt\n",
      "🗑️ Supprimé : /teamspace/studios/this_studio/extracted_text/new_page_251.txt\n",
      "🗑️ Supprimé : /teamspace/studios/this_studio/extracted_text/new_page_264.txt\n",
      "🗑️ Supprimé : /teamspace/studios/this_studio/extracted_text/new_page_365.txt\n",
      "🗑️ Supprimé : /teamspace/studios/this_studio/extracted_text/new_page_196.txt\n",
      "🗑️ Supprimé : /teamspace/studios/this_studio/extracted_text/new_page_52.txt\n",
      "🗑️ Supprimé : /teamspace/studios/this_studio/extracted_text/new_page_62.txt\n",
      "🗑️ Supprimé : /teamspace/studios/this_studio/extracted_text/new_page_432.txt\n",
      "🗑️ Supprimé : /teamspace/studios/this_studio/extracted_text/new_page_161.txt\n",
      "🗑️ Supprimé : /teamspace/studios/this_studio/extracted_text/new_page_23.txt\n",
      "🗑️ Supprimé : /teamspace/studios/this_studio/extracted_text/new_page_48.txt\n",
      "🗑️ Supprimé : /teamspace/studios/this_studio/extracted_text/new_page_348.txt\n",
      "🗑️ Supprimé : /teamspace/studios/this_studio/extracted_text/new_page_265.txt\n",
      "🗑️ Supprimé : /teamspace/studios/this_studio/extracted_text/new_page_244.txt\n",
      "🗑️ Supprimé : /teamspace/studios/this_studio/extracted_text/new_page_336.txt\n",
      "🗑️ Supprimé : /teamspace/studios/this_studio/extracted_text/new_page_57.txt\n",
      "🗑️ Supprimé : /teamspace/studios/this_studio/extracted_text/new_page_54.txt\n",
      "🗑️ Supprimé : /teamspace/studios/this_studio/extracted_text/new_page_110.txt\n",
      "🗑️ Supprimé : /teamspace/studios/this_studio/extracted_text/new_page_65.txt\n",
      "🗑️ Supprimé : /teamspace/studios/this_studio/extracted_text/new_page_229.txt\n",
      "🗑️ Supprimé : /teamspace/studios/this_studio/extracted_text/new_page_326.txt\n",
      "🗑️ Supprimé : /teamspace/studios/this_studio/extracted_text/new_page_212.txt\n",
      "🗑️ Supprimé : /teamspace/studios/this_studio/extracted_text/new_page_150.txt\n",
      "🗑️ Supprimé : /teamspace/studios/this_studio/extracted_text/new_page_106.txt\n",
      "🗑️ Supprimé : /teamspace/studios/this_studio/extracted_text/new_page_227.txt\n",
      "🗑️ Supprimé : /teamspace/studios/this_studio/extracted_text/new_page_164.txt\n",
      "🗑️ Supprimé : /teamspace/studios/this_studio/extracted_text/new_page_438.txt\n",
      "🗑️ Supprimé : /teamspace/studios/this_studio/extracted_text/new_page_239.txt\n",
      "🗑️ Supprimé : /teamspace/studios/this_studio/extracted_text/new_page_44.txt\n",
      "🗑️ Supprimé : /teamspace/studios/this_studio/extracted_text/new_page_409.txt\n",
      "🗑️ Supprimé : /teamspace/studios/this_studio/extracted_text/new_page_450.txt\n",
      "🗑️ Supprimé : /teamspace/studios/this_studio/extracted_text/new_page_343.txt\n",
      "🗑️ Supprimé : /teamspace/studios/this_studio/extracted_text/new_page_24.txt\n",
      "🗑️ Supprimé : /teamspace/studios/this_studio/extracted_text/new_page_224.txt\n",
      "🗑️ Supprimé : /teamspace/studios/this_studio/extracted_text/new_page_42.txt\n",
      "🗑️ Supprimé : /teamspace/studios/this_studio/extracted_text/new_page_4.txt\n",
      "🗑️ Supprimé : /teamspace/studios/this_studio/extracted_text/new_page_280.txt\n",
      "🗑️ Supprimé : /teamspace/studios/this_studio/extracted_text/new_page_103.txt\n",
      "🗑️ Supprimé : /teamspace/studios/this_studio/extracted_text/new_page_19.txt\n",
      "🗑️ Supprimé : /teamspace/studios/this_studio/extracted_text/new_page_137.txt\n",
      "🗑️ Supprimé : /teamspace/studios/this_studio/extracted_text/new_page_189.txt\n",
      "🗑️ Supprimé : /teamspace/studios/this_studio/extracted_text/new_page_449.txt\n",
      "🗑️ Supprimé : /teamspace/studios/this_studio/extracted_text/new_page_344.txt\n",
      "🗑️ Supprimé : /teamspace/studios/this_studio/extracted_text/new_page_263.txt\n",
      "🗑️ Supprimé : /teamspace/studios/this_studio/extracted_text/new_page_177.txt\n",
      "🗑️ Supprimé : /teamspace/studios/this_studio/extracted_text/new_page_204.txt\n",
      "🗑️ Supprimé : /teamspace/studios/this_studio/extracted_text/new_page_222.txt\n",
      "🗑️ Supprimé : /teamspace/studios/this_studio/extracted_text/new_page_266.txt\n",
      "🗑️ Supprimé : /teamspace/studios/this_studio/extracted_text/new_page_61.txt\n",
      "🗑️ Supprimé : /teamspace/studios/this_studio/extracted_text/new_page_56.txt\n",
      "🗑️ Supprimé : /teamspace/studios/this_studio/extracted_text/new_page_236.txt\n",
      "🗑️ Supprimé : /teamspace/studios/this_studio/extracted_text/new_page_176.txt\n",
      "🗑️ Supprimé : /teamspace/studios/this_studio/extracted_text/new_page_155.txt\n",
      "🗑️ Supprimé : /teamspace/studios/this_studio/extracted_text/new_page_179.txt\n",
      "🗑️ Supprimé : /teamspace/studios/this_studio/extracted_text/new_page_262.txt\n",
      "🗑️ Supprimé : /teamspace/studios/this_studio/extracted_text/new_page_83.txt\n",
      "🗑️ Supprimé : /teamspace/studios/this_studio/extracted_text/new_page_36.txt\n",
      "🗑️ Supprimé : /teamspace/studios/this_studio/extracted_text/new_page_376.txt\n",
      "🗑️ Supprimé : /teamspace/studios/this_studio/extracted_text/new_page_417.txt\n",
      "🗑️ Supprimé : /teamspace/studios/this_studio/extracted_text/new_page_149.txt\n",
      "🗑️ Supprimé : /teamspace/studios/this_studio/extracted_text/new_page_170.txt\n",
      "🗑️ Supprimé : /teamspace/studios/this_studio/extracted_text/new_page_355.txt\n",
      "🗑️ Supprimé : /teamspace/studios/this_studio/extracted_text/new_page_202.txt\n",
      "🗑️ Supprimé : /teamspace/studios/this_studio/extracted_text/new_page_192.txt\n",
      "🗑️ Supprimé : /teamspace/studios/this_studio/extracted_text/new_page_88.txt\n",
      "🗑️ Supprimé : /teamspace/studios/this_studio/extracted_text/new_page_3.txt\n",
      "🗑️ Supprimé : /teamspace/studios/this_studio/extracted_text/new_page_184.txt\n",
      "🗑️ Supprimé : /teamspace/studios/this_studio/extracted_text/new_page_208.txt\n",
      "🗑️ Supprimé : /teamspace/studios/this_studio/extracted_text/new_page_214.txt\n",
      "🗑️ Supprimé : /teamspace/studios/this_studio/extracted_text/new_page_53.txt\n",
      "🗑️ Supprimé : /teamspace/studios/this_studio/extracted_text/new_page_395.txt\n",
      "🗑️ Supprimé : /teamspace/studios/this_studio/extracted_text/new_page_219.txt\n",
      "🗑️ Supprimé : /teamspace/studios/this_studio/extracted_text/new_page_138.txt\n",
      "🗑️ Supprimé : /teamspace/studios/this_studio/extracted_text/new_page_406.txt\n",
      "🗑️ Supprimé : /teamspace/studios/this_studio/extracted_text/new_page_289.txt\n",
      "🗑️ Supprimé : /teamspace/studios/this_studio/extracted_text/new_page_393.txt\n",
      "🗑️ Supprimé : /teamspace/studios/this_studio/extracted_text/new_page_413.txt\n",
      "🗑️ Supprimé : /teamspace/studios/this_studio/extracted_text/new_page_444.txt\n",
      "🗑️ Supprimé : /teamspace/studios/this_studio/extracted_text/new_page_25.txt\n",
      "🗑️ Supprimé : /teamspace/studios/this_studio/extracted_text/new_page_330.txt\n",
      "🗑️ Supprimé : /teamspace/studios/this_studio/extracted_text/new_page_205.txt\n",
      "🗑️ Supprimé : /teamspace/studios/this_studio/extracted_text/new_page_411.txt\n",
      "🗑️ Supprimé : /teamspace/studios/this_studio/extracted_text/new_page_304.txt\n",
      "🗑️ Supprimé : /teamspace/studios/this_studio/extracted_text/new_page_414.txt\n",
      "🗑️ Supprimé : /teamspace/studios/this_studio/extracted_text/new_page_337.txt\n",
      "🗑️ Supprimé : /teamspace/studios/this_studio/extracted_text/new_page_401.txt\n",
      "🗑️ Supprimé : /teamspace/studios/this_studio/extracted_text/new_page_268.txt\n",
      "🗑️ Supprimé : /teamspace/studios/this_studio/extracted_text/new_page_373.txt\n",
      "🗑️ Supprimé : /teamspace/studios/this_studio/extracted_text/new_page_144.txt\n",
      "🗑️ Supprimé : /teamspace/studios/this_studio/extracted_text/new_page_60.txt\n",
      "🗑️ Supprimé : /teamspace/studios/this_studio/extracted_text/new_page_369.txt\n",
      "🗑️ Supprimé : /teamspace/studios/this_studio/extracted_text/new_page_320.txt\n",
      "🗑️ Supprimé : /teamspace/studios/this_studio/extracted_text/new_page_98.txt\n",
      "🗑️ Supprimé : /teamspace/studios/this_studio/extracted_text/new_page_382.txt\n",
      "🗑️ Supprimé : /teamspace/studios/this_studio/extracted_text/new_page_175.txt\n",
      "🗑️ Supprimé : /teamspace/studios/this_studio/extracted_text/new_page_185.txt\n",
      "🗑️ Supprimé : /teamspace/studios/this_studio/extracted_text/new_page_434.txt\n",
      "🗑️ Supprimé : /teamspace/studios/this_studio/extracted_text/new_page_313.txt\n",
      "🗑️ Supprimé : /teamspace/studios/this_studio/extracted_text/new_page_410.txt\n",
      "🗑️ Supprimé : /teamspace/studios/this_studio/extracted_text/new_page_429.txt\n",
      "🗑️ Supprimé : /teamspace/studios/this_studio/extracted_text/new_page_228.txt\n",
      "🗑️ Supprimé : /teamspace/studios/this_studio/extracted_text/new_page_277.txt\n",
      "🗑️ Supprimé : /teamspace/studios/this_studio/extracted_text/new_page_141.txt\n",
      "🗑️ Supprimé : /teamspace/studios/this_studio/extracted_text/new_page_67.txt\n",
      "🗑️ Supprimé : /teamspace/studios/this_studio/extracted_text/new_page_182.txt\n",
      "🗑️ Supprimé : /teamspace/studios/this_studio/extracted_text/new_page_283.txt\n",
      "🗑️ Supprimé : /teamspace/studios/this_studio/extracted_text/new_page_28.txt\n",
      "🗑️ Supprimé : /teamspace/studios/this_studio/extracted_text/new_page_169.txt\n",
      "🗑️ Supprimé : /teamspace/studios/this_studio/extracted_text/new_page_121.txt\n",
      "🗑️ Supprimé : /teamspace/studios/this_studio/extracted_text/new_page_108.txt\n",
      "🗑️ Supprimé : /teamspace/studios/this_studio/extracted_text/new_page_422.txt\n",
      "🗑️ Supprimé : /teamspace/studios/this_studio/extracted_text/new_page_217.txt\n",
      "🗑️ Supprimé : /teamspace/studios/this_studio/extracted_text/new_page_34.txt\n",
      "🗑️ Supprimé : /teamspace/studios/this_studio/extracted_text/new_page_389.txt\n",
      "🗑️ Supprimé : /teamspace/studios/this_studio/extracted_text/new_page_120.txt\n",
      "🗑️ Supprimé : /teamspace/studios/this_studio/extracted_text/new_page_220.txt\n",
      "🗑️ Supprimé : /teamspace/studios/this_studio/extracted_text/new_page_29.txt\n",
      "🗑️ Supprimé : /teamspace/studios/this_studio/extracted_text/new_page_46.txt\n",
      "🗑️ Supprimé : /teamspace/studios/this_studio/extracted_text/new_page_82.txt\n",
      "🗑️ Supprimé : /teamspace/studios/this_studio/extracted_text/new_page_349.txt\n",
      "🗑️ Supprimé : /teamspace/studios/this_studio/extracted_text/new_page_77.txt\n",
      "🗑️ Supprimé : /teamspace/studios/this_studio/extracted_text/new_page_394.txt\n",
      "🗑️ Supprimé : /teamspace/studios/this_studio/extracted_text/new_page_114.txt\n",
      "🗑️ Supprimé : /teamspace/studios/this_studio/extracted_text/new_page_218.txt\n",
      "🗑️ Supprimé : /teamspace/studios/this_studio/extracted_text/new_page_403.txt\n",
      "🗑️ Supprimé : /teamspace/studios/this_studio/extracted_text/new_page_105.txt\n",
      "🗑️ Supprimé : /teamspace/studios/this_studio/extracted_text/new_page_69.txt\n",
      "🗑️ Supprimé : /teamspace/studios/this_studio/extracted_text/new_page_143.txt\n",
      "🗑️ Supprimé : /teamspace/studios/this_studio/extracted_text/new_page_339.txt\n",
      "🗑️ Supprimé : /teamspace/studios/this_studio/extracted_text/new_page_345.txt\n",
      "🗑️ Supprimé : /teamspace/studios/this_studio/extracted_text/new_page_441.txt\n",
      "🗑️ Supprimé : /teamspace/studios/this_studio/extracted_text/new_page_364.txt\n",
      "🗑️ Supprimé : /teamspace/studios/this_studio/extracted_text/new_page_307.txt\n",
      "🗑️ Supprimé : /teamspace/studios/this_studio/extracted_text/new_page_235.txt\n",
      "🗑️ Supprimé : /teamspace/studios/this_studio/extracted_text/new_page_243.txt\n",
      "🗑️ Supprimé : /teamspace/studios/this_studio/extracted_text/new_page_303.txt\n",
      "🗑️ Supprimé : /teamspace/studios/this_studio/extracted_text/new_page_327.txt\n",
      "🗑️ Supprimé : /teamspace/studios/this_studio/extracted_text/new_page_448.txt\n",
      "🗑️ Supprimé : /teamspace/studios/this_studio/extracted_text/new_page_372.txt\n",
      "🗑️ Supprimé : /teamspace/studios/this_studio/extracted_text/new_page_254.txt\n",
      "🗑️ Supprimé : /teamspace/studios/this_studio/extracted_text/new_page_316.txt\n",
      "🗑️ Supprimé : /teamspace/studios/this_studio/extracted_text/new_page_279.txt\n",
      "🗑️ Supprimé : /teamspace/studios/this_studio/extracted_text/new_page_396.txt\n",
      "🗑️ Supprimé : /teamspace/studios/this_studio/extracted_text/new_page_346.txt\n",
      "🗑️ Supprimé : /teamspace/studios/this_studio/extracted_text/new_page_286.txt\n",
      "🗑️ Supprimé : /teamspace/studios/this_studio/extracted_text/new_page_92.txt\n",
      "🗑️ Supprimé : /teamspace/studios/this_studio/extracted_text/new_page_360.txt\n",
      "🗑️ Supprimé : /teamspace/studios/this_studio/extracted_text/new_page_296.txt\n",
      "🗑️ Supprimé : /teamspace/studios/this_studio/extracted_text/new_page_362.txt\n",
      "🗑️ Supprimé : /teamspace/studios/this_studio/extracted_text/new_page_162.txt\n",
      "🗑️ Supprimé : /teamspace/studios/this_studio/extracted_text/new_page_35.txt\n",
      "🗑️ Supprimé : /teamspace/studios/this_studio/extracted_text/new_page_190.txt\n",
      "🗑️ Supprimé : /teamspace/studios/this_studio/extracted_text/new_page_33.txt\n",
      "🗑️ Supprimé : /teamspace/studios/this_studio/extracted_text/new_page_282.txt\n",
      "🗑️ Supprimé : /teamspace/studios/this_studio/extracted_text/new_page_10.txt\n",
      "🗑️ Supprimé : /teamspace/studios/this_studio/extracted_text/new_page_240.txt\n",
      "🗑️ Supprimé : /teamspace/studios/this_studio/extracted_text/new_page_5.txt\n",
      "🗑️ Supprimé : /teamspace/studios/this_studio/extracted_text/new_page_249.txt\n",
      "🗑️ Supprimé : /teamspace/studios/this_studio/extracted_text/new_page_234.txt\n",
      "🗑️ Supprimé : /teamspace/studios/this_studio/extracted_text/new_page_261.txt\n",
      "🗑️ Supprimé : /teamspace/studios/this_studio/extracted_text/new_page_253.txt\n",
      "🗑️ Supprimé : /teamspace/studios/this_studio/extracted_text/new_page_259.txt\n",
      "🗑️ Supprimé : /teamspace/studios/this_studio/extracted_text/new_page_238.txt\n",
      "🗑️ Supprimé : /teamspace/studios/this_studio/extracted_text/new_page_290.txt\n",
      "🗑️ Supprimé : /teamspace/studios/this_studio/extracted_text/new_page_377.txt\n",
      "🗑️ Supprimé : /teamspace/studios/this_studio/extracted_text/new_page_127.txt\n",
      "🗑️ Supprimé : /teamspace/studios/this_studio/extracted_text/new_page_402.txt\n",
      "🗑️ Supprimé : /teamspace/studios/this_studio/extracted_text/new_page_39.txt\n",
      "🗑️ Supprimé : /teamspace/studios/this_studio/extracted_text/new_page_30.txt\n",
      "🗑️ Supprimé : /teamspace/studios/this_studio/extracted_text/new_page_22.txt\n",
      "🗑️ Supprimé : /teamspace/studios/this_studio/extracted_text/new_page_221.txt\n",
      "🗑️ Supprimé : /teamspace/studios/this_studio/extracted_text/new_page_93.txt\n",
      "🗑️ Supprimé : /teamspace/studios/this_studio/extracted_text/new_page_435.txt\n",
      "🗑️ Supprimé : /teamspace/studios/this_studio/extracted_text/new_page_285.txt\n",
      "🗑️ Supprimé : /teamspace/studios/this_studio/extracted_text/new_page_115.txt\n",
      "🗑️ Supprimé : /teamspace/studios/this_studio/extracted_text/new_page_113.txt\n",
      "🗑️ Supprimé : /teamspace/studios/this_studio/extracted_text/new_page_8.txt\n",
      "🗑️ Supprimé : /teamspace/studios/this_studio/extracted_text/new_page_426.txt\n",
      "🗑️ Supprimé : /teamspace/studios/this_studio/extracted_text/new_page_130.txt\n",
      "🗑️ Supprimé : /teamspace/studios/this_studio/extracted_text/new_page_135.txt\n",
      "🗑️ Supprimé : /teamspace/studios/this_studio/extracted_text/new_page_281.txt\n",
      "🗑️ Supprimé : /teamspace/studios/this_studio/extracted_text/new_page_392.txt\n",
      "🗑️ Supprimé : /teamspace/studios/this_studio/extracted_text/new_page_332.txt\n",
      "🗑️ Supprimé : /teamspace/studios/this_studio/extracted_text/new_page_159.txt\n",
      "🗑️ Supprimé : /teamspace/studios/this_studio/extracted_text/new_page_317.txt\n",
      "🗑️ Supprimé : /teamspace/studios/this_studio/extracted_text/new_page_26.txt\n",
      "🗑️ Supprimé : /teamspace/studios/this_studio/extracted_text/new_page_271.txt\n",
      "🗑️ Supprimé : /teamspace/studios/this_studio/extracted_text/new_page_95.txt\n",
      "🗑️ Supprimé : /teamspace/studios/this_studio/extracted_text/new_page_425.txt\n",
      "🗑️ Supprimé : /teamspace/studios/this_studio/extracted_text/new_page_128.txt\n",
      "🗑️ Supprimé : /teamspace/studios/this_studio/extracted_text/new_page_70.txt\n",
      "🗑️ Supprimé : /teamspace/studios/this_studio/extracted_text/new_page_31.txt\n",
      "🗑️ Supprimé : /teamspace/studios/this_studio/extracted_text/new_page_299.txt\n",
      "🗑️ Supprimé : /teamspace/studios/this_studio/extracted_text/new_page_9.txt\n",
      "🗑️ Supprimé : /teamspace/studios/this_studio/extracted_text/new_page_96.txt\n",
      "🗑️ Supprimé : /teamspace/studios/this_studio/extracted_text/new_page_298.txt\n",
      "🗑️ Supprimé : /teamspace/studios/this_studio/extracted_text/new_page_380.txt\n",
      "🗑️ Supprimé : /teamspace/studios/this_studio/extracted_text/new_page_321.txt\n",
      "📁 Dossier supprimé : /teamspace/studios/this_studio/extracted_text\n",
      "🗑️ Supprimé : /teamspace/studios/this_studio/extracted_readme/new_page_300.md\n",
      "🗑️ Supprimé : /teamspace/studios/this_studio/extracted_readme/new_page_36.md\n",
      "🗑️ Supprimé : /teamspace/studios/this_studio/extracted_readme/new_page_207.md\n",
      "🗑️ Supprimé : /teamspace/studios/this_studio/extracted_readme/new_page_120.md\n",
      "🗑️ Supprimé : /teamspace/studios/this_studio/extracted_readme/new_page_218.md\n",
      "🗑️ Supprimé : /teamspace/studios/this_studio/extracted_readme/new_page_369.md\n",
      "🗑️ Supprimé : /teamspace/studios/this_studio/extracted_readme/new_page_393.md\n",
      "🗑️ Supprimé : /teamspace/studios/this_studio/extracted_readme/new_page_172.md\n",
      "🗑️ Supprimé : /teamspace/studios/this_studio/extracted_readme/new_page_401.md\n",
      "🗑️ Supprimé : /teamspace/studios/this_studio/extracted_readme/new_page_433.md\n",
      "🗑️ Supprimé : /teamspace/studios/this_studio/extracted_readme/new_page_35.md\n",
      "🗑️ Supprimé : /teamspace/studios/this_studio/extracted_readme/new_page_205.md\n",
      "🗑️ Supprimé : /teamspace/studios/this_studio/extracted_readme/new_page_347.md\n",
      "🗑️ Supprimé : /teamspace/studios/this_studio/extracted_readme/new_page_116.md\n",
      "🗑️ Supprimé : /teamspace/studios/this_studio/extracted_readme/new_page_59.md\n",
      "🗑️ Supprimé : /teamspace/studios/this_studio/extracted_readme/new_page_230.md\n",
      "🗑️ Supprimé : /teamspace/studios/this_studio/extracted_readme/new_page_435.md\n",
      "🗑️ Supprimé : /teamspace/studios/this_studio/extracted_readme/new_page_390.md\n",
      "🗑️ Supprimé : /teamspace/studios/this_studio/extracted_readme/new_page_371.md\n",
      "🗑️ Supprimé : /teamspace/studios/this_studio/extracted_readme/new_page_91.md\n",
      "🗑️ Supprimé : /teamspace/studios/this_studio/extracted_readme/new_page_161.md\n",
      "🗑️ Supprimé : /teamspace/studios/this_studio/extracted_readme/new_page_408.md\n",
      "🗑️ Supprimé : /teamspace/studios/this_studio/extracted_readme/new_page_416.md\n",
      "🗑️ Supprimé : /teamspace/studios/this_studio/extracted_readme/new_page_337.md\n",
      "🗑️ Supprimé : /teamspace/studios/this_studio/extracted_readme/new_page_360.md\n",
      "🗑️ Supprimé : /teamspace/studios/this_studio/extracted_readme/new_page_6.md\n",
      "🗑️ Supprimé : /teamspace/studios/this_studio/extracted_readme/new_page_101.md\n",
      "🗑️ Supprimé : /teamspace/studios/this_studio/extracted_readme/new_page_215.md\n",
      "🗑️ Supprimé : /teamspace/studios/this_studio/extracted_readme/new_page_354.md\n",
      "🗑️ Supprimé : /teamspace/studios/this_studio/extracted_readme/new_page_21.md\n",
      "🗑️ Supprimé : /teamspace/studios/this_studio/extracted_readme/new_page_334.md\n",
      "🗑️ Supprimé : /teamspace/studios/this_studio/extracted_readme/new_page_144.md\n",
      "🗑️ Supprimé : /teamspace/studios/this_studio/extracted_readme/new_page_46.md\n",
      "🗑️ Supprimé : /teamspace/studios/this_studio/extracted_readme/new_page_242.md\n",
      "🗑️ Supprimé : /teamspace/studios/this_studio/extracted_readme/new_page_423.md\n",
      "🗑️ Supprimé : /teamspace/studios/this_studio/extracted_readme/new_page_26.md\n",
      "🗑️ Supprimé : /teamspace/studios/this_studio/extracted_readme/new_page_112.md\n",
      "🗑️ Supprimé : /teamspace/studios/this_studio/extracted_readme/new_page_11.md\n",
      "🗑️ Supprimé : /teamspace/studios/this_studio/extracted_readme/new_page_324.md\n",
      "🗑️ Supprimé : /teamspace/studios/this_studio/extracted_readme/new_page_177.md\n",
      "🗑️ Supprimé : /teamspace/studios/this_studio/extracted_readme/new_page_249.md\n",
      "🗑️ Supprimé : /teamspace/studios/this_studio/extracted_readme/new_page_357.md\n",
      "🗑️ Supprimé : /teamspace/studios/this_studio/extracted_readme/new_page_352.md\n",
      "🗑️ Supprimé : /teamspace/studios/this_studio/extracted_readme/new_page_403.md\n",
      "🗑️ Supprimé : /teamspace/studios/this_studio/extracted_readme/new_page_434.md\n",
      "🗑️ Supprimé : /teamspace/studios/this_studio/extracted_readme/new_page_332.md\n",
      "🗑️ Supprimé : /teamspace/studios/this_studio/extracted_readme/new_page_213.md\n",
      "🗑️ Supprimé : /teamspace/studios/this_studio/extracted_readme/new_page_163.md\n",
      "🗑️ Supprimé : /teamspace/studios/this_studio/extracted_readme/new_page_425.md\n",
      "🗑️ Supprimé : /teamspace/studios/this_studio/extracted_readme/new_page_89.md\n",
      "🗑️ Supprimé : /teamspace/studios/this_studio/extracted_readme/new_page_67.md\n",
      "🗑️ Supprimé : /teamspace/studios/this_studio/extracted_readme/new_page_292.md\n",
      "🗑️ Supprimé : /teamspace/studios/this_studio/extracted_readme/new_page_181.md\n",
      "🗑️ Supprimé : /teamspace/studios/this_studio/extracted_readme/new_page_64.md\n",
      "🗑️ Supprimé : /teamspace/studios/this_studio/extracted_readme/new_page_358.md\n",
      "🗑️ Supprimé : /teamspace/studios/this_studio/extracted_readme/new_page_160.md\n",
      "🗑️ Supprimé : /teamspace/studios/this_studio/extracted_readme/new_page_106.md\n",
      "🗑️ Supprimé : /teamspace/studios/this_studio/extracted_readme/new_page_199.md\n",
      "🗑️ Supprimé : /teamspace/studios/this_studio/extracted_readme/new_page_117.md\n",
      "🗑️ Supprimé : /teamspace/studios/this_studio/extracted_readme/new_page_438.md\n",
      "🗑️ Supprimé : /teamspace/studios/this_studio/extracted_readme/new_page_74.md\n",
      "🗑️ Supprimé : /teamspace/studios/this_studio/extracted_readme/new_page_221.md\n",
      "🗑️ Supprimé : /teamspace/studios/this_studio/extracted_readme/new_page_320.md\n",
      "🗑️ Supprimé : /teamspace/studios/this_studio/extracted_readme/new_page_310.md\n",
      "🗑️ Supprimé : /teamspace/studios/this_studio/extracted_readme/new_page_79.md\n",
      "🗑️ Supprimé : /teamspace/studios/this_studio/extracted_readme/new_page_445.md\n",
      "🗑️ Supprimé : /teamspace/studios/this_studio/extracted_readme/new_page_410.md\n",
      "🗑️ Supprimé : /teamspace/studios/this_studio/extracted_readme/new_page_417.md\n",
      "🗑️ Supprimé : /teamspace/studios/this_studio/extracted_readme/new_page_70.md\n",
      "🗑️ Supprimé : /teamspace/studios/this_studio/extracted_readme/new_page_94.md\n",
      "🗑️ Supprimé : /teamspace/studios/this_studio/extracted_readme/new_page_269.md\n",
      "🗑️ Supprimé : /teamspace/studios/this_studio/extracted_readme/new_page_304.md\n",
      "🗑️ Supprimé : /teamspace/studios/this_studio/extracted_readme/new_page_73.md\n",
      "🗑️ Supprimé : /teamspace/studios/this_studio/extracted_readme/new_page_391.md\n",
      "🗑️ Supprimé : /teamspace/studios/this_studio/extracted_readme/new_page_87.md\n",
      "🗑️ Supprimé : /teamspace/studios/this_studio/extracted_readme/new_page_243.md\n",
      "🗑️ Supprimé : /teamspace/studios/this_studio/extracted_readme/new_page_413.md\n",
      "🗑️ Supprimé : /teamspace/studios/this_studio/extracted_readme/new_page_409.md\n",
      "🗑️ Supprimé : /teamspace/studios/this_studio/extracted_readme/new_page_66.md\n",
      "🗑️ Supprimé : /teamspace/studios/this_studio/extracted_readme/new_page_16.md\n",
      "🗑️ Supprimé : /teamspace/studios/this_studio/extracted_readme/new_page_296.md\n",
      "🗑️ Supprimé : /teamspace/studios/this_studio/extracted_readme/new_page_234.md\n",
      "🗑️ Supprimé : /teamspace/studios/this_studio/extracted_readme/new_page_299.md\n",
      "🗑️ Supprimé : /teamspace/studios/this_studio/extracted_readme/new_page_305.md\n",
      "🗑️ Supprimé : /teamspace/studios/this_studio/extracted_readme/new_page_156.md\n",
      "🗑️ Supprimé : /teamspace/studios/this_studio/extracted_readme/new_page_262.md\n",
      "🗑️ Supprimé : /teamspace/studios/this_studio/extracted_readme/new_page_150.md\n",
      "🗑️ Supprimé : /teamspace/studios/this_studio/extracted_readme/new_page_253.md\n",
      "🗑️ Supprimé : /teamspace/studios/this_studio/extracted_readme/new_page_376.md\n",
      "🗑️ Supprimé : /teamspace/studios/this_studio/extracted_readme/new_page_99.md\n",
      "🗑️ Supprimé : /teamspace/studios/this_studio/extracted_readme/new_page_383.md\n",
      "🗑️ Supprimé : /teamspace/studios/this_studio/extracted_readme/new_page_436.md\n",
      "🗑️ Supprimé : /teamspace/studios/this_studio/extracted_readme/new_page_138.md\n",
      "🗑️ Supprimé : /teamspace/studios/this_studio/extracted_readme/new_page_278.md\n",
      "🗑️ Supprimé : /teamspace/studios/this_studio/extracted_readme/new_page_62.md\n",
      "🗑️ Supprimé : /teamspace/studios/this_studio/extracted_readme/new_page_306.md\n",
      "🗑️ Supprimé : /teamspace/studios/this_studio/extracted_readme/new_page_231.md\n",
      "🗑️ Supprimé : /teamspace/studios/this_studio/extracted_readme/new_page_109.md\n",
      "🗑️ Supprimé : /teamspace/studios/this_studio/extracted_readme/new_page_155.md\n",
      "🗑️ Supprimé : /teamspace/studios/this_studio/extracted_readme/new_page_364.md\n",
      "🗑️ Supprimé : /teamspace/studios/this_studio/extracted_readme/new_page_387.md\n",
      "🗑️ Supprimé : /teamspace/studios/this_studio/extracted_readme/new_page_113.md\n",
      "🗑️ Supprimé : /teamspace/studios/this_studio/extracted_readme/new_page_196.md\n",
      "🗑️ Supprimé : /teamspace/studios/this_studio/extracted_readme/new_page_326.md\n",
      "🗑️ Supprimé : /teamspace/studios/this_studio/extracted_readme/new_page_44.md\n",
      "🗑️ Supprimé : /teamspace/studios/this_studio/extracted_readme/new_page_272.md\n",
      "🗑️ Supprimé : /teamspace/studios/this_studio/extracted_readme/new_page_49.md\n",
      "🗑️ Supprimé : /teamspace/studios/this_studio/extracted_readme/new_page_102.md\n",
      "🗑️ Supprimé : /teamspace/studios/this_studio/extracted_readme/new_page_236.md\n",
      "🗑️ Supprimé : /teamspace/studios/this_studio/extracted_readme/new_page_372.md\n",
      "🗑️ Supprimé : /teamspace/studios/this_studio/extracted_readme/new_page_430.md\n",
      "🗑️ Supprimé : /teamspace/studios/this_studio/extracted_readme/new_page_165.md\n",
      "🗑️ Supprimé : /teamspace/studios/this_studio/extracted_readme/new_page_134.md\n",
      "🗑️ Supprimé : /teamspace/studios/this_studio/extracted_readme/new_page_224.md\n",
      "🗑️ Supprimé : /teamspace/studios/this_studio/extracted_readme/new_page_400.md\n",
      "🗑️ Supprimé : /teamspace/studios/this_studio/extracted_readme/new_page_385.md\n",
      "🗑️ Supprimé : /teamspace/studios/this_studio/extracted_readme/new_page_333.md\n",
      "🗑️ Supprimé : /teamspace/studios/this_studio/extracted_readme/new_page_29.md\n",
      "🗑️ Supprimé : /teamspace/studios/this_studio/extracted_readme/new_page_439.md\n",
      "🗑️ Supprimé : /teamspace/studios/this_studio/extracted_readme/new_page_60.md\n",
      "🗑️ Supprimé : /teamspace/studios/this_studio/extracted_readme/new_page_353.md\n",
      "🗑️ Supprimé : /teamspace/studios/this_studio/extracted_readme/new_page_65.md\n",
      "🗑️ Supprimé : /teamspace/studios/this_studio/extracted_readme/new_page_206.md\n",
      "🗑️ Supprimé : /teamspace/studios/this_studio/extracted_readme/new_page_229.md\n",
      "🗑️ Supprimé : /teamspace/studios/this_studio/extracted_readme/new_page_210.md\n",
      "🗑️ Supprimé : /teamspace/studios/this_studio/extracted_readme/new_page_254.md\n",
      "🗑️ Supprimé : /teamspace/studios/this_studio/extracted_readme/new_page_386.md\n",
      "🗑️ Supprimé : /teamspace/studios/this_studio/extracted_readme/new_page_193.md\n",
      "🗑️ Supprimé : /teamspace/studios/this_studio/extracted_readme/new_page_107.md\n",
      "🗑️ Supprimé : /teamspace/studios/this_studio/extracted_readme/new_page_121.md\n",
      "🗑️ Supprimé : /teamspace/studios/this_studio/extracted_readme/new_page_56.md\n",
      "🗑️ Supprimé : /teamspace/studios/this_studio/extracted_readme/new_page_170.md\n",
      "🗑️ Supprimé : /teamspace/studios/this_studio/extracted_readme/new_page_351.md\n",
      "🗑️ Supprimé : /teamspace/studios/this_studio/extracted_readme/new_page_252.md\n",
      "🗑️ Supprimé : /teamspace/studios/this_studio/extracted_readme/new_page_174.md\n",
      "🗑️ Supprimé : /teamspace/studios/this_studio/extracted_readme/new_page_28.md\n",
      "🗑️ Supprimé : /teamspace/studios/this_studio/extracted_readme/new_page_50.md\n",
      "🗑️ Supprimé : /teamspace/studios/this_studio/extracted_readme/new_page_179.md\n",
      "🗑️ Supprimé : /teamspace/studios/this_studio/extracted_readme/new_page_12.md\n",
      "🗑️ Supprimé : /teamspace/studios/this_studio/extracted_readme/new_page_38.md\n",
      "🗑️ Supprimé : /teamspace/studios/this_studio/extracted_readme/new_page_159.md\n",
      "🗑️ Supprimé : /teamspace/studios/this_studio/extracted_readme/new_page_367.md\n",
      "🗑️ Supprimé : /teamspace/studios/this_studio/extracted_readme/new_page_287.md\n",
      "🗑️ Supprimé : /teamspace/studios/this_studio/extracted_readme/new_page_380.md\n",
      "🗑️ Supprimé : /teamspace/studios/this_studio/extracted_readme/new_page_3.md\n",
      "🗑️ Supprimé : /teamspace/studios/this_studio/extracted_readme/new_page_323.md\n",
      "🗑️ Supprimé : /teamspace/studios/this_studio/extracted_readme/new_page_421.md\n",
      "🗑️ Supprimé : /teamspace/studios/this_studio/extracted_readme/new_page_142.md\n",
      "🗑️ Supprimé : /teamspace/studios/this_studio/extracted_readme/new_page_118.md\n",
      "🗑️ Supprimé : /teamspace/studios/this_studio/extracted_readme/new_page_322.md\n",
      "🗑️ Supprimé : /teamspace/studios/this_studio/extracted_readme/new_page_189.md\n",
      "🗑️ Supprimé : /teamspace/studios/this_studio/extracted_readme/new_page_132.md\n",
      "🗑️ Supprimé : /teamspace/studios/this_studio/extracted_readme/new_page_7.md\n",
      "🗑️ Supprimé : /teamspace/studios/this_studio/extracted_readme/new_page_152.md\n",
      "🗑️ Supprimé : /teamspace/studios/this_studio/extracted_readme/new_page_178.md\n",
      "🗑️ Supprimé : /teamspace/studios/this_studio/extracted_readme/new_page_245.md\n",
      "🗑️ Supprimé : /teamspace/studios/this_studio/extracted_readme/new_page_331.md\n",
      "🗑️ Supprimé : /teamspace/studios/this_studio/extracted_readme/new_page_349.md\n",
      "🗑️ Supprimé : /teamspace/studios/this_studio/extracted_readme/new_page_373.md\n",
      "🗑️ Supprimé : /teamspace/studios/this_studio/extracted_readme/new_page_42.md\n",
      "🗑️ Supprimé : /teamspace/studios/this_studio/extracted_readme/new_page_145.md\n",
      "🗑️ Supprimé : /teamspace/studios/this_studio/extracted_readme/new_page_405.md\n",
      "🗑️ Supprimé : /teamspace/studios/this_studio/extracted_readme/new_page_5.md\n",
      "🗑️ Supprimé : /teamspace/studios/this_studio/extracted_readme/new_page_315.md\n",
      "🗑️ Supprimé : /teamspace/studios/this_studio/extracted_readme/new_page_57.md\n",
      "🗑️ Supprimé : /teamspace/studios/this_studio/extracted_readme/new_page_342.md\n",
      "🗑️ Supprimé : /teamspace/studios/this_studio/extracted_readme/new_page_382.md\n",
      "🗑️ Supprimé : /teamspace/studios/this_studio/extracted_readme/new_page_180.md\n",
      "🗑️ Supprimé : /teamspace/studios/this_studio/extracted_readme/new_page_43.md\n",
      "🗑️ Supprimé : /teamspace/studios/this_studio/extracted_readme/new_page_370.md\n",
      "🗑️ Supprimé : /teamspace/studios/this_studio/extracted_readme/new_page_105.md\n",
      "🗑️ Supprimé : /teamspace/studios/this_studio/extracted_readme/new_page_63.md\n",
      "🗑️ Supprimé : /teamspace/studios/this_studio/extracted_readme/new_page_103.md\n",
      "🗑️ Supprimé : /teamspace/studios/this_studio/extracted_readme/new_page_280.md\n",
      "🗑️ Supprimé : /teamspace/studios/this_studio/extracted_readme/new_page_422.md\n",
      "🗑️ Supprimé : /teamspace/studios/this_studio/extracted_readme/new_page_197.md\n",
      "🗑️ Supprimé : /teamspace/studios/this_studio/extracted_readme/new_page_95.md\n",
      "🗑️ Supprimé : /teamspace/studios/this_studio/extracted_readme/new_page_264.md\n",
      "🗑️ Supprimé : /teamspace/studios/this_studio/extracted_readme/new_page_22.md\n",
      "🗑️ Supprimé : /teamspace/studios/this_studio/extracted_readme/new_page_77.md\n",
      "🗑️ Supprimé : /teamspace/studios/this_studio/extracted_readme/new_page_30.md\n",
      "🗑️ Supprimé : /teamspace/studios/this_studio/extracted_readme/new_page_291.md\n",
      "🗑️ Supprimé : /teamspace/studios/this_studio/extracted_readme/new_page_214.md\n",
      "🗑️ Supprimé : /teamspace/studios/this_studio/extracted_readme/new_page_223.md\n",
      "🗑️ Supprimé : /teamspace/studios/this_studio/extracted_readme/new_page_119.md\n",
      "🗑️ Supprimé : /teamspace/studios/this_studio/extracted_readme/new_page_335.md\n",
      "🗑️ Supprimé : /teamspace/studios/this_studio/extracted_readme/new_page_398.md\n",
      "🗑️ Supprimé : /teamspace/studios/this_studio/extracted_readme/new_page_51.md\n",
      "🗑️ Supprimé : /teamspace/studios/this_studio/extracted_readme/new_page_169.md\n",
      "🗑️ Supprimé : /teamspace/studios/this_studio/extracted_readme/new_page_175.md\n",
      "🗑️ Supprimé : /teamspace/studios/this_studio/extracted_readme/new_page_282.md\n",
      "🗑️ Supprimé : /teamspace/studios/this_studio/extracted_readme/new_page_93.md\n",
      "🗑️ Supprimé : /teamspace/studios/this_studio/extracted_readme/new_page_256.md\n",
      "🗑️ Supprimé : /teamspace/studios/this_studio/extracted_readme/new_page_448.md\n",
      "🗑️ Supprimé : /teamspace/studios/this_studio/extracted_readme/new_page_104.md\n",
      "🗑️ Supprimé : /teamspace/studios/this_studio/extracted_readme/new_page_190.md\n",
      "🗑️ Supprimé : /teamspace/studios/this_studio/extracted_readme/new_page_426.md\n",
      "🗑️ Supprimé : /teamspace/studios/this_studio/extracted_readme/new_page_171.md\n",
      "🗑️ Supprimé : /teamspace/studios/this_studio/extracted_readme/new_page_13.md\n",
      "🗑️ Supprimé : /teamspace/studios/this_studio/extracted_readme/new_page_440.md\n",
      "🗑️ Supprimé : /teamspace/studios/this_studio/extracted_readme/new_page_203.md\n",
      "🗑️ Supprimé : /teamspace/studios/this_studio/extracted_readme/new_page_418.md\n",
      "🗑️ Supprimé : /teamspace/studios/this_studio/extracted_readme/new_page_72.md\n",
      "🗑️ Supprimé : /teamspace/studios/this_studio/extracted_readme/new_page_92.md\n",
      "🗑️ Supprimé : /teamspace/studios/this_studio/extracted_readme/new_page_237.md\n",
      "🗑️ Supprimé : /teamspace/studios/this_studio/extracted_readme/new_page_168.md\n",
      "🗑️ Supprimé : /teamspace/studios/this_studio/extracted_readme/new_page_188.md\n",
      "🗑️ Supprimé : /teamspace/studios/this_studio/extracted_readme/new_page_377.md\n",
      "🗑️ Supprimé : /teamspace/studios/this_studio/extracted_readme/new_page_25.md\n",
      "🗑️ Supprimé : /teamspace/studios/this_studio/extracted_readme/new_page_125.md\n",
      "🗑️ Supprimé : /teamspace/studios/this_studio/extracted_readme/new_page_261.md\n",
      "🗑️ Supprimé : /teamspace/studios/this_studio/extracted_readme/new_page_288.md\n",
      "🗑️ Supprimé : /teamspace/studios/this_studio/extracted_readme/new_page_182.md\n",
      "🗑️ Supprimé : /teamspace/studios/this_studio/extracted_readme/new_page_176.md\n",
      "🗑️ Supprimé : /teamspace/studios/this_studio/extracted_readme/new_page_137.md\n",
      "🗑️ Supprimé : /teamspace/studios/this_studio/extracted_readme/new_page_83.md\n",
      "🗑️ Supprimé : /teamspace/studios/this_studio/extracted_readme/new_page_192.md\n",
      "🗑️ Supprimé : /teamspace/studios/this_studio/extracted_readme/new_page_329.md\n",
      "🗑️ Supprimé : /teamspace/studios/this_studio/extracted_readme/new_page_257.md\n",
      "🗑️ Supprimé : /teamspace/studios/this_studio/extracted_readme/new_page_273.md\n",
      "🗑️ Supprimé : /teamspace/studios/this_studio/extracted_readme/new_page_447.md\n",
      "🗑️ Supprimé : /teamspace/studios/this_studio/extracted_readme/new_page_267.md\n",
      "🗑️ Supprimé : /teamspace/studios/this_studio/extracted_readme/new_page_338.md\n",
      "🗑️ Supprimé : /teamspace/studios/this_studio/extracted_readme/new_page_143.md\n",
      "🗑️ Supprimé : /teamspace/studios/this_studio/extracted_readme/new_page_359.md\n",
      "🗑️ Supprimé : /teamspace/studios/this_studio/extracted_readme/new_page_308.md\n",
      "🗑️ Supprimé : /teamspace/studios/this_studio/extracted_readme/new_page_78.md\n",
      "🗑️ Supprimé : /teamspace/studios/this_studio/extracted_readme/new_page_346.md\n",
      "🗑️ Supprimé : /teamspace/studios/this_studio/extracted_readme/new_page_263.md\n",
      "🗑️ Supprimé : /teamspace/studios/this_studio/extracted_readme/new_page_341.md\n",
      "🗑️ Supprimé : /teamspace/studios/this_studio/extracted_readme/new_page_446.md\n",
      "🗑️ Supprimé : /teamspace/studios/this_studio/extracted_readme/new_page_98.md\n",
      "🗑️ Supprimé : /teamspace/studios/this_studio/extracted_readme/new_page_394.md\n",
      "🗑️ Supprimé : /teamspace/studios/this_studio/extracted_readme/new_page_141.md\n",
      "🗑️ Supprimé : /teamspace/studios/this_studio/extracted_readme/new_page_279.md\n",
      "🗑️ Supprimé : /teamspace/studios/this_studio/extracted_readme/new_page_184.md\n",
      "🗑️ Supprimé : /teamspace/studios/this_studio/extracted_readme/new_page_183.md\n",
      "🗑️ Supprimé : /teamspace/studios/this_studio/extracted_readme/new_page_274.md\n",
      "🗑️ Supprimé : /teamspace/studios/this_studio/extracted_readme/new_page_270.md\n",
      "🗑️ Supprimé : /teamspace/studios/this_studio/extracted_readme/new_page_419.md\n",
      "🗑️ Supprimé : /teamspace/studios/this_studio/extracted_readme/new_page_216.md\n",
      "🗑️ Supprimé : /teamspace/studios/this_studio/extracted_readme/new_page_247.md\n",
      "🗑️ Supprimé : /teamspace/studios/this_studio/extracted_readme/new_page_339.md\n",
      "🗑️ Supprimé : /teamspace/studios/this_studio/extracted_readme/new_page_198.md\n",
      "🗑️ Supprimé : /teamspace/studios/this_studio/extracted_readme/new_page_80.md\n",
      "🗑️ Supprimé : /teamspace/studios/this_studio/extracted_readme/new_page_86.md\n",
      "🗑️ Supprimé : /teamspace/studios/this_studio/extracted_readme/new_page_378.md\n",
      "🗑️ Supprimé : /teamspace/studios/this_studio/extracted_readme/new_page_340.md\n",
      "🗑️ Supprimé : /teamspace/studios/this_studio/extracted_readme/new_page_443.md\n",
      "🗑️ Supprimé : /teamspace/studios/this_studio/extracted_readme/new_page_420.md\n",
      "🗑️ Supprimé : /teamspace/studios/this_studio/extracted_readme/new_page_295.md\n",
      "🗑️ Supprimé : /teamspace/studios/this_studio/extracted_readme/new_page_147.md\n",
      "🗑️ Supprimé : /teamspace/studios/this_studio/extracted_readme/new_page_24.md\n",
      "🗑️ Supprimé : /teamspace/studios/this_studio/extracted_readme/new_page_314.md\n",
      "🗑️ Supprimé : /teamspace/studios/this_studio/extracted_readme/new_page_128.md\n",
      "🗑️ Supprimé : /teamspace/studios/this_studio/extracted_readme/new_page_294.md\n",
      "🗑️ Supprimé : /teamspace/studios/this_studio/extracted_readme/new_page_217.md\n",
      "🗑️ Supprimé : /teamspace/studios/this_studio/extracted_readme/new_page_431.md\n",
      "🗑️ Supprimé : /teamspace/studios/this_studio/extracted_readme/new_page_100.md\n",
      "🗑️ Supprimé : /teamspace/studios/this_studio/extracted_readme/new_page_139.md\n",
      "🗑️ Supprimé : /teamspace/studios/this_studio/extracted_readme/new_page_15.md\n",
      "🗑️ Supprimé : /teamspace/studios/this_studio/extracted_readme/new_page_153.md\n",
      "🗑️ Supprimé : /teamspace/studios/this_studio/extracted_readme/new_page_344.md\n",
      "🗑️ Supprimé : /teamspace/studios/this_studio/extracted_readme/new_page_336.md\n",
      "🗑️ Supprimé : /teamspace/studios/this_studio/extracted_readme/new_page_124.md\n",
      "🗑️ Supprimé : /teamspace/studios/this_studio/extracted_readme/new_page_9.md\n",
      "🗑️ Supprimé : /teamspace/studios/this_studio/extracted_readme/new_page_149.md\n",
      "🗑️ Supprimé : /teamspace/studios/this_studio/extracted_readme/new_page_244.md\n",
      "🗑️ Supprimé : /teamspace/studios/this_studio/extracted_readme/new_page_31.md\n",
      "🗑️ Supprimé : /teamspace/studios/this_studio/extracted_readme/new_page_449.md\n",
      "🗑️ Supprimé : /teamspace/studios/this_studio/extracted_readme/new_page_130.md\n",
      "🗑️ Supprimé : /teamspace/studios/this_studio/extracted_readme/new_page_123.md\n",
      "🗑️ Supprimé : /teamspace/studios/this_studio/extracted_readme/new_page_2.md\n",
      "🗑️ Supprimé : /teamspace/studios/this_studio/extracted_readme/new_page_321.md\n",
      "🗑️ Supprimé : /teamspace/studios/this_studio/extracted_readme/new_page_131.md\n",
      "🗑️ Supprimé : /teamspace/studios/this_studio/extracted_readme/new_page_146.md\n",
      "🗑️ Supprimé : /teamspace/studios/this_studio/extracted_readme/new_page_222.md\n",
      "🗑️ Supprimé : /teamspace/studios/this_studio/extracted_readme/new_page_32.md\n",
      "🗑️ Supprimé : /teamspace/studios/this_studio/extracted_readme/new_page_309.md\n",
      "🗑️ Supprimé : /teamspace/studios/this_studio/extracted_readme/new_page_374.md\n",
      "🗑️ Supprimé : /teamspace/studios/this_studio/extracted_readme/new_page_68.md\n",
      "🗑️ Supprimé : /teamspace/studios/this_studio/extracted_readme/new_page_389.md\n",
      "🗑️ Supprimé : /teamspace/studios/this_studio/extracted_readme/new_page_297.md\n",
      "🗑️ Supprimé : /teamspace/studios/this_studio/extracted_readme/new_page_318.md\n",
      "🗑️ Supprimé : /teamspace/studios/this_studio/extracted_readme/new_page_362.md\n",
      "🗑️ Supprimé : /teamspace/studios/this_studio/extracted_readme/new_page_411.md\n",
      "🗑️ Supprimé : /teamspace/studios/this_studio/extracted_readme/new_page_129.md\n",
      "🗑️ Supprimé : /teamspace/studios/this_studio/extracted_readme/new_page_414.md\n",
      "🗑️ Supprimé : /teamspace/studios/this_studio/extracted_readme/new_page_258.md\n",
      "🗑️ Supprimé : /teamspace/studios/this_studio/extracted_readme/new_page_248.md\n",
      "🗑️ Supprimé : /teamspace/studios/this_studio/extracted_readme/new_page_363.md\n",
      "🗑️ Supprimé : /teamspace/studios/this_studio/extracted_readme/new_page_450.md\n",
      "🗑️ Supprimé : /teamspace/studios/this_studio/extracted_readme/new_page_437.md\n",
      "🗑️ Supprimé : /teamspace/studios/this_studio/extracted_readme/new_page_226.md\n",
      "🗑️ Supprimé : /teamspace/studios/this_studio/extracted_readme/new_page_97.md\n",
      "🗑️ Supprimé : /teamspace/studios/this_studio/extracted_readme/new_page_429.md\n",
      "🗑️ Supprimé : /teamspace/studios/this_studio/extracted_readme/new_page_395.md\n",
      "🗑️ Supprimé : /teamspace/studios/this_studio/extracted_readme/new_page_424.md\n",
      "🗑️ Supprimé : /teamspace/studios/this_studio/extracted_readme/new_page_345.md\n",
      "🗑️ Supprimé : /teamspace/studios/this_studio/extracted_readme/new_page_397.md\n",
      "🗑️ Supprimé : /teamspace/studios/this_studio/extracted_readme/new_page_330.md\n",
      "🗑️ Supprimé : /teamspace/studios/this_studio/extracted_readme/new_page_399.md\n",
      "🗑️ Supprimé : /teamspace/studios/this_studio/extracted_readme/new_page_442.md\n",
      "🗑️ Supprimé : /teamspace/studios/this_studio/extracted_readme/new_page_122.md\n",
      "🗑️ Supprimé : /teamspace/studios/this_studio/extracted_readme/new_page_209.md\n",
      "🗑️ Supprimé : /teamspace/studios/this_studio/extracted_readme/new_page_327.md\n",
      "🗑️ Supprimé : /teamspace/studios/this_studio/extracted_readme/new_page_239.md\n",
      "🗑️ Supprimé : /teamspace/studios/this_studio/extracted_readme/new_page_61.md\n",
      "🗑️ Supprimé : /teamspace/studios/this_studio/extracted_readme/new_page_381.md\n",
      "🗑️ Supprimé : /teamspace/studios/this_studio/extracted_readme/new_page_41.md\n",
      "🗑️ Supprimé : /teamspace/studios/this_studio/extracted_readme/new_page_281.md\n",
      "🗑️ Supprimé : /teamspace/studios/this_studio/extracted_readme/new_page_140.md\n",
      "🗑️ Supprimé : /teamspace/studios/this_studio/extracted_readme/new_page_10.md\n",
      "🗑️ Supprimé : /teamspace/studios/this_studio/extracted_readme/new_page_350.md\n",
      "🗑️ Supprimé : /teamspace/studios/this_studio/extracted_readme/new_page_415.md\n",
      "🗑️ Supprimé : /teamspace/studios/this_studio/extracted_readme/new_page_81.md\n",
      "🗑️ Supprimé : /teamspace/studios/this_studio/extracted_readme/new_page_283.md\n",
      "🗑️ Supprimé : /teamspace/studios/this_studio/extracted_readme/new_page_228.md\n",
      "🗑️ Supprimé : /teamspace/studios/this_studio/extracted_readme/new_page_227.md\n",
      "🗑️ Supprimé : /teamspace/studios/this_studio/extracted_readme/new_page_312.md\n",
      "🗑️ Supprimé : /teamspace/studios/this_studio/extracted_readme/new_page_265.md\n",
      "🗑️ Supprimé : /teamspace/studios/this_studio/extracted_readme/new_page_251.md\n",
      "🗑️ Supprimé : /teamspace/studios/this_studio/extracted_readme/new_page_348.md\n",
      "🗑️ Supprimé : /teamspace/studios/this_studio/extracted_readme/new_page_162.md\n",
      "🗑️ Supprimé : /teamspace/studios/this_studio/extracted_readme/new_page_167.md\n",
      "🗑️ Supprimé : /teamspace/studios/this_studio/extracted_readme/new_page_85.md\n",
      "🗑️ Supprimé : /teamspace/studios/this_studio/extracted_readme/new_page_276.md\n",
      "🗑️ Supprimé : /teamspace/studios/this_studio/extracted_readme/new_page_185.md\n",
      "🗑️ Supprimé : /teamspace/studios/this_studio/extracted_readme/new_page_90.md\n",
      "🗑️ Supprimé : /teamspace/studios/this_studio/extracted_readme/new_page_18.md\n",
      "🗑️ Supprimé : /teamspace/studios/this_studio/extracted_readme/new_page_240.md\n",
      "🗑️ Supprimé : /teamspace/studios/this_studio/extracted_readme/new_page_313.md\n",
      "🗑️ Supprimé : /teamspace/studios/this_studio/extracted_readme/new_page_17.md\n",
      "🗑️ Supprimé : /teamspace/studios/this_studio/extracted_readme/new_page_58.md\n",
      "🗑️ Supprimé : /teamspace/studios/this_studio/extracted_readme/new_page_290.md\n",
      "🗑️ Supprimé : /teamspace/studios/this_studio/extracted_readme/new_page_115.md\n",
      "🗑️ Supprimé : /teamspace/studios/this_studio/extracted_readme/new_page_235.md\n",
      "🗑️ Supprimé : /teamspace/studios/this_studio/extracted_readme/new_page_114.md\n",
      "🗑️ Supprimé : /teamspace/studios/this_studio/extracted_readme/new_page_255.md\n",
      "🗑️ Supprimé : /teamspace/studios/this_studio/extracted_readme/new_page_48.md\n",
      "🗑️ Supprimé : /teamspace/studios/this_studio/extracted_readme/new_page_277.md\n",
      "🗑️ Supprimé : /teamspace/studios/this_studio/extracted_readme/new_page_194.md\n",
      "🗑️ Supprimé : /teamspace/studios/this_studio/extracted_readme/new_page_52.md\n",
      "🗑️ Supprimé : /teamspace/studios/this_studio/extracted_readme/new_page_286.md\n",
      "🗑️ Supprimé : /teamspace/studios/this_studio/extracted_readme/new_page_392.md\n",
      "🗑️ Supprimé : /teamspace/studios/this_studio/extracted_readme/new_page_34.md\n",
      "🗑️ Supprimé : /teamspace/studios/this_studio/extracted_readme/new_page_250.md\n",
      "🗑️ Supprimé : /teamspace/studios/this_studio/extracted_readme/new_page_379.md\n",
      "🗑️ Supprimé : /teamspace/studios/this_studio/extracted_readme/new_page_166.md\n",
      "🗑️ Supprimé : /teamspace/studios/this_studio/extracted_readme/new_page_302.md\n",
      "🗑️ Supprimé : /teamspace/studios/this_studio/extracted_readme/new_page_201.md\n",
      "🗑️ Supprimé : /teamspace/studios/this_studio/extracted_readme/new_page_355.md\n",
      "🗑️ Supprimé : /teamspace/studios/this_studio/extracted_readme/new_page_317.md\n",
      "🗑️ Supprimé : /teamspace/studios/this_studio/extracted_readme/new_page_375.md\n",
      "🗑️ Supprimé : /teamspace/studios/this_studio/extracted_readme/new_page_14.md\n",
      "🗑️ Supprimé : /teamspace/studios/this_studio/extracted_readme/new_page_319.md\n",
      "🗑️ Supprimé : /teamspace/studios/this_studio/extracted_readme/new_page_303.md\n",
      "🗑️ Supprimé : /teamspace/studios/this_studio/extracted_readme/new_page_55.md\n",
      "🗑️ Supprimé : /teamspace/studios/this_studio/extracted_readme/new_page_289.md\n",
      "🗑️ Supprimé : /teamspace/studios/this_studio/extracted_readme/new_page_241.md\n",
      "🗑️ Supprimé : /teamspace/studios/this_studio/extracted_readme/new_page_110.md\n",
      "🗑️ Supprimé : /teamspace/studios/this_studio/extracted_readme/new_page_133.md\n",
      "🗑️ Supprimé : /teamspace/studios/this_studio/extracted_readme/new_page_45.md\n",
      "🗑️ Supprimé : /teamspace/studios/this_studio/extracted_readme/new_page_219.md\n",
      "🗑️ Supprimé : /teamspace/studios/this_studio/extracted_readme/new_page_211.md\n",
      "🗑️ Supprimé : /teamspace/studios/this_studio/extracted_readme/new_page_343.md\n",
      "🗑️ Supprimé : /teamspace/studios/this_studio/extracted_readme/new_page_406.md\n",
      "🗑️ Supprimé : /teamspace/studios/this_studio/extracted_readme/new_page_259.md\n",
      "🗑️ Supprimé : /teamspace/studios/this_studio/extracted_readme/new_page_444.md\n",
      "🗑️ Supprimé : /teamspace/studios/this_studio/extracted_readme/new_page_19.md\n",
      "🗑️ Supprimé : /teamspace/studios/this_studio/extracted_readme/new_page_33.md\n",
      "🗑️ Supprimé : /teamspace/studios/this_studio/extracted_readme/new_page_39.md\n",
      "🗑️ Supprimé : /teamspace/studios/this_studio/extracted_readme/new_page_23.md\n",
      "🗑️ Supprimé : /teamspace/studios/this_studio/extracted_readme/new_page_4.md\n",
      "🗑️ Supprimé : /teamspace/studios/this_studio/extracted_readme/new_page_238.md\n",
      "🗑️ Supprimé : /teamspace/studios/this_studio/extracted_readme/new_page_284.md\n",
      "🗑️ Supprimé : /teamspace/studios/this_studio/extracted_readme/new_page_365.md\n",
      "🗑️ Supprimé : /teamspace/studios/this_studio/extracted_readme/new_page_266.md\n",
      "🗑️ Supprimé : /teamspace/studios/this_studio/extracted_readme/new_page_301.md\n",
      "🗑️ Supprimé : /teamspace/studios/this_studio/extracted_readme/new_page_225.md\n",
      "🗑️ Supprimé : /teamspace/studios/this_studio/extracted_readme/new_page_173.md\n",
      "🗑️ Supprimé : /teamspace/studios/this_studio/extracted_readme/new_page_307.md\n",
      "🗑️ Supprimé : /teamspace/studios/this_studio/extracted_readme/new_page_127.md\n",
      "🗑️ Supprimé : /teamspace/studios/this_studio/extracted_readme/new_page_148.md\n",
      "🗑️ Supprimé : /teamspace/studios/this_studio/extracted_readme/new_page_298.md\n",
      "🗑️ Supprimé : /teamspace/studios/this_studio/extracted_readme/new_page_151.md\n",
      "🗑️ Supprimé : /teamspace/studios/this_studio/extracted_readme/new_page_71.md\n",
      "🗑️ Supprimé : /teamspace/studios/this_studio/extracted_readme/new_page_407.md\n",
      "🗑️ Supprimé : /teamspace/studios/this_studio/extracted_readme/new_page_1.md\n",
      "🗑️ Supprimé : /teamspace/studios/this_studio/extracted_readme/new_page_37.md\n",
      "🗑️ Supprimé : /teamspace/studios/this_studio/extracted_readme/new_page_316.md\n",
      "🗑️ Supprimé : /teamspace/studios/this_studio/extracted_readme/new_page_220.md\n",
      "🗑️ Supprimé : /teamspace/studios/this_studio/extracted_readme/new_page_157.md\n",
      "🗑️ Supprimé : /teamspace/studios/this_studio/extracted_readme/new_page_126.md\n",
      "🗑️ Supprimé : /teamspace/studios/this_studio/extracted_readme/new_page_54.md\n",
      "🗑️ Supprimé : /teamspace/studios/this_studio/extracted_readme/new_page_187.md\n",
      "🗑️ Supprimé : /teamspace/studios/this_studio/extracted_readme/new_page_388.md\n",
      "🗑️ Supprimé : /teamspace/studios/this_studio/extracted_readme/new_page_293.md\n",
      "🗑️ Supprimé : /teamspace/studios/this_studio/extracted_readme/new_page_186.md\n",
      "🗑️ Supprimé : /teamspace/studios/this_studio/extracted_readme/new_page_366.md\n",
      "🗑️ Supprimé : /teamspace/studios/this_studio/extracted_readme/new_page_275.md\n",
      "🗑️ Supprimé : /teamspace/studios/this_studio/extracted_readme/new_page_164.md\n",
      "🗑️ Supprimé : /teamspace/studios/this_studio/extracted_readme/new_page_75.md\n",
      "🗑️ Supprimé : /teamspace/studios/this_studio/extracted_readme/new_page_260.md\n",
      "🗑️ Supprimé : /teamspace/studios/this_studio/extracted_readme/new_page_271.md\n",
      "🗑️ Supprimé : /teamspace/studios/this_studio/extracted_readme/new_page_191.md\n",
      "🗑️ Supprimé : /teamspace/studios/this_studio/extracted_readme/new_page_84.md\n",
      "🗑️ Supprimé : /teamspace/studios/this_studio/extracted_readme/new_page_202.md\n",
      "🗑️ Supprimé : /teamspace/studios/this_studio/extracted_readme/new_page_384.md\n",
      "🗑️ Supprimé : /teamspace/studios/this_studio/extracted_readme/new_page_428.md\n",
      "🗑️ Supprimé : /teamspace/studios/this_studio/extracted_readme/new_page_427.md\n",
      "🗑️ Supprimé : /teamspace/studios/this_studio/extracted_readme/new_page_96.md\n",
      "🗑️ Supprimé : /teamspace/studios/this_studio/extracted_readme/new_page_325.md\n",
      "🗑️ Supprimé : /teamspace/studios/this_studio/extracted_readme/new_page_20.md\n",
      "🗑️ Supprimé : /teamspace/studios/this_studio/extracted_readme/new_page_212.md\n",
      "🗑️ Supprimé : /teamspace/studios/this_studio/extracted_readme/new_page_53.md\n",
      "🗑️ Supprimé : /teamspace/studios/this_studio/extracted_readme/new_page_402.md\n",
      "🗑️ Supprimé : /teamspace/studios/this_studio/extracted_readme/new_page_8.md\n",
      "🗑️ Supprimé : /teamspace/studios/this_studio/extracted_readme/new_page_268.md\n",
      "🗑️ Supprimé : /teamspace/studios/this_studio/extracted_readme/new_page_232.md\n",
      "🗑️ Supprimé : /teamspace/studios/this_studio/extracted_readme/new_page_368.md\n",
      "🗑️ Supprimé : /teamspace/studios/this_studio/extracted_readme/new_page_412.md\n",
      "🗑️ Supprimé : /teamspace/studios/this_studio/extracted_readme/new_page_135.md\n",
      "🗑️ Supprimé : /teamspace/studios/this_studio/extracted_readme/new_page_76.md\n",
      "🗑️ Supprimé : /teamspace/studios/this_studio/extracted_readme/new_page_82.md\n",
      "🗑️ Supprimé : /teamspace/studios/this_studio/extracted_readme/new_page_40.md\n",
      "🗑️ Supprimé : /teamspace/studios/this_studio/extracted_readme/new_page_396.md\n",
      "🗑️ Supprimé : /teamspace/studios/this_studio/extracted_readme/new_page_69.md\n",
      "🗑️ Supprimé : /teamspace/studios/this_studio/extracted_readme/new_page_27.md\n",
      "🗑️ Supprimé : /teamspace/studios/this_studio/extracted_readme/new_page_432.md\n",
      "🗑️ Supprimé : /teamspace/studios/this_studio/extracted_readme/new_page_404.md\n",
      "🗑️ Supprimé : /teamspace/studios/this_studio/extracted_readme/new_page_154.md\n",
      "🗑️ Supprimé : /teamspace/studios/this_studio/extracted_readme/new_page_158.md\n",
      "🗑️ Supprimé : /teamspace/studios/this_studio/extracted_readme/new_page_361.md\n",
      "🗑️ Supprimé : /teamspace/studios/this_studio/extracted_readme/new_page_136.md\n",
      "🗑️ Supprimé : /teamspace/studios/this_studio/extracted_readme/new_page_195.md\n",
      "🗑️ Supprimé : /teamspace/studios/this_studio/extracted_readme/new_page_356.md\n",
      "🗑️ Supprimé : /teamspace/studios/this_studio/extracted_readme/new_page_233.md\n",
      "🗑️ Supprimé : /teamspace/studios/this_studio/extracted_readme/new_page_108.md\n",
      "🗑️ Supprimé : /teamspace/studios/this_studio/extracted_readme/new_page_246.md\n",
      "🗑️ Supprimé : /teamspace/studios/this_studio/extracted_readme/new_page_208.md\n",
      "🗑️ Supprimé : /teamspace/studios/this_studio/extracted_readme/new_page_88.md\n",
      "🗑️ Supprimé : /teamspace/studios/this_studio/extracted_readme/new_page_311.md\n",
      "🗑️ Supprimé : /teamspace/studios/this_studio/extracted_readme/new_page_328.md\n",
      "🗑️ Supprimé : /teamspace/studios/this_studio/extracted_readme/new_page_200.md\n",
      "🗑️ Supprimé : /teamspace/studios/this_studio/extracted_readme/new_page_285.md\n",
      "🗑️ Supprimé : /teamspace/studios/this_studio/extracted_readme/new_page_204.md\n",
      "🗑️ Supprimé : /teamspace/studios/this_studio/extracted_readme/new_page_47.md\n",
      "🗑️ Supprimé : /teamspace/studios/this_studio/extracted_readme/new_page_441.md\n",
      "🗑️ Supprimé : /teamspace/studios/this_studio/extracted_readme/new_page_111.md\n",
      "📁 Dossier supprimé : /teamspace/studios/this_studio/extracted_readme\n",
      "🗑️ Supprimé : extracted_images/page9_img1.png\n",
      "🗑️ Supprimé : extracted_images/page116_img1.png\n",
      "🗑️ Supprimé : extracted_images/page165_img1.png\n",
      "🗑️ Supprimé : extracted_images/page427_img6.png\n",
      "🗑️ Supprimé : extracted_images/page6_img10.png\n",
      "🗑️ Supprimé : extracted_images/page208_img1.png\n",
      "🗑️ Supprimé : extracted_images/page265_img1.png\n",
      "🗑️ Supprimé : extracted_images/page388_img1.png\n",
      "🗑️ Supprimé : extracted_images/page421_img1.png\n",
      "🗑️ Supprimé : extracted_images/page156_img2.png\n",
      "🗑️ Supprimé : extracted_images/page209_img1.png\n",
      "🗑️ Supprimé : extracted_images/page427_img1.png\n",
      "🗑️ Supprimé : extracted_images/page6_img6.png\n",
      "🗑️ Supprimé : extracted_images/page426_img1.png\n",
      "🗑️ Supprimé : extracted_images/page143_img1.png\n",
      "🗑️ Supprimé : extracted_images/page160_img1.png\n",
      "🗑️ Supprimé : extracted_images/page6_img8.png\n",
      "🗑️ Supprimé : extracted_images/page387_img5.png\n",
      "🗑️ Supprimé : extracted_images/page160_img3.png\n",
      "🗑️ Supprimé : extracted_images/page8_img2.png\n",
      "🗑️ Supprimé : extracted_images/page115_img1.png\n",
      "🗑️ Supprimé : extracted_images/page144_img2.png\n",
      "🗑️ Supprimé : extracted_images/page390_img1.png\n",
      "🗑️ Supprimé : extracted_images/page387_img11.png\n",
      "🗑️ Supprimé : extracted_images/page10_img1.png\n",
      "🗑️ Supprimé : extracted_images/page23_img2.png\n",
      "🗑️ Supprimé : extracted_images/page389_img1.png\n",
      "🗑️ Supprimé : extracted_images/page387_img16.png\n",
      "🗑️ Supprimé : extracted_images/page427_img3.png\n",
      "🗑️ Supprimé : extracted_images/page143_img2.png\n",
      "🗑️ Supprimé : extracted_images/page164_img1.png\n",
      "🗑️ Supprimé : extracted_images/page387_img2.png\n",
      "🗑️ Supprimé : extracted_images/page142_img1.png\n",
      "🗑️ Supprimé : extracted_images/page6_img9.png\n",
      "🗑️ Supprimé : extracted_images/page157_img2.png\n",
      "🗑️ Supprimé : extracted_images/page387_img12.png\n",
      "🗑️ Supprimé : extracted_images/page141_img3.png\n",
      "🗑️ Supprimé : extracted_images/page387_img4.png\n",
      "🗑️ Supprimé : extracted_images/page160_img2.png\n",
      "🗑️ Supprimé : extracted_images/page426_img5.png\n",
      "🗑️ Supprimé : extracted_images/page391_img1.png\n",
      "🗑️ Supprimé : extracted_images/page140_img2.png\n",
      "🗑️ Supprimé : extracted_images/page387_img19.png\n",
      "🗑️ Supprimé : extracted_images/page161_img3.png\n",
      "🗑️ Supprimé : extracted_images/page426_img6.png\n",
      "🗑️ Supprimé : extracted_images/page140_img3.png\n",
      "🗑️ Supprimé : extracted_images/page6_img2.png\n",
      "🗑️ Supprimé : extracted_images/page145_img1.png\n",
      "🗑️ Supprimé : extracted_images/page392_img1.png\n",
      "🗑️ Supprimé : extracted_images/page6_img12.png\n",
      "🗑️ Supprimé : extracted_images/page52_img1.png\n",
      "🗑️ Supprimé : extracted_images/page426_img3.png\n",
      "🗑️ Supprimé : extracted_images/page387_img1.png\n",
      "🗑️ Supprimé : extracted_images/page409_img1.png\n",
      "🗑️ Supprimé : extracted_images/page6_img4.png\n",
      "🗑️ Supprimé : extracted_images/page426_img2.png\n",
      "🗑️ Supprimé : extracted_images/page398_img1.png\n",
      "🗑️ Supprimé : extracted_images/page146_img2.png\n",
      "🗑️ Supprimé : extracted_images/page143_img4.png\n",
      "🗑️ Supprimé : extracted_images/page141_img2.png\n",
      "🗑️ Supprimé : extracted_images/page157_img1.png\n",
      "🗑️ Supprimé : extracted_images/page265_img2.png\n",
      "🗑️ Supprimé : extracted_images/page156_img1.png\n",
      "🗑️ Supprimé : extracted_images/page146_img1.png\n",
      "🗑️ Supprimé : extracted_images/page390_img2.png\n",
      "🗑️ Supprimé : extracted_images/page145_img3.png\n",
      "🗑️ Supprimé : extracted_images/page140_img1.png\n",
      "🗑️ Supprimé : extracted_images/page143_img3.png\n",
      "🗑️ Supprimé : extracted_images/page266_img1.png\n",
      "🗑️ Supprimé : extracted_images/page6_img5.png\n",
      "🗑️ Supprimé : extracted_images/page161_img2.png\n",
      "🗑️ Supprimé : extracted_images/page147_img1.png\n",
      "🗑️ Supprimé : extracted_images/page6_img11.png\n",
      "🗑️ Supprimé : extracted_images/page11_img1.png\n",
      "🗑️ Supprimé : extracted_images/page387_img8.png\n",
      "🗑️ Supprimé : extracted_images/page144_img1.png\n",
      "🗑️ Supprimé : extracted_images/page387_img9.png\n",
      "🗑️ Supprimé : extracted_images/page11_img2.png\n",
      "🗑️ Supprimé : extracted_images/page8_img1.png\n",
      "🗑️ Supprimé : extracted_images/page387_img14.png\n",
      "🗑️ Supprimé : extracted_images/page23_img4.png\n",
      "🗑️ Supprimé : extracted_images/page387_img18.png\n",
      "🗑️ Supprimé : extracted_images/page266_img2.png\n",
      "🗑️ Supprimé : extracted_images/page145_img2.png\n",
      "🗑️ Supprimé : extracted_images/page6_img7.png\n",
      "🗑️ Supprimé : extracted_images/page388_img2.png\n",
      "🗑️ Supprimé : extracted_images/page400_img1.png\n",
      "🗑️ Supprimé : extracted_images/page159_img1.png\n",
      "🗑️ Supprimé : extracted_images/page403_img1.png\n",
      "🗑️ Supprimé : extracted_images/page159_img2.png\n",
      "🗑️ Supprimé : extracted_images/page161_img1.png\n",
      "🗑️ Supprimé : extracted_images/page10_img2.png\n",
      "🗑️ Supprimé : extracted_images/page387_img15.png\n",
      "🗑️ Supprimé : extracted_images/page141_img1.png\n",
      "🗑️ Supprimé : extracted_images/page23_img1.png\n",
      "🗑️ Supprimé : extracted_images/page387_img10.png\n",
      "🗑️ Supprimé : extracted_images/page6_img13.png\n",
      "🗑️ Supprimé : extracted_images/page9_img2.png\n",
      "🗑️ Supprimé : extracted_images/page51_img1.png\n",
      "🗑️ Supprimé : extracted_images/page387_img7.png\n",
      "🗑️ Supprimé : extracted_images/page23_img3.png\n",
      "🗑️ Supprimé : extracted_images/page20_img1.png\n",
      "🗑️ Supprimé : extracted_images/page142_img2.png\n",
      "🗑️ Supprimé : extracted_images/page6_img1.png\n",
      "🗑️ Supprimé : extracted_images/page387_img6.png\n",
      "🗑️ Supprimé : extracted_images/page427_img5.png\n",
      "🗑️ Supprimé : extracted_images/page6_img3.png\n",
      "🗑️ Supprimé : extracted_images/page426_img4.png\n",
      "🗑️ Supprimé : extracted_images/page387_img3.png\n",
      "🗑️ Supprimé : extracted_images/page158_img1.png\n",
      "🗑️ Supprimé : extracted_images/page162_img1.png\n",
      "🗑️ Supprimé : extracted_images/page155_img1.png\n",
      "🗑️ Supprimé : extracted_images/page427_img2.png\n",
      "🗑️ Supprimé : extracted_images/page421_img2.png\n",
      "🗑️ Supprimé : extracted_images/page387_img20.png\n",
      "🗑️ Supprimé : extracted_images/page387_img17.png\n",
      "🗑️ Supprimé : extracted_images/page427_img4.png\n",
      "🗑️ Supprimé : extracted_images/page421_img3.png\n",
      "🗑️ Supprimé : extracted_images/page387_img13.png\n",
      "📁 Dossier supprimé : extracted_images\n",
      "🗑️ Supprimé : /teamspace/studios/this_studio/OUTPUT_DIR/new_page_228.pdf\n",
      "🗑️ Supprimé : /teamspace/studios/this_studio/OUTPUT_DIR/new_page_428.pdf\n",
      "🗑️ Supprimé : /teamspace/studios/this_studio/OUTPUT_DIR/new_page_11.pdf\n",
      "🗑️ Supprimé : /teamspace/studios/this_studio/OUTPUT_DIR/new_page_95.pdf\n",
      "🗑️ Supprimé : /teamspace/studios/this_studio/OUTPUT_DIR/new_page_182.pdf\n",
      "🗑️ Supprimé : /teamspace/studios/this_studio/OUTPUT_DIR/new_page_431.pdf\n",
      "🗑️ Supprimé : /teamspace/studios/this_studio/OUTPUT_DIR/new_page_315.pdf\n",
      "🗑️ Supprimé : /teamspace/studios/this_studio/OUTPUT_DIR/new_page_91.pdf\n",
      "🗑️ Supprimé : /teamspace/studios/this_studio/OUTPUT_DIR/new_page_176.pdf\n",
      "🗑️ Supprimé : /teamspace/studios/this_studio/OUTPUT_DIR/new_page_448.pdf\n",
      "🗑️ Supprimé : /teamspace/studios/this_studio/OUTPUT_DIR/new_page_3.pdf\n",
      "🗑️ Supprimé : /teamspace/studios/this_studio/OUTPUT_DIR/new_page_424.pdf\n",
      "🗑️ Supprimé : /teamspace/studios/this_studio/OUTPUT_DIR/new_page_184.pdf\n",
      "🗑️ Supprimé : /teamspace/studios/this_studio/OUTPUT_DIR/new_page_409.pdf\n",
      "🗑️ Supprimé : /teamspace/studios/this_studio/OUTPUT_DIR/new_page_250.pdf\n",
      "🗑️ Supprimé : /teamspace/studios/this_studio/OUTPUT_DIR/new_page_395.pdf\n",
      "🗑️ Supprimé : /teamspace/studios/this_studio/OUTPUT_DIR/new_page_135.pdf\n",
      "🗑️ Supprimé : /teamspace/studios/this_studio/OUTPUT_DIR/new_page_380.pdf\n",
      "🗑️ Supprimé : /teamspace/studios/this_studio/OUTPUT_DIR/new_page_151.pdf\n",
      "🗑️ Supprimé : /teamspace/studios/this_studio/OUTPUT_DIR/new_page_206.pdf\n",
      "🗑️ Supprimé : /teamspace/studios/this_studio/OUTPUT_DIR/new_page_173.pdf\n",
      "🗑️ Supprimé : /teamspace/studios/this_studio/OUTPUT_DIR/new_page_136.pdf\n",
      "🗑️ Supprimé : /teamspace/studios/this_studio/OUTPUT_DIR/new_page_379.pdf\n",
      "🗑️ Supprimé : /teamspace/studios/this_studio/OUTPUT_DIR/new_page_237.pdf\n",
      "🗑️ Supprimé : /teamspace/studios/this_studio/OUTPUT_DIR/new_page_267.pdf\n",
      "🗑️ Supprimé : /teamspace/studios/this_studio/OUTPUT_DIR/new_page_144.pdf\n",
      "🗑️ Supprimé : /teamspace/studios/this_studio/OUTPUT_DIR/new_page_382.pdf\n",
      "🗑️ Supprimé : /teamspace/studios/this_studio/OUTPUT_DIR/new_page_273.pdf\n",
      "🗑️ Supprimé : /teamspace/studios/this_studio/OUTPUT_DIR/new_page_56.pdf\n",
      "🗑️ Supprimé : /teamspace/studios/this_studio/OUTPUT_DIR/new_page_183.pdf\n",
      "🗑️ Supprimé : /teamspace/studios/this_studio/OUTPUT_DIR/new_page_230.pdf\n",
      "🗑️ Supprimé : /teamspace/studios/this_studio/OUTPUT_DIR/new_page_345.pdf\n",
      "🗑️ Supprimé : /teamspace/studios/this_studio/OUTPUT_DIR/new_page_257.pdf\n",
      "🗑️ Supprimé : /teamspace/studios/this_studio/OUTPUT_DIR/new_page_305.pdf\n",
      "🗑️ Supprimé : /teamspace/studios/this_studio/OUTPUT_DIR/new_page_63.pdf\n",
      "🗑️ Supprimé : /teamspace/studios/this_studio/OUTPUT_DIR/new_page_282.pdf\n",
      "🗑️ Supprimé : /teamspace/studios/this_studio/OUTPUT_DIR/new_page_5.pdf\n",
      "🗑️ Supprimé : /teamspace/studios/this_studio/OUTPUT_DIR/new_page_212.pdf\n",
      "🗑️ Supprimé : /teamspace/studios/this_studio/OUTPUT_DIR/new_page_147.pdf\n",
      "🗑️ Supprimé : /teamspace/studios/this_studio/OUTPUT_DIR/new_page_90.pdf\n",
      "🗑️ Supprimé : /teamspace/studios/this_studio/OUTPUT_DIR/new_page_19.pdf\n",
      "🗑️ Supprimé : /teamspace/studios/this_studio/OUTPUT_DIR/new_page_145.pdf\n",
      "🗑️ Supprimé : /teamspace/studios/this_studio/OUTPUT_DIR/new_page_223.pdf\n",
      "🗑️ Supprimé : /teamspace/studios/this_studio/OUTPUT_DIR/new_page_392.pdf\n",
      "🗑️ Supprimé : /teamspace/studios/this_studio/OUTPUT_DIR/new_page_94.pdf\n",
      "🗑️ Supprimé : /teamspace/studios/this_studio/OUTPUT_DIR/new_page_21.pdf\n",
      "🗑️ Supprimé : /teamspace/studios/this_studio/OUTPUT_DIR/new_page_52.pdf\n",
      "🗑️ Supprimé : /teamspace/studios/this_studio/OUTPUT_DIR/new_page_401.pdf\n",
      "🗑️ Supprimé : /teamspace/studios/this_studio/OUTPUT_DIR/new_page_316.pdf\n",
      "🗑️ Supprimé : /teamspace/studios/this_studio/OUTPUT_DIR/new_page_244.pdf\n",
      "🗑️ Supprimé : /teamspace/studios/this_studio/OUTPUT_DIR/new_page_414.pdf\n",
      "🗑️ Supprimé : /teamspace/studios/this_studio/OUTPUT_DIR/new_page_256.pdf\n",
      "🗑️ Supprimé : /teamspace/studios/this_studio/OUTPUT_DIR/new_page_8.pdf\n",
      "🗑️ Supprimé : /teamspace/studios/this_studio/OUTPUT_DIR/new_page_54.pdf\n",
      "🗑️ Supprimé : /teamspace/studios/this_studio/OUTPUT_DIR/new_page_189.pdf\n",
      "🗑️ Supprimé : /teamspace/studios/this_studio/OUTPUT_DIR/new_page_81.pdf\n",
      "🗑️ Supprimé : /teamspace/studios/this_studio/OUTPUT_DIR/new_page_234.pdf\n",
      "🗑️ Supprimé : /teamspace/studios/this_studio/OUTPUT_DIR/new_page_160.pdf\n",
      "🗑️ Supprimé : /teamspace/studios/this_studio/OUTPUT_DIR/new_page_346.pdf\n",
      "🗑️ Supprimé : /teamspace/studios/this_studio/OUTPUT_DIR/new_page_390.pdf\n",
      "🗑️ Supprimé : /teamspace/studios/this_studio/OUTPUT_DIR/new_page_325.pdf\n",
      "🗑️ Supprimé : /teamspace/studios/this_studio/OUTPUT_DIR/new_page_353.pdf\n",
      "🗑️ Supprimé : /teamspace/studios/this_studio/OUTPUT_DIR/new_page_92.pdf\n",
      "🗑️ Supprimé : /teamspace/studios/this_studio/OUTPUT_DIR/new_page_238.pdf\n",
      "🗑️ Supprimé : /teamspace/studios/this_studio/OUTPUT_DIR/new_page_64.pdf\n",
      "🗑️ Supprimé : /teamspace/studios/this_studio/OUTPUT_DIR/new_page_33.pdf\n",
      "🗑️ Supprimé : /teamspace/studios/this_studio/OUTPUT_DIR/new_page_215.pdf\n",
      "🗑️ Supprimé : /teamspace/studios/this_studio/OUTPUT_DIR/new_page_123.pdf\n",
      "🗑️ Supprimé : /teamspace/studios/this_studio/OUTPUT_DIR/new_page_359.pdf\n",
      "🗑️ Supprimé : /teamspace/studios/this_studio/OUTPUT_DIR/new_page_441.pdf\n",
      "🗑️ Supprimé : /teamspace/studios/this_studio/OUTPUT_DIR/new_page_338.pdf\n",
      "🗑️ Supprimé : /teamspace/studios/this_studio/OUTPUT_DIR/new_page_342.pdf\n",
      "🗑️ Supprimé : /teamspace/studios/this_studio/OUTPUT_DIR/new_page_290.pdf\n",
      "🗑️ Supprimé : /teamspace/studios/this_studio/OUTPUT_DIR/new_page_51.pdf\n",
      "🗑️ Supprimé : /teamspace/studios/this_studio/OUTPUT_DIR/new_page_210.pdf\n",
      "🗑️ Supprimé : /teamspace/studios/this_studio/OUTPUT_DIR/new_page_213.pdf\n",
      "🗑️ Supprimé : /teamspace/studios/this_studio/OUTPUT_DIR/new_page_350.pdf\n",
      "🗑️ Supprimé : /teamspace/studios/this_studio/OUTPUT_DIR/new_page_334.pdf\n",
      "🗑️ Supprimé : /teamspace/studios/this_studio/OUTPUT_DIR/new_page_154.pdf\n",
      "🗑️ Supprimé : /teamspace/studios/this_studio/OUTPUT_DIR/new_page_121.pdf\n",
      "🗑️ Supprimé : /teamspace/studios/this_studio/OUTPUT_DIR/new_page_158.pdf\n",
      "🗑️ Supprimé : /teamspace/studios/this_studio/OUTPUT_DIR/new_page_164.pdf\n",
      "🗑️ Supprimé : /teamspace/studios/this_studio/OUTPUT_DIR/new_page_444.pdf\n",
      "🗑️ Supprimé : /teamspace/studios/this_studio/OUTPUT_DIR/new_page_150.pdf\n",
      "🗑️ Supprimé : /teamspace/studios/this_studio/OUTPUT_DIR/new_page_236.pdf\n",
      "🗑️ Supprimé : /teamspace/studios/this_studio/OUTPUT_DIR/new_page_49.pdf\n",
      "🗑️ Supprimé : /teamspace/studios/this_studio/OUTPUT_DIR/new_page_218.pdf\n",
      "🗑️ Supprimé : /teamspace/studios/this_studio/OUTPUT_DIR/new_page_394.pdf\n",
      "🗑️ Supprimé : /teamspace/studios/this_studio/OUTPUT_DIR/new_page_129.pdf\n",
      "🗑️ Supprimé : /teamspace/studios/this_studio/OUTPUT_DIR/new_page_198.pdf\n",
      "🗑️ Supprimé : /teamspace/studios/this_studio/OUTPUT_DIR/new_page_190.pdf\n",
      "🗑️ Supprimé : /teamspace/studios/this_studio/OUTPUT_DIR/new_page_74.pdf\n",
      "🗑️ Supprimé : /teamspace/studios/this_studio/OUTPUT_DIR/new_page_368.pdf\n",
      "🗑️ Supprimé : /teamspace/studios/this_studio/OUTPUT_DIR/new_page_364.pdf\n",
      "🗑️ Supprimé : /teamspace/studios/this_studio/OUTPUT_DIR/new_page_224.pdf\n",
      "🗑️ Supprimé : /teamspace/studios/this_studio/OUTPUT_DIR/new_page_419.pdf\n",
      "🗑️ Supprimé : /teamspace/studios/this_studio/OUTPUT_DIR/new_page_101.pdf\n",
      "🗑️ Supprimé : /teamspace/studios/this_studio/OUTPUT_DIR/new_page_67.pdf\n",
      "🗑️ Supprimé : /teamspace/studios/this_studio/OUTPUT_DIR/new_page_110.pdf\n",
      "🗑️ Supprimé : /teamspace/studios/this_studio/OUTPUT_DIR/new_page_146.pdf\n",
      "🗑️ Supprimé : /teamspace/studios/this_studio/OUTPUT_DIR/new_page_119.pdf\n",
      "🗑️ Supprimé : /teamspace/studios/this_studio/OUTPUT_DIR/new_page_289.pdf\n",
      "🗑️ Supprimé : /teamspace/studios/this_studio/OUTPUT_DIR/new_page_443.pdf\n",
      "🗑️ Supprimé : /teamspace/studios/this_studio/OUTPUT_DIR/new_page_383.pdf\n",
      "🗑️ Supprimé : /teamspace/studios/this_studio/OUTPUT_DIR/new_page_85.pdf\n",
      "🗑️ Supprimé : /teamspace/studios/this_studio/OUTPUT_DIR/new_page_13.pdf\n",
      "🗑️ Supprimé : /teamspace/studios/this_studio/OUTPUT_DIR/new_page_397.pdf\n",
      "🗑️ Supprimé : /teamspace/studios/this_studio/OUTPUT_DIR/new_page_335.pdf\n",
      "🗑️ Supprimé : /teamspace/studios/this_studio/OUTPUT_DIR/new_page_199.pdf\n",
      "🗑️ Supprimé : /teamspace/studios/this_studio/OUTPUT_DIR/new_page_251.pdf\n",
      "🗑️ Supprimé : /teamspace/studios/this_studio/OUTPUT_DIR/new_page_128.pdf\n",
      "🗑️ Supprimé : /teamspace/studios/this_studio/OUTPUT_DIR/new_page_271.pdf\n",
      "🗑️ Supprimé : /teamspace/studios/this_studio/OUTPUT_DIR/new_page_17.pdf\n",
      "🗑️ Supprimé : /teamspace/studios/this_studio/OUTPUT_DIR/new_page_356.pdf\n",
      "🗑️ Supprimé : /teamspace/studios/this_studio/OUTPUT_DIR/new_page_293.pdf\n",
      "🗑️ Supprimé : /teamspace/studios/this_studio/OUTPUT_DIR/new_page_22.pdf\n",
      "🗑️ Supprimé : /teamspace/studios/this_studio/OUTPUT_DIR/new_page_295.pdf\n",
      "🗑️ Supprimé : /teamspace/studios/this_studio/OUTPUT_DIR/new_page_200.pdf\n",
      "🗑️ Supprimé : /teamspace/studios/this_studio/OUTPUT_DIR/new_page_139.pdf\n",
      "🗑️ Supprimé : /teamspace/studios/this_studio/OUTPUT_DIR/new_page_180.pdf\n",
      "🗑️ Supprimé : /teamspace/studios/this_studio/OUTPUT_DIR/new_page_430.pdf\n",
      "🗑️ Supprimé : /teamspace/studios/this_studio/OUTPUT_DIR/new_page_284.pdf\n",
      "🗑️ Supprimé : /teamspace/studios/this_studio/OUTPUT_DIR/new_page_27.pdf\n",
      "🗑️ Supprimé : /teamspace/studios/this_studio/OUTPUT_DIR/new_page_42.pdf\n",
      "🗑️ Supprimé : /teamspace/studios/this_studio/OUTPUT_DIR/new_page_327.pdf\n",
      "🗑️ Supprimé : /teamspace/studios/this_studio/OUTPUT_DIR/new_page_193.pdf\n",
      "🗑️ Supprimé : /teamspace/studios/this_studio/OUTPUT_DIR/new_page_440.pdf\n",
      "🗑️ Supprimé : /teamspace/studios/this_studio/OUTPUT_DIR/new_page_207.pdf\n",
      "🗑️ Supprimé : /teamspace/studios/this_studio/OUTPUT_DIR/new_page_220.pdf\n",
      "🗑️ Supprimé : /teamspace/studios/this_studio/OUTPUT_DIR/new_page_445.pdf\n",
      "🗑️ Supprimé : /teamspace/studios/this_studio/OUTPUT_DIR/new_page_39.pdf\n",
      "🗑️ Supprimé : /teamspace/studios/this_studio/OUTPUT_DIR/new_page_84.pdf\n",
      "🗑️ Supprimé : /teamspace/studios/this_studio/OUTPUT_DIR/new_page_352.pdf\n",
      "🗑️ Supprimé : /teamspace/studios/this_studio/OUTPUT_DIR/new_page_318.pdf\n",
      "🗑️ Supprimé : /teamspace/studios/this_studio/OUTPUT_DIR/new_page_217.pdf\n",
      "🗑️ Supprimé : /teamspace/studios/this_studio/OUTPUT_DIR/new_page_125.pdf\n",
      "🗑️ Supprimé : /teamspace/studios/this_studio/OUTPUT_DIR/new_page_100.pdf\n",
      "🗑️ Supprimé : /teamspace/studios/this_studio/OUTPUT_DIR/new_page_105.pdf\n",
      "🗑️ Supprimé : /teamspace/studios/this_studio/OUTPUT_DIR/new_page_109.pdf\n",
      "🗑️ Supprimé : /teamspace/studios/this_studio/OUTPUT_DIR/new_page_326.pdf\n",
      "🗑️ Supprimé : /teamspace/studios/this_studio/OUTPUT_DIR/new_page_96.pdf\n",
      "🗑️ Supprimé : /teamspace/studios/this_studio/OUTPUT_DIR/new_page_407.pdf\n",
      "🗑️ Supprimé : /teamspace/studios/this_studio/OUTPUT_DIR/new_page_320.pdf\n",
      "🗑️ Supprimé : /teamspace/studios/this_studio/OUTPUT_DIR/new_page_255.pdf\n",
      "🗑️ Supprimé : /teamspace/studios/this_studio/OUTPUT_DIR/new_page_58.pdf\n",
      "🗑️ Supprimé : /teamspace/studios/this_studio/OUTPUT_DIR/new_page_300.pdf\n",
      "🗑️ Supprimé : /teamspace/studios/this_studio/OUTPUT_DIR/new_page_398.pdf\n",
      "🗑️ Supprimé : /teamspace/studios/this_studio/OUTPUT_DIR/new_page_221.pdf\n",
      "🗑️ Supprimé : /teamspace/studios/this_studio/OUTPUT_DIR/new_page_24.pdf\n",
      "🗑️ Supprimé : /teamspace/studios/this_studio/OUTPUT_DIR/new_page_87.pdf\n",
      "🗑️ Supprimé : /teamspace/studios/this_studio/OUTPUT_DIR/new_page_281.pdf\n",
      "🗑️ Supprimé : /teamspace/studios/this_studio/OUTPUT_DIR/new_page_249.pdf\n",
      "🗑️ Supprimé : /teamspace/studios/this_studio/OUTPUT_DIR/new_page_347.pdf\n",
      "🗑️ Supprimé : /teamspace/studios/this_studio/OUTPUT_DIR/new_page_89.pdf\n",
      "🗑️ Supprimé : /teamspace/studios/this_studio/OUTPUT_DIR/new_page_427.pdf\n",
      "🗑️ Supprimé : /teamspace/studios/this_studio/OUTPUT_DIR/new_page_1.pdf\n",
      "🗑️ Supprimé : /teamspace/studios/this_studio/OUTPUT_DIR/new_page_214.pdf\n",
      "🗑️ Supprimé : /teamspace/studios/this_studio/OUTPUT_DIR/new_page_153.pdf\n",
      "🗑️ Supprimé : /teamspace/studios/this_studio/OUTPUT_DIR/new_page_82.pdf\n",
      "🗑️ Supprimé : /teamspace/studios/this_studio/OUTPUT_DIR/new_page_268.pdf\n",
      "🗑️ Supprimé : /teamspace/studios/this_studio/OUTPUT_DIR/new_page_162.pdf\n",
      "🗑️ Supprimé : /teamspace/studios/this_studio/OUTPUT_DIR/new_page_131.pdf\n",
      "🗑️ Supprimé : /teamspace/studios/this_studio/OUTPUT_DIR/new_page_304.pdf\n",
      "🗑️ Supprimé : /teamspace/studios/this_studio/OUTPUT_DIR/new_page_209.pdf\n",
      "🗑️ Supprimé : /teamspace/studios/this_studio/OUTPUT_DIR/new_page_239.pdf\n",
      "🗑️ Supprimé : /teamspace/studios/this_studio/OUTPUT_DIR/new_page_222.pdf\n",
      "🗑️ Supprimé : /teamspace/studios/this_studio/OUTPUT_DIR/new_page_393.pdf\n",
      "🗑️ Supprimé : /teamspace/studios/this_studio/OUTPUT_DIR/new_page_171.pdf\n",
      "🗑️ Supprimé : /teamspace/studios/this_studio/OUTPUT_DIR/new_page_442.pdf\n",
      "🗑️ Supprimé : /teamspace/studios/this_studio/OUTPUT_DIR/new_page_14.pdf\n",
      "🗑️ Supprimé : /teamspace/studios/this_studio/OUTPUT_DIR/new_page_434.pdf\n",
      "🗑️ Supprimé : /teamspace/studios/this_studio/OUTPUT_DIR/new_page_76.pdf\n",
      "🗑️ Supprimé : /teamspace/studios/this_studio/OUTPUT_DIR/new_page_384.pdf\n",
      "🗑️ Supprimé : /teamspace/studios/this_studio/OUTPUT_DIR/new_page_178.pdf\n",
      "🗑️ Supprimé : /teamspace/studios/this_studio/OUTPUT_DIR/new_page_328.pdf\n",
      "🗑️ Supprimé : /teamspace/studios/this_studio/OUTPUT_DIR/new_page_44.pdf\n",
      "🗑️ Supprimé : /teamspace/studios/this_studio/OUTPUT_DIR/new_page_371.pdf\n",
      "🗑️ Supprimé : /teamspace/studios/this_studio/OUTPUT_DIR/new_page_232.pdf\n",
      "🗑️ Supprimé : /teamspace/studios/this_studio/OUTPUT_DIR/new_page_115.pdf\n",
      "🗑️ Supprimé : /teamspace/studios/this_studio/OUTPUT_DIR/new_page_417.pdf\n",
      "🗑️ Supprimé : /teamspace/studios/this_studio/OUTPUT_DIR/new_page_152.pdf\n",
      "🗑️ Supprimé : /teamspace/studios/this_studio/OUTPUT_DIR/new_page_167.pdf\n",
      "🗑️ Supprimé : /teamspace/studios/this_studio/OUTPUT_DIR/new_page_103.pdf\n",
      "🗑️ Supprimé : /teamspace/studios/this_studio/OUTPUT_DIR/new_page_68.pdf\n",
      "🗑️ Supprimé : /teamspace/studios/this_studio/OUTPUT_DIR/new_page_311.pdf\n",
      "🗑️ Supprimé : /teamspace/studios/this_studio/OUTPUT_DIR/new_page_70.pdf\n",
      "🗑️ Supprimé : /teamspace/studios/this_studio/OUTPUT_DIR/new_page_25.pdf\n",
      "🗑️ Supprimé : /teamspace/studios/this_studio/OUTPUT_DIR/new_page_402.pdf\n",
      "🗑️ Supprimé : /teamspace/studios/this_studio/OUTPUT_DIR/new_page_375.pdf\n",
      "🗑️ Supprimé : /teamspace/studios/this_studio/OUTPUT_DIR/new_page_248.pdf\n",
      "🗑️ Supprimé : /teamspace/studios/this_studio/OUTPUT_DIR/new_page_6.pdf\n",
      "🗑️ Supprimé : /teamspace/studios/this_studio/OUTPUT_DIR/new_page_340.pdf\n",
      "🗑️ Supprimé : /teamspace/studios/this_studio/OUTPUT_DIR/new_page_310.pdf\n",
      "🗑️ Supprimé : /teamspace/studios/this_studio/OUTPUT_DIR/new_page_50.pdf\n",
      "🗑️ Supprimé : /teamspace/studios/this_studio/OUTPUT_DIR/new_page_191.pdf\n",
      "🗑️ Supprimé : /teamspace/studios/this_studio/OUTPUT_DIR/new_page_319.pdf\n",
      "🗑️ Supprimé : /teamspace/studios/this_studio/OUTPUT_DIR/new_page_376.pdf\n",
      "🗑️ Supprimé : /teamspace/studios/this_studio/OUTPUT_DIR/new_page_412.pdf\n",
      "🗑️ Supprimé : /teamspace/studios/this_studio/OUTPUT_DIR/new_page_71.pdf\n",
      "🗑️ Supprimé : /teamspace/studios/this_studio/OUTPUT_DIR/new_page_418.pdf\n",
      "🗑️ Supprimé : /teamspace/studios/this_studio/OUTPUT_DIR/new_page_425.pdf\n",
      "🗑️ Supprimé : /teamspace/studios/this_studio/OUTPUT_DIR/new_page_102.pdf\n",
      "🗑️ Supprimé : /teamspace/studios/this_studio/OUTPUT_DIR/new_page_247.pdf\n",
      "🗑️ Supprimé : /teamspace/studios/this_studio/OUTPUT_DIR/new_page_288.pdf\n",
      "🗑️ Supprimé : /teamspace/studios/this_studio/OUTPUT_DIR/new_page_339.pdf\n",
      "🗑️ Supprimé : /teamspace/studios/this_studio/OUTPUT_DIR/new_page_447.pdf\n",
      "🗑️ Supprimé : /teamspace/studios/this_studio/OUTPUT_DIR/new_page_48.pdf\n",
      "🗑️ Supprimé : /teamspace/studios/this_studio/OUTPUT_DIR/new_page_149.pdf\n",
      "🗑️ Supprimé : /teamspace/studios/this_studio/OUTPUT_DIR/new_page_97.pdf\n",
      "🗑️ Supprimé : /teamspace/studios/this_studio/OUTPUT_DIR/new_page_170.pdf\n",
      "🗑️ Supprimé : /teamspace/studios/this_studio/OUTPUT_DIR/new_page_55.pdf\n",
      "🗑️ Supprimé : /teamspace/studios/this_studio/OUTPUT_DIR/new_page_98.pdf\n",
      "🗑️ Supprimé : /teamspace/studios/this_studio/OUTPUT_DIR/new_page_165.pdf\n",
      "🗑️ Supprimé : /teamspace/studios/this_studio/OUTPUT_DIR/new_page_161.pdf\n",
      "🗑️ Supprimé : /teamspace/studios/this_studio/OUTPUT_DIR/new_page_294.pdf\n",
      "🗑️ Supprimé : /teamspace/studios/this_studio/OUTPUT_DIR/new_page_187.pdf\n",
      "🗑️ Supprimé : /teamspace/studios/this_studio/OUTPUT_DIR/new_page_60.pdf\n",
      "🗑️ Supprimé : /teamspace/studios/this_studio/OUTPUT_DIR/new_page_391.pdf\n",
      "🗑️ Supprimé : /teamspace/studios/this_studio/OUTPUT_DIR/new_page_450.pdf\n",
      "🗑️ Supprimé : /teamspace/studios/this_studio/OUTPUT_DIR/new_page_241.pdf\n",
      "🗑️ Supprimé : /teamspace/studios/this_studio/OUTPUT_DIR/new_page_263.pdf\n",
      "🗑️ Supprimé : /teamspace/studios/this_studio/OUTPUT_DIR/new_page_79.pdf\n",
      "🗑️ Supprimé : /teamspace/studios/this_studio/OUTPUT_DIR/new_page_344.pdf\n",
      "🗑️ Supprimé : /teamspace/studios/this_studio/OUTPUT_DIR/new_page_88.pdf\n",
      "🗑️ Supprimé : /teamspace/studios/this_studio/OUTPUT_DIR/new_page_423.pdf\n",
      "🗑️ Supprimé : /teamspace/studios/this_studio/OUTPUT_DIR/new_page_367.pdf\n",
      "🗑️ Supprimé : /teamspace/studios/this_studio/OUTPUT_DIR/new_page_270.pdf\n",
      "🗑️ Supprimé : /teamspace/studios/this_studio/OUTPUT_DIR/new_page_112.pdf\n",
      "🗑️ Supprimé : /teamspace/studios/this_studio/OUTPUT_DIR/new_page_374.pdf\n",
      "🗑️ Supprimé : /teamspace/studios/this_studio/OUTPUT_DIR/new_page_140.pdf\n",
      "🗑️ Supprimé : /teamspace/studios/this_studio/OUTPUT_DIR/new_page_47.pdf\n",
      "🗑️ Supprimé : /teamspace/studios/this_studio/OUTPUT_DIR/new_page_29.pdf\n",
      "🗑️ Supprimé : /teamspace/studios/this_studio/OUTPUT_DIR/new_page_246.pdf\n",
      "🗑️ Supprimé : /teamspace/studios/this_studio/OUTPUT_DIR/new_page_117.pdf\n",
      "🗑️ Supprimé : /teamspace/studios/this_studio/OUTPUT_DIR/new_page_366.pdf\n",
      "🗑️ Supprimé : /teamspace/studios/this_studio/OUTPUT_DIR/new_page_279.pdf\n",
      "🗑️ Supprimé : /teamspace/studios/this_studio/OUTPUT_DIR/new_page_285.pdf\n",
      "🗑️ Supprimé : /teamspace/studios/this_studio/OUTPUT_DIR/new_page_301.pdf\n",
      "🗑️ Supprimé : /teamspace/studios/this_studio/OUTPUT_DIR/new_page_226.pdf\n",
      "🗑️ Supprimé : /teamspace/studios/this_studio/OUTPUT_DIR/new_page_211.pdf\n",
      "🗑️ Supprimé : /teamspace/studios/this_studio/OUTPUT_DIR/new_page_132.pdf\n",
      "🗑️ Supprimé : /teamspace/studios/this_studio/OUTPUT_DIR/new_page_157.pdf\n",
      "🗑️ Supprimé : /teamspace/studios/this_studio/OUTPUT_DIR/new_page_298.pdf\n",
      "🗑️ Supprimé : /teamspace/studios/this_studio/OUTPUT_DIR/new_page_188.pdf\n",
      "🗑️ Supprimé : /teamspace/studios/this_studio/OUTPUT_DIR/new_page_15.pdf\n",
      "🗑️ Supprimé : /teamspace/studios/this_studio/OUTPUT_DIR/new_page_38.pdf\n",
      "🗑️ Supprimé : /teamspace/studios/this_studio/OUTPUT_DIR/new_page_181.pdf\n",
      "🗑️ Supprimé : /teamspace/studios/this_studio/OUTPUT_DIR/new_page_259.pdf\n",
      "🗑️ Supprimé : /teamspace/studios/this_studio/OUTPUT_DIR/new_page_432.pdf\n",
      "🗑️ Supprimé : /teamspace/studios/this_studio/OUTPUT_DIR/new_page_113.pdf\n",
      "🗑️ Supprimé : /teamspace/studios/this_studio/OUTPUT_DIR/new_page_377.pdf\n",
      "🗑️ Supprimé : /teamspace/studios/this_studio/OUTPUT_DIR/new_page_433.pdf\n",
      "🗑️ Supprimé : /teamspace/studios/this_studio/OUTPUT_DIR/new_page_369.pdf\n",
      "🗑️ Supprimé : /teamspace/studios/this_studio/OUTPUT_DIR/new_page_155.pdf\n",
      "🗑️ Supprimé : /teamspace/studios/this_studio/OUTPUT_DIR/new_page_192.pdf\n",
      "🗑️ Supprimé : /teamspace/studios/this_studio/OUTPUT_DIR/new_page_133.pdf\n",
      "🗑️ Supprimé : /teamspace/studios/this_studio/OUTPUT_DIR/new_page_86.pdf\n",
      "🗑️ Supprimé : /teamspace/studios/this_studio/OUTPUT_DIR/new_page_262.pdf\n",
      "🗑️ Supprimé : /teamspace/studios/this_studio/OUTPUT_DIR/new_page_32.pdf\n",
      "🗑️ Supprimé : /teamspace/studios/this_studio/OUTPUT_DIR/new_page_69.pdf\n",
      "🗑️ Supprimé : /teamspace/studios/this_studio/OUTPUT_DIR/new_page_437.pdf\n",
      "🗑️ Supprimé : /teamspace/studios/this_studio/OUTPUT_DIR/new_page_341.pdf\n",
      "🗑️ Supprimé : /teamspace/studios/this_studio/OUTPUT_DIR/new_page_227.pdf\n",
      "🗑️ Supprimé : /teamspace/studios/this_studio/OUTPUT_DIR/new_page_118.pdf\n",
      "🗑️ Supprimé : /teamspace/studios/this_studio/OUTPUT_DIR/new_page_317.pdf\n",
      "🗑️ Supprimé : /teamspace/studios/this_studio/OUTPUT_DIR/new_page_361.pdf\n",
      "🗑️ Supprimé : /teamspace/studios/this_studio/OUTPUT_DIR/new_page_41.pdf\n",
      "🗑️ Supprimé : /teamspace/studios/this_studio/OUTPUT_DIR/new_page_205.pdf\n",
      "🗑️ Supprimé : /teamspace/studios/this_studio/OUTPUT_DIR/new_page_124.pdf\n",
      "🗑️ Supprimé : /teamspace/studios/this_studio/OUTPUT_DIR/new_page_258.pdf\n",
      "🗑️ Supprimé : /teamspace/studios/this_studio/OUTPUT_DIR/new_page_449.pdf\n",
      "🗑️ Supprimé : /teamspace/studios/this_studio/OUTPUT_DIR/new_page_108.pdf\n",
      "🗑️ Supprimé : /teamspace/studios/this_studio/OUTPUT_DIR/new_page_177.pdf\n",
      "🗑️ Supprimé : /teamspace/studios/this_studio/OUTPUT_DIR/new_page_309.pdf\n",
      "🗑️ Supprimé : /teamspace/studios/this_studio/OUTPUT_DIR/new_page_186.pdf\n",
      "🗑️ Supprimé : /teamspace/studios/this_studio/OUTPUT_DIR/new_page_148.pdf\n",
      "🗑️ Supprimé : /teamspace/studios/this_studio/OUTPUT_DIR/new_page_219.pdf\n",
      "🗑️ Supprimé : /teamspace/studios/this_studio/OUTPUT_DIR/new_page_2.pdf\n",
      "🗑️ Supprimé : /teamspace/studios/this_studio/OUTPUT_DIR/new_page_163.pdf\n",
      "🗑️ Supprimé : /teamspace/studios/this_studio/OUTPUT_DIR/new_page_322.pdf\n",
      "🗑️ Supprimé : /teamspace/studios/this_studio/OUTPUT_DIR/new_page_254.pdf\n",
      "🗑️ Supprimé : /teamspace/studios/this_studio/OUTPUT_DIR/new_page_12.pdf\n",
      "🗑️ Supprimé : /teamspace/studios/this_studio/OUTPUT_DIR/new_page_415.pdf\n",
      "🗑️ Supprimé : /teamspace/studios/this_studio/OUTPUT_DIR/new_page_137.pdf\n",
      "🗑️ Supprimé : /teamspace/studios/this_studio/OUTPUT_DIR/new_page_26.pdf\n",
      "🗑️ Supprimé : /teamspace/studios/this_studio/OUTPUT_DIR/new_page_18.pdf\n",
      "🗑️ Supprimé : /teamspace/studios/this_studio/OUTPUT_DIR/new_page_107.pdf\n",
      "🗑️ Supprimé : /teamspace/studios/this_studio/OUTPUT_DIR/new_page_7.pdf\n",
      "🗑️ Supprimé : /teamspace/studios/this_studio/OUTPUT_DIR/new_page_216.pdf\n",
      "🗑️ Supprimé : /teamspace/studios/this_studio/OUTPUT_DIR/new_page_233.pdf\n",
      "🗑️ Supprimé : /teamspace/studios/this_studio/OUTPUT_DIR/new_page_169.pdf\n",
      "🗑️ Supprimé : /teamspace/studios/this_studio/OUTPUT_DIR/new_page_53.pdf\n",
      "🗑️ Supprimé : /teamspace/studios/this_studio/OUTPUT_DIR/new_page_174.pdf\n",
      "🗑️ Supprimé : /teamspace/studios/this_studio/OUTPUT_DIR/new_page_196.pdf\n",
      "🗑️ Supprimé : /teamspace/studios/this_studio/OUTPUT_DIR/new_page_57.pdf\n",
      "🗑️ Supprimé : /teamspace/studios/this_studio/OUTPUT_DIR/new_page_343.pdf\n",
      "🗑️ Supprimé : /teamspace/studios/this_studio/OUTPUT_DIR/new_page_277.pdf\n",
      "🗑️ Supprimé : /teamspace/studios/this_studio/OUTPUT_DIR/new_page_31.pdf\n",
      "🗑️ Supprimé : /teamspace/studios/this_studio/OUTPUT_DIR/new_page_354.pdf\n",
      "🗑️ Supprimé : /teamspace/studios/this_studio/OUTPUT_DIR/new_page_372.pdf\n",
      "🗑️ Supprimé : /teamspace/studios/this_studio/OUTPUT_DIR/new_page_438.pdf\n",
      "🗑️ Supprimé : /teamspace/studios/this_studio/OUTPUT_DIR/new_page_10.pdf\n",
      "🗑️ Supprimé : /teamspace/studios/this_studio/OUTPUT_DIR/new_page_275.pdf\n",
      "🗑️ Supprimé : /teamspace/studios/this_studio/OUTPUT_DIR/new_page_156.pdf\n",
      "🗑️ Supprimé : /teamspace/studios/this_studio/OUTPUT_DIR/new_page_4.pdf\n",
      "🗑️ Supprimé : /teamspace/studios/this_studio/OUTPUT_DIR/new_page_261.pdf\n",
      "🗑️ Supprimé : /teamspace/studios/this_studio/OUTPUT_DIR/new_page_333.pdf\n",
      "🗑️ Supprimé : /teamspace/studios/this_studio/OUTPUT_DIR/new_page_201.pdf\n",
      "🗑️ Supprimé : /teamspace/studios/this_studio/OUTPUT_DIR/new_page_363.pdf\n",
      "🗑️ Supprimé : /teamspace/studios/this_studio/OUTPUT_DIR/new_page_142.pdf\n",
      "🗑️ Supprimé : /teamspace/studios/this_studio/OUTPUT_DIR/new_page_111.pdf\n",
      "🗑️ Supprimé : /teamspace/studios/this_studio/OUTPUT_DIR/new_page_59.pdf\n",
      "🗑️ Supprimé : /teamspace/studios/this_studio/OUTPUT_DIR/new_page_385.pdf\n",
      "🗑️ Supprimé : /teamspace/studios/this_studio/OUTPUT_DIR/new_page_399.pdf\n",
      "🗑️ Supprimé : /teamspace/studios/this_studio/OUTPUT_DIR/new_page_348.pdf\n",
      "🗑️ Supprimé : /teamspace/studios/this_studio/OUTPUT_DIR/new_page_332.pdf\n",
      "🗑️ Supprimé : /teamspace/studios/this_studio/OUTPUT_DIR/new_page_240.pdf\n",
      "🗑️ Supprimé : /teamspace/studios/this_studio/OUTPUT_DIR/new_page_378.pdf\n",
      "🗑️ Supprimé : /teamspace/studios/this_studio/OUTPUT_DIR/new_page_245.pdf\n",
      "🗑️ Supprimé : /teamspace/studios/this_studio/OUTPUT_DIR/new_page_269.pdf\n",
      "🗑️ Supprimé : /teamspace/studios/this_studio/OUTPUT_DIR/new_page_260.pdf\n",
      "🗑️ Supprimé : /teamspace/studios/this_studio/OUTPUT_DIR/new_page_73.pdf\n",
      "🗑️ Supprimé : /teamspace/studios/this_studio/OUTPUT_DIR/new_page_389.pdf\n",
      "🗑️ Supprimé : /teamspace/studios/this_studio/OUTPUT_DIR/new_page_400.pdf\n",
      "🗑️ Supprimé : /teamspace/studios/this_studio/OUTPUT_DIR/new_page_413.pdf\n",
      "🗑️ Supprimé : /teamspace/studios/this_studio/OUTPUT_DIR/new_page_104.pdf\n",
      "🗑️ Supprimé : /teamspace/studios/this_studio/OUTPUT_DIR/new_page_77.pdf\n",
      "🗑️ Supprimé : /teamspace/studios/this_studio/OUTPUT_DIR/new_page_266.pdf\n",
      "🗑️ Supprimé : /teamspace/studios/this_studio/OUTPUT_DIR/new_page_138.pdf\n",
      "🗑️ Supprimé : /teamspace/studios/this_studio/OUTPUT_DIR/new_page_291.pdf\n",
      "🗑️ Supprimé : /teamspace/studios/this_studio/OUTPUT_DIR/new_page_203.pdf\n",
      "🗑️ Supprimé : /teamspace/studios/this_studio/OUTPUT_DIR/new_page_422.pdf\n",
      "🗑️ Supprimé : /teamspace/studios/this_studio/OUTPUT_DIR/new_page_229.pdf\n",
      "🗑️ Supprimé : /teamspace/studios/this_studio/OUTPUT_DIR/new_page_299.pdf\n",
      "🗑️ Supprimé : /teamspace/studios/this_studio/OUTPUT_DIR/new_page_75.pdf\n",
      "🗑️ Supprimé : /teamspace/studios/this_studio/OUTPUT_DIR/new_page_78.pdf\n",
      "🗑️ Supprimé : /teamspace/studios/this_studio/OUTPUT_DIR/new_page_312.pdf\n",
      "🗑️ Supprimé : /teamspace/studios/this_studio/OUTPUT_DIR/new_page_172.pdf\n",
      "🗑️ Supprimé : /teamspace/studios/this_studio/OUTPUT_DIR/new_page_411.pdf\n",
      "🗑️ Supprimé : /teamspace/studios/this_studio/OUTPUT_DIR/new_page_185.pdf\n",
      "🗑️ Supprimé : /teamspace/studios/this_studio/OUTPUT_DIR/new_page_175.pdf\n",
      "🗑️ Supprimé : /teamspace/studios/this_studio/OUTPUT_DIR/new_page_280.pdf\n",
      "🗑️ Supprimé : /teamspace/studios/this_studio/OUTPUT_DIR/new_page_336.pdf\n",
      "🗑️ Supprimé : /teamspace/studios/this_studio/OUTPUT_DIR/new_page_265.pdf\n",
      "🗑️ Supprimé : /teamspace/studios/this_studio/OUTPUT_DIR/new_page_34.pdf\n",
      "🗑️ Supprimé : /teamspace/studios/this_studio/OUTPUT_DIR/new_page_435.pdf\n",
      "🗑️ Supprimé : /teamspace/studios/this_studio/OUTPUT_DIR/new_page_396.pdf\n",
      "🗑️ Supprimé : /teamspace/studios/this_studio/OUTPUT_DIR/new_page_253.pdf\n",
      "🗑️ Supprimé : /teamspace/studios/this_studio/OUTPUT_DIR/new_page_106.pdf\n",
      "🗑️ Supprimé : /teamspace/studios/this_studio/OUTPUT_DIR/new_page_408.pdf\n",
      "🗑️ Supprimé : /teamspace/studios/this_studio/OUTPUT_DIR/new_page_72.pdf\n",
      "🗑️ Supprimé : /teamspace/studios/this_studio/OUTPUT_DIR/new_page_360.pdf\n",
      "🗑️ Supprimé : /teamspace/studios/this_studio/OUTPUT_DIR/new_page_202.pdf\n",
      "🗑️ Supprimé : /teamspace/studios/this_studio/OUTPUT_DIR/new_page_446.pdf\n",
      "🗑️ Supprimé : /teamspace/studios/this_studio/OUTPUT_DIR/new_page_302.pdf\n",
      "🗑️ Supprimé : /teamspace/studios/this_studio/OUTPUT_DIR/new_page_330.pdf\n",
      "🗑️ Supprimé : /teamspace/studios/this_studio/OUTPUT_DIR/new_page_114.pdf\n",
      "🗑️ Supprimé : /teamspace/studios/this_studio/OUTPUT_DIR/new_page_16.pdf\n",
      "🗑️ Supprimé : /teamspace/studios/this_studio/OUTPUT_DIR/new_page_61.pdf\n",
      "🗑️ Supprimé : /teamspace/studios/this_studio/OUTPUT_DIR/new_page_403.pdf\n",
      "🗑️ Supprimé : /teamspace/studios/this_studio/OUTPUT_DIR/new_page_373.pdf\n",
      "🗑️ Supprimé : /teamspace/studios/this_studio/OUTPUT_DIR/new_page_287.pdf\n",
      "🗑️ Supprimé : /teamspace/studios/this_studio/OUTPUT_DIR/new_page_358.pdf\n",
      "🗑️ Supprimé : /teamspace/studios/this_studio/OUTPUT_DIR/new_page_388.pdf\n",
      "🗑️ Supprimé : /teamspace/studios/this_studio/OUTPUT_DIR/new_page_80.pdf\n",
      "🗑️ Supprimé : /teamspace/studios/this_studio/OUTPUT_DIR/new_page_134.pdf\n",
      "🗑️ Supprimé : /teamspace/studios/this_studio/OUTPUT_DIR/new_page_386.pdf\n",
      "🗑️ Supprimé : /teamspace/studios/this_studio/OUTPUT_DIR/new_page_405.pdf\n",
      "🗑️ Supprimé : /teamspace/studios/this_studio/OUTPUT_DIR/new_page_65.pdf\n",
      "🗑️ Supprimé : /teamspace/studios/this_studio/OUTPUT_DIR/new_page_314.pdf\n",
      "🗑️ Supprimé : /teamspace/studios/this_studio/OUTPUT_DIR/new_page_130.pdf\n",
      "🗑️ Supprimé : /teamspace/studios/this_studio/OUTPUT_DIR/new_page_243.pdf\n",
      "🗑️ Supprimé : /teamspace/studios/this_studio/OUTPUT_DIR/new_page_166.pdf\n",
      "🗑️ Supprimé : /teamspace/studios/this_studio/OUTPUT_DIR/new_page_28.pdf\n",
      "🗑️ Supprimé : /teamspace/studios/this_studio/OUTPUT_DIR/new_page_426.pdf\n",
      "🗑️ Supprimé : /teamspace/studios/this_studio/OUTPUT_DIR/new_page_321.pdf\n",
      "🗑️ Supprimé : /teamspace/studios/this_studio/OUTPUT_DIR/new_page_331.pdf\n",
      "🗑️ Supprimé : /teamspace/studios/this_studio/OUTPUT_DIR/new_page_306.pdf\n",
      "🗑️ Supprimé : /teamspace/studios/this_studio/OUTPUT_DIR/new_page_83.pdf\n",
      "🗑️ Supprimé : /teamspace/studios/this_studio/OUTPUT_DIR/new_page_252.pdf\n",
      "🗑️ Supprimé : /teamspace/studios/this_studio/OUTPUT_DIR/new_page_66.pdf\n",
      "🗑️ Supprimé : /teamspace/studios/this_studio/OUTPUT_DIR/new_page_308.pdf\n",
      "🗑️ Supprimé : /teamspace/studios/this_studio/OUTPUT_DIR/new_page_278.pdf\n",
      "🗑️ Supprimé : /teamspace/studios/this_studio/OUTPUT_DIR/new_page_93.pdf\n",
      "🗑️ Supprimé : /teamspace/studios/this_studio/OUTPUT_DIR/new_page_387.pdf\n",
      "🗑️ Supprimé : /teamspace/studios/this_studio/OUTPUT_DIR/new_page_381.pdf\n",
      "🗑️ Supprimé : /teamspace/studios/this_studio/OUTPUT_DIR/new_page_62.pdf\n",
      "🗑️ Supprimé : /teamspace/studios/this_studio/OUTPUT_DIR/new_page_406.pdf\n",
      "🗑️ Supprimé : /teamspace/studios/this_studio/OUTPUT_DIR/new_page_264.pdf\n",
      "🗑️ Supprimé : /teamspace/studios/this_studio/OUTPUT_DIR/new_page_208.pdf\n",
      "🗑️ Supprimé : /teamspace/studios/this_studio/OUTPUT_DIR/new_page_313.pdf\n",
      "🗑️ Supprimé : /teamspace/studios/this_studio/OUTPUT_DIR/new_page_404.pdf\n",
      "🗑️ Supprimé : /teamspace/studios/this_studio/OUTPUT_DIR/new_page_99.pdf\n",
      "🗑️ Supprimé : /teamspace/studios/this_studio/OUTPUT_DIR/new_page_23.pdf\n",
      "🗑️ Supprimé : /teamspace/studios/this_studio/OUTPUT_DIR/new_page_329.pdf\n",
      "🗑️ Supprimé : /teamspace/studios/this_studio/OUTPUT_DIR/new_page_116.pdf\n",
      "🗑️ Supprimé : /teamspace/studios/this_studio/OUTPUT_DIR/new_page_420.pdf\n",
      "🗑️ Supprimé : /teamspace/studios/this_studio/OUTPUT_DIR/new_page_297.pdf\n",
      "🗑️ Supprimé : /teamspace/studios/this_studio/OUTPUT_DIR/new_page_120.pdf\n",
      "🗑️ Supprimé : /teamspace/studios/this_studio/OUTPUT_DIR/new_page_195.pdf\n",
      "🗑️ Supprimé : /teamspace/studios/this_studio/OUTPUT_DIR/new_page_45.pdf\n",
      "🗑️ Supprimé : /teamspace/studios/this_studio/OUTPUT_DIR/new_page_272.pdf\n",
      "🗑️ Supprimé : /teamspace/studios/this_studio/OUTPUT_DIR/new_page_235.pdf\n",
      "🗑️ Supprimé : /teamspace/studios/this_studio/OUTPUT_DIR/new_page_126.pdf\n",
      "🗑️ Supprimé : /teamspace/studios/this_studio/OUTPUT_DIR/new_page_159.pdf\n",
      "🗑️ Supprimé : /teamspace/studios/this_studio/OUTPUT_DIR/new_page_410.pdf\n",
      "🗑️ Supprimé : /teamspace/studios/this_studio/OUTPUT_DIR/new_page_274.pdf\n",
      "🗑️ Supprimé : /teamspace/studios/this_studio/OUTPUT_DIR/new_page_303.pdf\n",
      "🗑️ Supprimé : /teamspace/studios/this_studio/OUTPUT_DIR/new_page_323.pdf\n",
      "🗑️ Supprimé : /teamspace/studios/this_studio/OUTPUT_DIR/new_page_436.pdf\n",
      "🗑️ Supprimé : /teamspace/studios/this_studio/OUTPUT_DIR/new_page_30.pdf\n",
      "🗑️ Supprimé : /teamspace/studios/this_studio/OUTPUT_DIR/new_page_46.pdf\n",
      "🗑️ Supprimé : /teamspace/studios/this_studio/OUTPUT_DIR/new_page_43.pdf\n",
      "🗑️ Supprimé : /teamspace/studios/this_studio/OUTPUT_DIR/new_page_231.pdf\n",
      "🗑️ Supprimé : /teamspace/studios/this_studio/OUTPUT_DIR/new_page_421.pdf\n",
      "🗑️ Supprimé : /teamspace/studios/this_studio/OUTPUT_DIR/new_page_197.pdf\n",
      "🗑️ Supprimé : /teamspace/studios/this_studio/OUTPUT_DIR/new_page_370.pdf\n",
      "🗑️ Supprimé : /teamspace/studios/this_studio/OUTPUT_DIR/new_page_365.pdf\n",
      "🗑️ Supprimé : /teamspace/studios/this_studio/OUTPUT_DIR/new_page_362.pdf\n",
      "🗑️ Supprimé : /teamspace/studios/this_studio/OUTPUT_DIR/new_page_9.pdf\n",
      "🗑️ Supprimé : /teamspace/studios/this_studio/OUTPUT_DIR/new_page_349.pdf\n",
      "🗑️ Supprimé : /teamspace/studios/this_studio/OUTPUT_DIR/new_page_357.pdf\n",
      "🗑️ Supprimé : /teamspace/studios/this_studio/OUTPUT_DIR/new_page_204.pdf\n",
      "🗑️ Supprimé : /teamspace/studios/this_studio/OUTPUT_DIR/new_page_168.pdf\n",
      "🗑️ Supprimé : /teamspace/studios/this_studio/OUTPUT_DIR/new_page_20.pdf\n",
      "🗑️ Supprimé : /teamspace/studios/this_studio/OUTPUT_DIR/new_page_276.pdf\n",
      "🗑️ Supprimé : /teamspace/studios/this_studio/OUTPUT_DIR/new_page_122.pdf\n",
      "🗑️ Supprimé : /teamspace/studios/this_studio/OUTPUT_DIR/new_page_127.pdf\n",
      "🗑️ Supprimé : /teamspace/studios/this_studio/OUTPUT_DIR/new_page_429.pdf\n",
      "🗑️ Supprimé : /teamspace/studios/this_studio/OUTPUT_DIR/new_page_286.pdf\n",
      "🗑️ Supprimé : /teamspace/studios/this_studio/OUTPUT_DIR/new_page_194.pdf\n",
      "🗑️ Supprimé : /teamspace/studios/this_studio/OUTPUT_DIR/new_page_35.pdf\n",
      "🗑️ Supprimé : /teamspace/studios/this_studio/OUTPUT_DIR/new_page_141.pdf\n",
      "🗑️ Supprimé : /teamspace/studios/this_studio/OUTPUT_DIR/new_page_36.pdf\n",
      "🗑️ Supprimé : /teamspace/studios/this_studio/OUTPUT_DIR/new_page_283.pdf\n",
      "🗑️ Supprimé : /teamspace/studios/this_studio/OUTPUT_DIR/new_page_37.pdf\n",
      "🗑️ Supprimé : /teamspace/studios/this_studio/OUTPUT_DIR/new_page_355.pdf\n",
      "🗑️ Supprimé : /teamspace/studios/this_studio/OUTPUT_DIR/new_page_296.pdf\n",
      "🗑️ Supprimé : /teamspace/studios/this_studio/OUTPUT_DIR/new_page_351.pdf\n",
      "🗑️ Supprimé : /teamspace/studios/this_studio/OUTPUT_DIR/new_page_337.pdf\n",
      "🗑️ Supprimé : /teamspace/studios/this_studio/OUTPUT_DIR/new_page_225.pdf\n",
      "🗑️ Supprimé : /teamspace/studios/this_studio/OUTPUT_DIR/new_page_242.pdf\n",
      "🗑️ Supprimé : /teamspace/studios/this_studio/OUTPUT_DIR/new_page_324.pdf\n",
      "🗑️ Supprimé : /teamspace/studios/this_studio/OUTPUT_DIR/new_page_40.pdf\n",
      "🗑️ Supprimé : /teamspace/studios/this_studio/OUTPUT_DIR/new_page_416.pdf\n",
      "🗑️ Supprimé : /teamspace/studios/this_studio/OUTPUT_DIR/new_page_439.pdf\n",
      "🗑️ Supprimé : /teamspace/studios/this_studio/OUTPUT_DIR/new_page_292.pdf\n",
      "🗑️ Supprimé : /teamspace/studios/this_studio/OUTPUT_DIR/new_page_307.pdf\n",
      "🗑️ Supprimé : /teamspace/studios/this_studio/OUTPUT_DIR/new_page_179.pdf\n",
      "🗑️ Supprimé : /teamspace/studios/this_studio/OUTPUT_DIR/new_page_143.pdf\n",
      "📁 Dossier supprimé : /teamspace/studios/this_studio/OUTPUT_DIR\n"
     ]
    }
   ],
   "source": [
    "import os\n",
    "import glob\n",
    "import shutil\n",
    "\n",
    "# Dossier contenant les images extraites\n",
    "IMAGES_DIR = \"extracted_images\"\n",
    "OUTPUT_DIR = \"/teamspace/studios/this_studio/OUTPUT_DIR\"\n",
    "TEXT_DIR=\"/teamspace/studios/this_studio/extracted_text\"\n",
    "README_DIR=\"/teamspace/studios/this_studio/extracted_readme\"\n",
    "\n",
    "\n",
    "\n",
    "def clean_generated_files(base_name, total_pages):\n",
    "    \"\"\"Supprime les fichiers .txt, .md et les images générées\"\"\"\n",
    "    # Supprimer les fichiers texte et markdown\n",
    "    \n",
    "    if os.path.exists(TEXT_DIR):\n",
    "        files = glob.glob(os.path.join(TEXT_DIR, \"*.txt\"))\n",
    "        for img_file in files:\n",
    "            os.remove(img_file)\n",
    "            print(f\"🗑️ Supprimé : {img_file}\")\n",
    "        \n",
    "        \n",
    "        if not os.listdir(TEXT_DIR):\n",
    "            os.rmdir(TEXT_DIR)\n",
    "            print(f\"📁 Dossier supprimé : {TEXT_DIR}\")\n",
    "\n",
    "\n",
    "    if os.path.exists(README_DIR):\n",
    "        files = glob.glob(os.path.join(README_DIR, \"*.md\"))\n",
    "        for img_file in files:\n",
    "            os.remove(img_file)\n",
    "            print(f\"🗑️ Supprimé : {img_file}\")\n",
    "        \n",
    "        \n",
    "        if not os.listdir(README_DIR):\n",
    "            os.rmdir(README_DIR)\n",
    "            print(f\"📁 Dossier supprimé : {README_DIR}\")\n",
    "\n",
    "\n",
    "\n",
    "    # Supprimer les images extraites\n",
    "    if os.path.exists(IMAGES_DIR):\n",
    "        files = glob.glob(os.path.join(IMAGES_DIR, \"*.png\"))\n",
    "        for img_file in files:\n",
    "            os.remove(img_file)\n",
    "            print(f\"🗑️ Supprimé : {img_file}\")\n",
    "        \n",
    "      \n",
    "        if not os.listdir(IMAGES_DIR):\n",
    "            os.rmdir(IMAGES_DIR)\n",
    "            print(f\"📁 Dossier supprimé : {IMAGES_DIR}\")\n",
    "\n",
    "    # Supprimer les images extraites\n",
    "    if os.path.exists(OUTPUT_DIR):\n",
    "        files = glob.glob(os.path.join(OUTPUT_DIR, \"*.pdf\"))\n",
    "        for img_file in files:\n",
    "            os.remove(img_file)\n",
    "            print(f\"🗑️ Supprimé : {img_file}\")\n",
    "            \n",
    "        files = glob.glob(os.path.join(OUTPUT_DIR, \"*.png\"))\n",
    "        for img_file in files:\n",
    "            os.remove(img_file)\n",
    "            print(f\"🗑️ Supprimé : {img_file}\")\n",
    "        \n",
    "        if not os.listdir(OUTPUT_DIR):\n",
    "            os.rmdir(OUTPUT_DIR)\n",
    "            print(f\"📁 Dossier supprimé : {OUTPUT_DIR}\")\n",
    "    \n",
    "# Exemple : tu as généré 5 pages à partir de \"new\"\n",
    "clean_generated_files(base_name=\"new\", total_pages=450)\n"
   ]
  }
 ],
 "metadata": {
  "language_info": {
   "name": "python"
  }
 },
 "nbformat": 4,
 "nbformat_minor": 2
}
